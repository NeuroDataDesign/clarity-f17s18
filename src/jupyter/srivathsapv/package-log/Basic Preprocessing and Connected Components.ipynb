{
 "cells": [
  {
   "cell_type": "markdown",
   "metadata": {},
   "source": [
    "# Basic Preprocessing and Connected Components"
   ]
  },
  {
   "cell_type": "code",
   "execution_count": 21,
   "metadata": {
    "collapsed": true
   },
   "outputs": [],
   "source": [
    "from tifffile import imread, imsave\n",
    "import numpy as np\n",
    "import matplotlib.pyplot as plt\n",
    "\n",
    "exp_name = 'cell_detection_9'\n",
    "n_components = 2\n",
    "\n",
    "def show_image(img_3d, slice_z):\n",
    "    if slice_z:\n",
    "        img_slice = img_3d[slice_z, :, :]\n",
    "    else:\n",
    "        img_slice = img_3d\n",
    "            \n",
    "    plt.imshow(img_slice, cmap=plt.cm.gray)\n",
    "    plt.figure(figsize=(800,800))\n",
    "    plt.show()"
   ]
  },
  {
   "cell_type": "markdown",
   "metadata": {},
   "source": [
    "## Image Histogram"
   ]
  },
  {
   "cell_type": "code",
   "execution_count": 22,
   "metadata": {},
   "outputs": [],
   "source": [
    "img = imread('{}.tiff'.format(exp_name))\n",
    "\n",
    "fig1, p1 = plt.subplots()\n",
    "\n",
    "p1.hist(img.flatten(), bins=256, range=[0,5000])\n",
    "p1.set_xlabel('Intensity')\n",
    "p1.set_ylabel('Voxel Count')\n",
    "p1.set_title('Image Histogram - Low Intensity')\n",
    "fig1.savefig('hist_low_{}.png'.format(exp_name))\n",
    "\n",
    "fig2, p2 = plt.subplots()\n",
    "\n",
    "p2.hist(img.flatten(), bins=256, range=[5000,img.max()])\n",
    "p2.set_xlabel('Intensity')\n",
    "p2.set_ylabel('Voxel Count')\n",
    "p2.set_title('Image Histogram - High Intensity')\n",
    "fig2.savefig('hist_high_{}.png'.format(exp_name))\n",
    "\n",
    "shape_z, shape_y, shape_x = img.shape"
   ]
  },
  {
   "cell_type": "code",
   "execution_count": 5,
   "metadata": {},
   "outputs": [
    {
     "name": "stdout",
     "output_type": "stream",
     "text": [
      "12478.5\n"
     ]
    },
    {
     "data": {
      "image/png": "[encoded data removed]",
      "text/plain": [
       "<matplotlib.figure.Figure at 0x1147c2080>"
      ]
     },
     "metadata": {},
     "output_type": "display_data"
    },
    {
     "data": {
      "text/plain": [
       "<matplotlib.figure.Figure at 0x11c9514a8>"
      ]
     },
     "metadata": {},
     "output_type": "display_data"
    }
   ],
   "source": [
    "from sklearn.cluster import KMeans\n",
    "from sklearn.mixture import GaussianMixture\n",
    "import scipy.stats\n",
    "import time\n",
    "\n",
    "SOME_BIG_VALUE = img.max() + 1000\n",
    "\n",
    "def gmm_img(data_points):\n",
    "    gmm = GaussianMixture(n_components=n_components, covariance_type='full').fit(data_points)\n",
    "    cluster_labels = gmm.predict(data_points)\n",
    "    cluster_centers = np.empty((n_components, len(data_points[0])))\n",
    "\n",
    "    for i in range(n_components):\n",
    "        density = scipy.stats.multivariate_normal(cov=gmm.covariances_[i], mean=gmm.means_[i], allow_singular=True).logpdf(data_points)\n",
    "        cluster_centers[i, :] = data_points[np.argmax(density)]\n",
    "    \n",
    "    cluster_int = [p[0] for p in cluster_centers]\n",
    "    cluster_int.sort()\n",
    "    \n",
    "    max_intensity = cluster_int[::-1][0]\n",
    "    medium_intensity = cluster_int[::-1][1]\n",
    "    \n",
    "    avg_intensity = (float(max_intensity) + float(medium_intensity))/2.0\n",
    "    \n",
    "    new_img = np.ndarray((shape_z, shape_y, shape_x))\n",
    "    np.copyto(new_img, img)\n",
    "    \n",
    "    print(avg_intensity)\n",
    "    \n",
    "    new_img[img >= avg_intensity] = 255\n",
    "    new_img[img < avg_intensity] = 0\n",
    "    \n",
    "    return new_img\n",
    "\n",
    "start = time.clock()\n",
    "\n",
    "uniq = np.unique(img, return_counts=True)\n",
    "data_points = [p for p in zip(*uniq)]\n",
    "gm_img = gmm_img(data_points)\n",
    "imsave('{}-thresholded.tiff'.format(exp_name), gm_img.astype(np.uint8))\n",
    "show_image(gm_img, 50)\n"
   ]
  },
  {
   "cell_type": "markdown",
   "metadata": {},
   "source": [
    "# Erosion"
   ]
  },
  {
   "cell_type": "code",
   "execution_count": 4,
   "metadata": {},
   "outputs": [
    {
     "data": {
      "image/png": "[encoded data removed]",
      "text/plain": [
       "<matplotlib.figure.Figure at 0x11633feb8>"
      ]
     },
     "metadata": {},
     "output_type": "display_data"
    },
    {
     "data": {
      "text/plain": [
       "<matplotlib.figure.Figure at 0x116679dd8>"
      ]
     },
     "metadata": {},
     "output_type": "display_data"
    }
   ],
   "source": [
    "from skimage.morphology import binary_erosion\n",
    "\n",
    "eroded_img = binary_erosion(gm_img)\n",
    "show_image(eroded_img, 50)"
   ]
  },
  {
   "cell_type": "markdown",
   "metadata": {},
   "source": [
    "## Connected Components"
   ]
  },
  {
   "cell_type": "code",
   "execution_count": 5,
   "metadata": {},
   "outputs": [
    {
     "data": {
      "image/png": "[encoded data removed]",
      "text/plain": [
       "<matplotlib.figure.Figure at 0x11f518748>"
      ]
     },
     "metadata": {},
     "output_type": "display_data"
    },
    {
     "name": "stdout",
     "output_type": "stream",
     "text": [
      "198\n",
      "Predictions saved to CSV\n",
      "2.6445600000000002\n"
     ]
    }
   ],
   "source": [
    "from skimage import measure\n",
    "import math\n",
    "import csv\n",
    "\n",
    "if n_components == 2:\n",
    "    cc_img = measure.label(gm_img, background=0)\n",
    "else:\n",
    "    cc_img = measure.label(eroded_img, background=0)\n",
    "        \n",
    "plt.imshow(cc_img[30, :, :])\n",
    "plt.show()\n",
    "\n",
    "centroids = [[round(x.centroid[0]), round(x.centroid[1]), round(x.centroid[2])] for x in measure.regionprops(cc_img)]\n",
    "\n",
    "print(len(centroids))\n",
    "    \n",
    "with open('{}_predicted.csv'.format(exp_name), 'w') as csv_file:\n",
    "    writer = csv.writer(csv_file)\n",
    "    writer.writerows(centroids)\n",
    "\n",
    "print('Predictions saved to CSV')\n",
    "end = time.clock()\n",
    "print(end - start)"
   ]
  },
  {
   "cell_type": "code",
   "execution_count": null,
   "metadata": {
    "collapsed": true
   },
   "outputs": [],
   "source": []
  }
 ],
 "metadata": {
  "kernelspec": {
   "display_name": "Python [conda env:py36]",
   "language": "python",
   "name": "conda-env-py36-py"
  },
  "language_info": {
   "codemirror_mode": {
    "name": "ipython",
    "version": 3
   },
   "file_extension": ".py",
   "mimetype": "text/x-python",
   "name": "python",
   "nbconvert_exporter": "python",
   "pygments_lexer": "ipython3",
   "version": "3.6.2"
  }
 },
 "nbformat": 4,
 "nbformat_minor": 2
}
