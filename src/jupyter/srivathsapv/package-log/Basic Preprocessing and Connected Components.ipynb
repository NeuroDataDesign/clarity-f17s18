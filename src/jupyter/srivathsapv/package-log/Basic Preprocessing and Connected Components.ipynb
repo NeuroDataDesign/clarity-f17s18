{
 "cells": [
  {
   "cell_type": "markdown",
   "metadata": {},
   "source": [
    "# Basic Preprocessing and Connected Components"
   ]
  },
  {
   "cell_type": "code",
   "execution_count": 8,
   "metadata": {
    "collapsed": true
   },
   "outputs": [],
   "source": [
    "from tifffile import imread, imsave\n",
    "import numpy as np\n",
    "import matplotlib.pyplot as plt\n",
    "import cv2\n",
    "\n",
    "exp_name = 'cell_detection_8'\n",
    "\n",
    "def show_image(img_3d, slice_z):\n",
    "    if slice_z:\n",
    "        img_slice = img_3d[slice_z, :, :]\n",
    "    else:\n",
    "        img_slice = img_3d\n",
    "            \n",
    "    plt.imshow(img_slice, cmap=plt.cm.gray)\n",
    "    plt.figure(figsize=(800,800))\n",
    "    plt.show()"
   ]
  },
  {
   "cell_type": "markdown",
   "metadata": {},
   "source": [
    "## Image Histogram"
   ]
  },
  {
   "cell_type": "code",
   "execution_count": 16,
   "metadata": {},
   "outputs": [
    {
     "data": {
      "image/png": "[encoded data removed]",
      "text/plain": [
       "<matplotlib.figure.Figure at 0x1168b9e80>"
      ]
     },
     "metadata": {},
     "output_type": "display_data"
    },
    {
     "data": {
      "image/png": "[encoded data removed]",
      "text/plain": [
       "<matplotlib.figure.Figure at 0x10df3b4e0>"
      ]
     },
     "metadata": {},
     "output_type": "display_data"
    }
   ],
   "source": [
    "img = imread('{}.tiff'.format(exp_name))\n",
    "\n",
    "uniq = np.unique(img, return_counts=True)\n",
    "\n",
    "uniq_set_high_intensity = [(v, uniq[1][i]) for i,v in enumerate(uniq[0]) if v >= 38000]\n",
    "hist_x_hi = [p[0] for p in uniq_set_high_intensity]\n",
    "hist_y_hi = [p[1] for p in uniq_set_high_intensity]\n",
    "\n",
    "uniq_set_low_intensity = [(v, uniq[1][i]) for i,v in enumerate(uniq[0]) if v < 38000]\n",
    "hist_x_li = [p[0] for p in uniq_set_low_intensity]\n",
    "hist_y_li = [p[1] for p in uniq_set_low_intensity]\n",
    "\n",
    "plt.plot(hist_x_li, hist_y_li)\n",
    "plt.xlabel('Intensity')\n",
    "plt.ylabel('Voxel Count')\n",
    "plt.title('Histogram of Low Intensity Region')\n",
    "\n",
    "plt.savefig('hist_low.png')\n",
    "plt.show()\n",
    "\n",
    "\n",
    "plt.plot(hist_x_hi, hist_y_hi)\n",
    "plt.xlabel('Intensity')\n",
    "plt.ylabel('Voxel Count')\n",
    "plt.title('Histogram of High Intensity Region')\n",
    "\n",
    "plt.savefig('hist_high.png')\n",
    "plt.show()\n",
    "\n",
    "\n",
    "\n",
    "shape_z, shape_y, shape_x = img.shape"
   ]
  },
  {
   "cell_type": "markdown",
   "metadata": {},
   "source": [
    "## GMM Clustering"
   ]
  },
  {
   "cell_type": "code",
   "execution_count": 10,
   "metadata": {},
   "outputs": [
    {
     "name": "stdout",
     "output_type": "stream",
     "text": [
      "38779\n"
     ]
    },
    {
     "data": {
      "image/png": "[encoded data removed]",
      "text/plain": [
       "<matplotlib.figure.Figure at 0x11e7f55c0>"
      ]
     },
     "metadata": {},
     "output_type": "display_data"
    },
    {
     "data": {
      "text/plain": [
       "<matplotlib.figure.Figure at 0x116ffa6d8>"
      ]
     },
     "metadata": {},
     "output_type": "display_data"
    }
   ],
   "source": [
    "from sklearn.cluster import KMeans\n",
    "from sklearn.mixture import GaussianMixture\n",
    "import scipy.stats\n",
    "import time\n",
    "\n",
    "SOME_BIG_VALUE = img.max() + 1000\n",
    "\n",
    "def gmm_img(data_points):\n",
    "    n_components = 3\n",
    "    gmm = GaussianMixture(n_components=n_components, covariance_type='full').fit(data_points)\n",
    "    cluster_labels = gmm.predict(data_points)\n",
    "    cluster_centers = np.empty((n_components, len(data_points[0])))\n",
    "\n",
    "    for i in range(n_components):\n",
    "        density = scipy.stats.multivariate_normal(cov=gmm.covariances_[i], mean=gmm.means_[i], allow_singular=True).logpdf(data_points)\n",
    "        cluster_centers[i, :] = data_points[np.argmax(density)]\n",
    "    \n",
    "    max_intensity = max([p[0] for p in cluster_centers])\n",
    "    max_intensity_cluster = [i for i, v in enumerate(cluster_centers) if v[0] == max_intensity][0]\n",
    "    avg_intensity = int(gmm.means_[max_intensity_cluster][0])\n",
    "\n",
    "    new_img = np.ndarray((shape_z, shape_y, shape_x))\n",
    "    np.copyto(new_img, img)\n",
    "    print(avg_intensity)\n",
    "    new_img[img >= avg_intensity] = 255\n",
    "    new_img[img < avg_intensity] = 0\n",
    "        \n",
    "    return new_img\n",
    "\n",
    "start = time.clock()\n",
    "\n",
    "data_points = [p for p in zip(*uniq)]\n",
    "\n",
    "gm_img = gmm_img(data_points)\n",
    "show_image(gm_img, 50)"
   ]
  },
  {
   "cell_type": "markdown",
   "metadata": {},
   "source": [
    "## Otsu's Binarization"
   ]
  },
  {
   "cell_type": "code",
   "execution_count": 4,
   "metadata": {
    "collapsed": true
   },
   "outputs": [],
   "source": [
    "# from skimage.filters import threshold_otsu\n",
    "\n",
    "# thresh = threshold_otsu(img)\n",
    "# binary_img = (img > thresh) * 255\n",
    "# binary_img = binary_img.astype(np.uint8)\n",
    "\n",
    "# show_image(binary_img, 25)\n",
    "\n",
    "# start = time.clock()"
   ]
  },
  {
   "cell_type": "markdown",
   "metadata": {
    "collapsed": true
   },
   "source": [
    "## Adaptive Thresholding"
   ]
  },
  {
   "cell_type": "code",
   "execution_count": 5,
   "metadata": {
    "collapsed": true
   },
   "outputs": [],
   "source": [
    "# img_threshold = np.zeros((shape_z, shape_y, shape_x))\n",
    "\n",
    "# for z_slice in range(shape_z):\n",
    "#     img_threshold[z_slice, :, :] = cv2.adaptiveThreshold(binary_img[z_slice, :, :], 255, cv2.ADAPTIVE_THRESH_MEAN_C, cv2.THRESH_BINARY, 11, 2)\n",
    "\n",
    "# img_threshold = abs(img_threshold - 255)\n",
    "\n",
    "# show_image(img_threshold, 30)"
   ]
  },
  {
   "cell_type": "markdown",
   "metadata": {},
   "source": [
    "## Morphological Hole Filling (Dilation)"
   ]
  },
  {
   "cell_type": "code",
   "execution_count": 6,
   "metadata": {
    "collapsed": true
   },
   "outputs": [],
   "source": [
    "# from scipy.ndimage.morphology import binary_fill_holes\n",
    "# from skimage.morphology import binary_dilation, binary_erosion, erosion, cube\n",
    "\n",
    "# eroded_img = np.zeros((shape_z, shape_y, shape_x))\n",
    "# eroded_img = binary_erosion(gm_img, cube(2))\n",
    "# # for z_slice in range(shape_z):\n",
    "# #     eroded_img[z_slice, :, :] = binary_erosion(gm_img[z_slice, :, :], disk(1))\n",
    "    \n",
    "# imsave('eroded_test.tiff', eroded_img.astype(np.uint16))\n",
    "\n",
    "# # dilated_img = np.zeros((shape_z, shape_y, shape_x))\n",
    "\n",
    "# # for z_slice in range(shape_z):\n",
    "# #     dilated_img[z_slice, :, :] = binary_fill_holes(binary_dilation(img_threshold[z_slice, :, :]))\n",
    "\n",
    "# # dilated_img *= 255\n",
    "\n",
    "# # show_image(dilated_img, 30)"
   ]
  },
  {
   "cell_type": "markdown",
   "metadata": {},
   "source": [
    "## Connected Components"
   ]
  },
  {
   "cell_type": "code",
   "execution_count": 7,
   "metadata": {},
   "outputs": [
    {
     "data": {
      "image/png": "[encoded data removed]",
      "text/plain": [
       "<matplotlib.figure.Figure at 0x10ffe7240>"
      ]
     },
     "metadata": {},
     "output_type": "display_data"
    },
    {
     "name": "stdout",
     "output_type": "stream",
     "text": [
      "143\n",
      "calculating centroid 10\n",
      "calculating centroid 20\n",
      "calculating centroid 30\n",
      "calculating centroid 40\n",
      "calculating centroid 50\n",
      "calculating centroid 60\n",
      "calculating centroid 70\n",
      "calculating centroid 80\n",
      "calculating centroid 90\n",
      "calculating centroid 100\n",
      "calculating centroid 110\n",
      "calculating centroid 120\n",
      "calculating centroid 130\n",
      "calculating centroid 140\n",
      "Predictions saved to CSV\n",
      "15.169436000000001\n"
     ]
    }
   ],
   "source": [
    "from skimage import measure\n",
    "import math\n",
    "import csv\n",
    "\n",
    "def find_centroid(voxels):\n",
    "    sum_z = 0.0\n",
    "    sum_y = 0.0\n",
    "    sum_x = 0.0\n",
    "    \n",
    "    l = float(len(voxels))\n",
    "\n",
    "    if l == 0:\n",
    "        return None\n",
    "    \n",
    "    for voxel in voxels:\n",
    "        z, y, x = voxel\n",
    "        sum_z += z\n",
    "        sum_y += y\n",
    "        sum_x += x\n",
    "    \n",
    "    return (math.ceil(sum_z/l), math.ceil(sum_y/l), math.ceil(sum_x/l))\n",
    "\n",
    "#cc_img = measure.label(dilated_img, background=0)\n",
    "cc_img = measure.label(gm_img, background=0)\n",
    "#cc_img = measure.label(basic_th_img, background=0)\n",
    "\n",
    "plt.imshow(cc_img[30, :, :])\n",
    "plt.show()\n",
    "\n",
    "img_segments = np.unique(cc_img, return_counts=True)\n",
    "\n",
    "centroids = []\n",
    "\n",
    "print(len(img_segments[0]))\n",
    "\n",
    "for segment_index in range(1, len(img_segments[0])):\n",
    "    if segment_index % 10 == 0: print('calculating centroid {}'.format(segment_index))\n",
    "    voxels = [i for i in zip(*np.where(cc_img == segment_index))]\n",
    "    centroids.append(find_centroid(voxels))\n",
    "    \n",
    "with open('{}_predicted.csv'.format(exp_name), 'w') as csv_file:\n",
    "    writer = csv.writer(csv_file)\n",
    "    writer.writerows(centroids)\n",
    "\n",
    "print('Predictions saved to CSV')\n",
    "end = time.clock()\n",
    "print(end - start)"
   ]
  },
  {
   "cell_type": "code",
   "execution_count": null,
   "metadata": {
    "collapsed": true
   },
   "outputs": [],
   "source": []
  }
 ],
 "metadata": {
  "kernelspec": {
   "display_name": "Python [conda env:py36]",
   "language": "python",
   "name": "conda-env-py36-py"
  },
  "language_info": {
   "codemirror_mode": {
    "name": "ipython",
    "version": 3
   },
   "file_extension": ".py",
   "mimetype": "text/x-python",
   "name": "python",
   "nbconvert_exporter": "python",
   "pygments_lexer": "ipython3",
   "version": "3.6.2"
  }
 },
 "nbformat": 4,
 "nbformat_minor": 2
}
