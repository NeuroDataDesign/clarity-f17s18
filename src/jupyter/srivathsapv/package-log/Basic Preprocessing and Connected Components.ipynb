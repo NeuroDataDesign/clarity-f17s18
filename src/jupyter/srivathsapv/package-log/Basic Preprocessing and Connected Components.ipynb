{
 "cells": [
  {
   "cell_type": "markdown",
   "metadata": {},
   "source": [
    "# Basic Preprocessing and Connected Components"
   ]
  },
  {
   "cell_type": "code",
   "execution_count": 1,
   "metadata": {
    "collapsed": true
   },
   "outputs": [],
   "source": [
    "from tifffile import imread, imsave\n",
    "import numpy as np\n",
    "import matplotlib.pyplot as plt\n",
    "import cv2\n",
    "\n",
    "def show_image(img_3d, slice_z):\n",
    "    if slice_z:\n",
    "        img_slice = img_3d[slice_z, :, :]\n",
    "    else:\n",
    "        img_slice = img_3d\n",
    "            \n",
    "    plt.imshow(img_slice, cmap=plt.cm.gray)\n",
    "    plt.figure(figsize=(40,40))\n",
    "    plt.show()"
   ]
  },
  {
   "cell_type": "markdown",
   "metadata": {},
   "source": [
    "## Image Histogram"
   ]
  },
  {
   "cell_type": "code",
   "execution_count": 2,
   "metadata": {},
   "outputs": [
    {
     "data": {
      "image/png": "[encoded data removed]",
      "text/plain": [
       "<matplotlib.figure.Figure at 0x10fa286d8>"
      ]
     },
     "metadata": {},
     "output_type": "display_data"
    }
   ],
   "source": [
    "img = imread('cell_detection_3.tiff')[:,:,:,0]\n",
    "plt.hist(img.ravel(),256,[0,256])\n",
    "plt.show()\n",
    "\n",
    "shape_z, shape_y, shape_x = img.shape"
   ]
  },
  {
   "cell_type": "markdown",
   "metadata": {},
   "source": [
    "## Otsu's Binarization"
   ]
  },
  {
   "cell_type": "code",
   "execution_count": 3,
   "metadata": {},
   "outputs": [
    {
     "data": {
      "image/png": "[encoded data removed]",
      "text/plain": [
       "<matplotlib.figure.Figure at 0x10fa28588>"
      ]
     },
     "metadata": {},
     "output_type": "display_data"
    },
    {
     "data": {
      "text/plain": [
       "<matplotlib.figure.Figure at 0x1219cadd8>"
      ]
     },
     "metadata": {},
     "output_type": "display_data"
    }
   ],
   "source": [
    "from skimage.filters import threshold_otsu\n",
    "\n",
    "thresh = threshold_otsu(img)\n",
    "binary_img = (img > thresh) * 255\n",
    "binary_img = binary_img.astype(np.uint8)\n",
    "\n",
    "show_image(binary_img, 25)"
   ]
  },
  {
   "cell_type": "markdown",
   "metadata": {
    "collapsed": true
   },
   "source": [
    "## Adaptive Thresholding"
   ]
  },
  {
   "cell_type": "code",
   "execution_count": 4,
   "metadata": {},
   "outputs": [
    {
     "data": {
      "image/png": "[encoded data removed]",
      "text/plain": [
       "<matplotlib.figure.Figure at 0x1127add68>"
      ]
     },
     "metadata": {},
     "output_type": "display_data"
    },
    {
     "data": {
      "text/plain": [
       "<matplotlib.figure.Figure at 0x1219bfdd8>"
      ]
     },
     "metadata": {},
     "output_type": "display_data"
    }
   ],
   "source": [
    "img_threshold = np.zeros((shape_z, shape_y, shape_x))\n",
    "\n",
    "for z_slice in range(shape_z):\n",
    "    img_threshold[z_slice, :, :] = cv2.adaptiveThreshold(binary_img[z_slice, :, :], 255, cv2.ADAPTIVE_THRESH_GAUSSIAN_C, cv2.THRESH_BINARY, 11, 2)\n",
    "\n",
    "img_threshold = abs(img_threshold - 255)\n",
    "\n",
    "show_image(img_threshold, 30)"
   ]
  },
  {
   "cell_type": "markdown",
   "metadata": {},
   "source": [
    "## Morphological Hole Filling (Dilation)"
   ]
  },
  {
   "cell_type": "code",
   "execution_count": 5,
   "metadata": {},
   "outputs": [
    {
     "data": {
      "image/png": "[encoded data removed]",
      "text/plain": [
       "<matplotlib.figure.Figure at 0x12154ca58>"
      ]
     },
     "metadata": {},
     "output_type": "display_data"
    },
    {
     "data": {
      "text/plain": [
       "<matplotlib.figure.Figure at 0x1143c4d68>"
      ]
     },
     "metadata": {},
     "output_type": "display_data"
    }
   ],
   "source": [
    "from scipy.ndimage.morphology import binary_fill_holes\n",
    "from skimage.morphology import binary_opening, binary_closing, binary_erosion, binary_dilation\n",
    "\n",
    "dilated_img = np.zeros((shape_z, shape_y, shape_x))\n",
    "\n",
    "for z_slice in range(shape_z):\n",
    "    dilated_img[z_slice, :, :] = binary_fill_holes(binary_dilation(img_threshold[z_slice, :, :]))\n",
    "\n",
    "dilated_img *= 255\n",
    "\n",
    "show_image(dilated_img, 30)"
   ]
  },
  {
   "cell_type": "markdown",
   "metadata": {},
   "source": [
    "## Connected Components"
   ]
  },
  {
   "cell_type": "code",
   "execution_count": 6,
   "metadata": {},
   "outputs": [
    {
     "data": {
      "image/png": "[encoded data removed]",
      "text/plain": [
       "<matplotlib.figure.Figure at 0x1102c63c8>"
      ]
     },
     "metadata": {},
     "output_type": "display_data"
    },
    {
     "name": "stdout",
     "output_type": "stream",
     "text": [
      "calculating centroid 10\n",
      "calculating centroid 20\n",
      "calculating centroid 30\n",
      "calculating centroid 40\n",
      "calculating centroid 50\n",
      "calculating centroid 60\n",
      "Predictions saved to CSV\n"
     ]
    }
   ],
   "source": [
    "from skimage import measure\n",
    "import math\n",
    "import csv\n",
    "\n",
    "def find_centroid(voxels):\n",
    "    sum_z = 0.0\n",
    "    sum_y = 0.0\n",
    "    sum_x = 0.0\n",
    "    \n",
    "    l = float(len(voxels))\n",
    "\n",
    "    if l == 0:\n",
    "        return None\n",
    "    \n",
    "    for voxel in voxels:\n",
    "        z, y, x = voxel\n",
    "        sum_z += z\n",
    "        sum_y += y\n",
    "        sum_x += x\n",
    "    \n",
    "    return (math.ceil(sum_z/l), math.ceil(sum_y/l), math.ceil(sum_x/l))\n",
    "\n",
    "cc_img = measure.label(dilated_img, background=0)\n",
    "\n",
    "plt.imshow(cc_img[30, :, :])\n",
    "plt.show()\n",
    "\n",
    "img_segments = np.unique(cc_img, return_counts=True)\n",
    "\n",
    "centroids = []\n",
    "\n",
    "for segment_index in range(1, len(img_segments[0])):\n",
    "    if segment_index % 10 == 0: print('calculating centroid {}'.format(segment_index))\n",
    "    voxels = [i for i in zip(*np.where(cc_img == segment_index))]\n",
    "    centroids.append(find_centroid(voxels))\n",
    "\n",
    "with open('cell_detection_3_predicted.csv', 'w') as csv_file:\n",
    "    writer = csv.writer(csv_file)\n",
    "    writer.writerows(centroids)\n",
    "\n",
    "print('Predictions saved to CSV')"
   ]
  },
  {
   "cell_type": "code",
   "execution_count": null,
   "metadata": {
    "collapsed": true
   },
   "outputs": [],
   "source": []
  }
 ],
 "metadata": {
  "kernelspec": {
   "display_name": "Python [conda env:py36]",
   "language": "python",
   "name": "conda-env-py36-py"
  },
  "language_info": {
   "codemirror_mode": {
    "name": "ipython",
    "version": 3
   },
   "file_extension": ".py",
   "mimetype": "text/x-python",
   "name": "python",
   "nbconvert_exporter": "python",
   "pygments_lexer": "ipython3",
   "version": "3.6.2"
  }
 },
 "nbformat": 4,
 "nbformat_minor": 2
}
