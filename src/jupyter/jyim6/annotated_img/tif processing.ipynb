{
 "cells": [
  {
   "cell_type": "code",
   "execution_count": 1,
   "metadata": {
    "collapsed": false,
    "deletable": true,
    "editable": true
   },
   "outputs": [],
   "source": [
    "from glob import glob\n",
    "import numpy as np\n",
    "import os\n",
    "import csv\n",
    "import matplotlib.pyplot as plt\n",
    "from tifffile import imread, imsave"
   ]
  },
  {
   "cell_type": "markdown",
   "metadata": {
    "deletable": true,
    "editable": true
   },
   "source": [
    "# Converts tiff files to tif and rectifies the channels to be 3 channels big."
   ]
  },
  {
   "cell_type": "code",
   "execution_count": 2,
   "metadata": {
    "collapsed": false,
    "deletable": true,
    "editable": true
   },
   "outputs": [
    {
     "name": "stdout",
     "output_type": "stream",
     "text": [
      "Processing cell_detection_0.tiff\n",
      "Max grey value 52613\n",
      "Saving as cell_detection_0.tif\n",
      "\n",
      "Processing cell_detection_1.tiff\n",
      "Max grey value 62075\n",
      "Saving as cell_detection_1.tif\n",
      "\n",
      "Processing cell_detection_2.tiff\n",
      "Max grey value 65535\n",
      "Saving as cell_detection_2.tif\n",
      "\n",
      "Processing cell_detection_3.tiff\n",
      "Max grey value 65535\n",
      "Saving as cell_detection_3.tif\n",
      "\n"
     ]
    }
   ],
   "source": [
    "z_range, y_range, x_range = None, None, None\n",
    "for fname in glob('*.tiff'):\n",
    "    print('Processing {}'.format(fname))\n",
    "    img = imread(fname)\n",
    "    if not z_range:\n",
    "        z_range, y_range, x_range = img.shape\n",
    "    new_img = np.zeros((z_range, y_range, x_range, 3))\n",
    "    max_g_val = np.amax(img)\n",
    "    print('Max grey value {}'.format(max_g_val))\n",
    "    for i in range(z_range):\n",
    "        for j in range(y_range):\n",
    "            for k in range(x_range):\n",
    "                g_val = int(255*(img[i, j, k]/max_g_val))\n",
    "                new_img[i, j, k, 0] = g_val\n",
    "                new_img[i, j, k, 1] = g_val\n",
    "                new_img[i, j, k, 2] = g_val\n",
    "    new_fname = fname[:-5]+'.tif'\n",
    "    print(\"Saving as {}\\n\".format(new_fname))\n",
    "    imsave(new_fname, new_img.astype(np.uint8))\n"
   ]
  },
  {
   "cell_type": "markdown",
   "metadata": {
    "deletable": true,
    "editable": true
   },
   "source": [
    "# Drawing centers on s3617"
   ]
  },
  {
   "cell_type": "code",
   "execution_count": 7,
   "metadata": {
    "collapsed": false,
    "deletable": true,
    "editable": true
   },
   "outputs": [],
   "source": [
    "SLICE_NAME = 'cell_detection_1'\n",
    "CSV_NAME = 'cell_detection_2'\n",
    "\n",
    "img_dir = '../img/'\n",
    "s3617_img = imread(img_dir+'s3617_cutout.tif')\n",
    "farsight_out_dir = '../farsight_output/'\n",
    "annotated_centers_dir = './../../jliu118/annotation-csv/'\n",
    "annotated_dir = '../annotated_img/'\n",
    "annotated_img = imread(annotated_dir+SLICE_NAME+'.tif')"
   ]
  },
  {
   "cell_type": "code",
   "execution_count": 9,
   "metadata": {
    "collapsed": false,
    "deletable": true,
    "editable": true
   },
   "outputs": [],
   "source": [
    "f_centers = []\n",
    "with open(farsight_out_dir+SLICE_NAME+'_centers.csv', 'r') as f:\n",
    "    reader = csv.reader(f)\n",
    "    headers = next(reader)\n",
    "    for row in reader:\n",
    "        f_centers.append(\n",
    "            tuple([int(x) for x in row])\n",
    "        )\n",
    "\n",
    "a_centers = []\n",
    "with open(annotated_centers_dir+SLICE_NAME+'.csv', 'r') as f:\n",
    "    reader = csv.reader(f)\n",
    "    headers = next(reader)\n",
    "    for row in reader:\n",
    "        a_centers.append(\n",
    "            (int(float(row[3])), int(float(row[2])), int(float(row[1])))\n",
    "        )"
   ]
  },
  {
   "cell_type": "code",
   "execution_count": 10,
   "metadata": {
    "collapsed": false,
    "deletable": true,
    "editable": true
   },
   "outputs": [
    {
     "data": {
      "text/plain": [
       "60"
      ]
     },
     "execution_count": 10,
     "metadata": {},
     "output_type": "execute_result"
    }
   ],
   "source": [
    "len(a_centers)\n",
    "len(f_centers)"
   ]
  },
  {
   "cell_type": "markdown",
   "metadata": {
    "deletable": true,
    "editable": true
   },
   "source": [
    "# Drawing farsight centers"
   ]
  },
  {
   "cell_type": "code",
   "execution_count": 13,
   "metadata": {
    "collapsed": false,
    "deletable": true,
    "editable": true
   },
   "outputs": [],
   "source": [
    "z_range, y_range, x_range, _ = s3617_img.shape\n",
    "for z,y,x in f_centers:\n",
    "    for i in range(-3,4):\n",
    "        for j in range(-3,4):\n",
    "            for k in range(-3,4):\n",
    "                s3617_img[min(z+i, z_range-1), min(y+j, y_range-1), min(x+k, x_range-1), 0] = 255\n",
    "                s3617_img[min(z+i, z_range-1), min(y+j, y_range-1), min(x+k, x_range-1), 1] = 0\n",
    "                s3617_img[min(z+i, z_range-1), min(y+j, y_range-1), min(x+k, x_range-1), 2] = 0\n",
    "imsave('s3617_test_f.tif', s3617_img)"
   ]
  },
  {
   "cell_type": "code",
   "execution_count": 15,
   "metadata": {
    "collapsed": false,
    "deletable": true,
    "editable": true
   },
   "outputs": [],
   "source": [
    "z_range, y_range, x_range, _ = annotated_img.shape\n",
    "for z,y,x in f_centers:\n",
    "    for i in range(-3,4):\n",
    "        for j in range(-3,4):\n",
    "            for k in range(-3,4):\n",
    "                annotated_img[min(z+i, z_range-1), min(y+j, y_range-1), min(x+k, x_range-1), 0] = 255\n",
    "                annotated_img[min(z+i, z_range-1), min(y+j, y_range-1), min(x+k, x_range-1), 1] = 0\n",
    "                annotated_img[min(z+i, z_range-1), min(y+j, y_range-1), min(x+k, x_range-1), 2] = 0\n",
    "imsave('cell_detection_test_f.tif', annotated_img)"
   ]
  },
  {
   "cell_type": "markdown",
   "metadata": {
    "deletable": true,
    "editable": true
   },
   "source": [
    "# Drawing annotated centers"
   ]
  },
  {
   "cell_type": "code",
   "execution_count": 24,
   "metadata": {
    "collapsed": false,
    "deletable": true,
    "editable": true
   },
   "outputs": [],
   "source": [
    "z_range, y_range, x_range, _ = s3617_img.shape\n",
    "for z,x,y in a_centers:\n",
    "    for i in range(-3,4):\n",
    "        for j in range(-3,4):\n",
    "            for k in range(-3,4):\n",
    "                s3617_img[min(z+i, z_range-1), min(y+j, y_range-1), min(x+k, x_range-1), 0] = 255\n",
    "                s3617_img[min(z+i, z_range-1), min(y+j, y_range-1), min(x+k, x_range-1), 1] = 0\n",
    "                s3617_img[min(z+i, z_range-1), min(y+j, y_range-1), min(x+k, x_range-1), 2] = 0\n",
    "imsave('s3617_test_a.tif', s3617_img)"
   ]
  },
  {
   "cell_type": "code",
   "execution_count": 11,
   "metadata": {
    "collapsed": false,
    "deletable": true,
    "editable": true
   },
   "outputs": [],
   "source": [
    "z_range, y_range, x_range, _ = annotated_img.shape\n",
    "for z,y,x in a_centers:\n",
    "#     annotated_img[z, y, x, 0] = 255\n",
    "#     annotated_img[z, y, x, 1] = 0\n",
    "#     annotated_img[z, y, x, 2] = 0\n",
    "    for i in range(-1,2):\n",
    "        for j in range(-1,2):\n",
    "            for k in range(-1,2):\n",
    "                annotated_img[min(z+i, z_range-1), min(y+j, y_range-1), min(x+k, x_range-1), 0] = 255\n",
    "                annotated_img[min(z+i, z_range-1), min(y+j, y_range-1), min(x+k, x_range-1), 1] = 0\n",
    "                annotated_img[min(z+i, z_range-1), min(y+j, y_range-1), min(x+k, x_range-1), 2] = 0\n",
    "imsave('cell_detection_test_a.tif', annotated_img)"
   ]
  },
  {
   "cell_type": "code",
   "execution_count": 38,
   "metadata": {
    "collapsed": false,
    "deletable": true,
    "editable": true
   },
   "outputs": [
    {
     "data": {
      "image/png": "[encoded data removed]",
      "text/plain": [
       "<matplotlib.figure.Figure at 0x1133bb438>"
      ]
     },
     "metadata": {},
     "output_type": "display_data"
    }
   ],
   "source": [
    "plt.imshow(annotated_img[46,:,:,:])\n",
    "plt.show()"
   ]
  },
  {
   "cell_type": "code",
   "execution_count": null,
   "metadata": {
    "collapsed": true,
    "deletable": true,
    "editable": true
   },
   "outputs": [],
   "source": [
    "def draw_sphere(image, coord, radius=3):\n",
    "    r2 = np.arange(-radius, radius+1)**2\n",
    "    dist2 = r2[:, None, None] + r2[:, None] + r2\n",
    "    sphere = (dist2 <= radius**2).astype(np.uint8) * 255\n",
    "    s_z, s_y, s_x = [s/2 for s in sphere.shape]\n",
    "    z, y, x = coord\n",
    "    chunk = image[z-s_z:z+s_z, y-s_y:y+s_y, x-s_x:x+s_x]\n",
    "\n",
    "    chunk_z, chunk_y, chunk_x = chunk.shape\n",
    "    chunk_sphere = sphere[:chunk_z, :chunk_y, :chunk_x]\n",
    "\n",
    "    image[z-s_z:z+s_z, y-s_y:y+s_y, x-s_x:x+s_x] = chunk_sphere\n",
    "\n",
    "    return image\n",
    "\n",
    "img = draw_sphere(00)"
   ]
  }
 ],
 "metadata": {
  "kernelspec": {
   "display_name": "Python 3",
   "language": "python",
   "name": "python3"
  },
  "language_info": {
   "codemirror_mode": {
    "name": "ipython",
    "version": 3
   },
   "file_extension": ".py",
   "mimetype": "text/x-python",
   "name": "python",
   "nbconvert_exporter": "python",
   "pygments_lexer": "ipython3",
   "version": "3.6.2"
  }
 },
 "nbformat": 4,
 "nbformat_minor": 2
}
