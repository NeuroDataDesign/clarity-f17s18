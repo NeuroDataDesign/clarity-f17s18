{
 "cells": [
  {
   "cell_type": "code",
   "execution_count": 4,
   "metadata": {
    "collapsed": false,
    "deletable": true,
    "editable": true
   },
   "outputs": [
    {
     "ename": "ModuleNotFoundError",
     "evalue": "No module named 'util'",
     "output_type": "error",
     "traceback": [
      "\u001b[0;31m---------------------------------------------------------------------------\u001b[0m",
      "\u001b[0;31mModuleNotFoundError\u001b[0m                       Traceback (most recent call last)",
      "\u001b[0;32m<ipython-input-4-607e86616a56>\u001b[0m in \u001b[0;36m<module>\u001b[0;34m()\u001b[0m\n\u001b[1;32m      5\u001b[0m \u001b[0;34m\u001b[0m\u001b[0m\n\u001b[1;32m      6\u001b[0m \u001b[0;32mfrom\u001b[0m \u001b[0mtifffile\u001b[0m \u001b[0;32mimport\u001b[0m \u001b[0mimsave\u001b[0m\u001b[0;34m,\u001b[0m \u001b[0mimread\u001b[0m\u001b[0;34m\u001b[0m\u001b[0m\n\u001b[0;32m----> 7\u001b[0;31m \u001b[0;32mfrom\u001b[0m \u001b[0mutil\u001b[0m\u001b[0;34m.\u001b[0m\u001b[0mGrapher\u001b[0m \u001b[0;32mimport\u001b[0m \u001b[0mGrapher\u001b[0m\u001b[0;34m\u001b[0m\u001b[0m\n\u001b[0m\u001b[1;32m      8\u001b[0m \u001b[0;32mfrom\u001b[0m \u001b[0mutil\u001b[0m\u001b[0;34m.\u001b[0m\u001b[0mImageGenerator\u001b[0m \u001b[0;32mimport\u001b[0m \u001b[0mImageGenerator\u001b[0m\u001b[0;34m\u001b[0m\u001b[0m\n\u001b[1;32m      9\u001b[0m \u001b[0;32mfrom\u001b[0m \u001b[0mutil\u001b[0m\u001b[0;34m.\u001b[0m\u001b[0mImageDrawer\u001b[0m \u001b[0;32mimport\u001b[0m \u001b[0mImageDrawer\u001b[0m\u001b[0;34m\u001b[0m\u001b[0m\n",
      "\u001b[0;31mModuleNotFoundError\u001b[0m: No module named 'util'"
     ]
    }
   ],
   "source": [
    "import sys\n",
    "sys.path.append('./../../../util/')\n",
    "import numpy as np\n",
    "import matplotlib.pyplot as plt\n",
    "\n",
    "from tifffile import imsave, imread\n",
    "from util.Grapher import Grapher\n",
    "from util.ImageGenerator import ImageGenerator\n",
    "from util.ImageDrawer import ImageDrawer\n",
    "from util.helper import (\n",
    "    read_csv,\n",
    "    txt_to_3pts,\n",
    "    csv_to_3pts,\n",
    "    euc_dist\n",
    ")\n",
    "\n",
    "from scipy import ndimage\n",
    "\n",
    "FARSIGHT_DIR = \"./FARSIGHT/\"\n",
    "IMG_DIR = './img/'\n",
    "CENTERS_DIR = './centers/'\n",
    "THRESHOLD = 15"
   ]
  },
  {
   "cell_type": "code",
   "execution_count": 2,
   "metadata": {
    "collapsed": true,
    "deletable": true,
    "editable": true
   },
   "outputs": [],
   "source": [
    "tifs = [\n",
    "    'faded_147_randomized_cells_random_intensity',\n",
    "    'faded_147_randomized_cells',\n",
    "    'faded_147_randomized_gauss_cells',\n",
    "    's3617_cutout',\n",
    "    'solid_45_cells_noise_random_intensity'\n",
    "]\n",
    "file_name = 'faded_147_randomized_gauss_cells'"
   ]
  },
  {
   "cell_type": "code",
   "execution_count": 3,
   "metadata": {
    "collapsed": false,
    "deletable": true,
    "editable": true
   },
   "outputs": [
    {
     "name": "stdout",
     "output_type": "stream",
     "text": [
      "Segmented img shape: (100, 1000, 1000)\n",
      "Tif img shape: (100, 1000, 1000, 3)\n",
      "Original centers count: 147\n",
      "Segmented ceters count: 138\n"
     ]
    }
   ],
   "source": [
    "segmented_img = imread(FARSIGHT_DIR + file_name + '_segmented.tif')\n",
    "orig_img = imread(IMG_DIR + file_name + '.tif')\n",
    "seed_centers = txt_to_3pts(FARSIGHT_DIR + file_name + '_seedPoints.txt')\n",
    "orig_centers = csv_to_3pts(CENTERS_DIR + file_name + '_centers.csv')\n",
    "total_seeds = len(seed_centers)\n",
    "total_centers = len(orig_centers)\n",
    "print(\"Segmented img shape: {}\".format(segmented_img.shape))\n",
    "print(\"Tif img shape: {}\".format(orig_img.shape))\n",
    "print(\"Original centers count: {}\".format(len(orig_centers)))\n",
    "print(\"Segmented ceters count: {}\".format(len(seed_centers)))"
   ]
  },
  {
   "cell_type": "code",
   "execution_count": 7,
   "metadata": {
    "collapsed": false,
    "deletable": true,
    "editable": true
   },
   "outputs": [
    {
     "name": "stdout",
     "output_type": "stream",
     "text": [
      "Saved tif as:  faded_147_randomized_gauss_cells_seeds.tif  at  ./img/faded_147_randomized_gauss_cells_seeds.tif\n"
     ]
    }
   ],
   "source": [
    "orig_img_with_centers = ImageDrawer.draw_centers(orig_img, seed_centers, (255,0,0), fname=file_name + '_seeds', copy=True)\n",
    "\n",
    "\n"
   ]
  },
  {
   "cell_type": "code",
   "execution_count": 6,
   "metadata": {
    "collapsed": false,
    "deletable": true,
    "editable": true
   },
   "outputs": [
    {
     "name": "stdout",
     "output_type": "stream",
     "text": [
      "Recall: 0.9387755102040817\n",
      "Precision: 1.0\n"
     ]
    }
   ],
   "source": [
    "seed_dict = dict(map(lambda x: (x, 1), seed_centers))\n",
    "center_dict = dict(map(lambda x: (x, 1), orig_centers))\n",
    "t_p, t_n, f_p, f_n = 0, 0, 0, 0\n",
    "for center in center_dict.keys():\n",
    "    found = False\n",
    "    for seed in seed_dict.keys():\n",
    "        if (not found) and euc_dist(center, seed) < THRESHOLD:\n",
    "            del seed_dict[seed]\n",
    "            t_p += 1\n",
    "            found = True\n",
    "            break\n",
    "    if not found:\n",
    "        f_n += 1\n",
    "f_p = len(seed_dict)\n",
    "recall = t_p / (t_p + f_n)\n",
    "precision = t_p / (t_p + f_p)\n",
    "print(\"Recall: {}\".format(recall))\n",
    "print(\"Precision: {}\".format(precision))"
   ]
  },
  {
   "cell_type": "code",
   "execution_count": 13,
   "metadata": {
    "collapsed": false,
    "deletable": true,
    "editable": true
   },
   "outputs": [
    {
     "name": "stdout",
     "output_type": "stream",
     "text": [
      "Saved tif as:  solid_45_cells_noise_random_intensity_seeds.tif  at  ./img/solid_45_cells_noise_random_intensity_seeds.tif\n"
     ]
    }
   ],
   "source": [
    "orig_img = imread(IMG_DIR + 'solid_45_cells_noise_random_intensity.tif')\n",
    "seed_centers = txt_to_3pts(FARSIGHT_DIR + 'solid_45_cells_noise_random_intensity_seedPoints.txt')\n",
    "total_seeds = len(seed_centers)\n",
    "orig_img_with_seeds = ImageDrawer.draw_centers(orig_img, seed_centers, (255,0,0), copy=True, fname='solid_45_cells_noise_random_intensity_seeds')"
   ]
  }
 ],
 "metadata": {
  "kernelspec": {
   "display_name": "Python 3",
   "language": "python",
   "name": "python3"
  },
  "language_info": {
   "codemirror_mode": {
    "name": "ipython",
    "version": 3
   },
   "file_extension": ".py",
   "mimetype": "text/x-python",
   "name": "python",
   "nbconvert_exporter": "python",
   "pygments_lexer": "ipython3",
   "version": "3.6.2"
  }
 },
 "nbformat": 4,
 "nbformat_minor": 2
}
