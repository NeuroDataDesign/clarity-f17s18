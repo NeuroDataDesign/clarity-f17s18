{
 "cells": [
  {
   "cell_type": "code",
   "execution_count": 1,
   "metadata": {
    "collapsed": false,
    "deletable": true,
    "editable": true
   },
   "outputs": [],
   "source": [
    "import sys\n",
    "sys.path.append('../..')\n",
    "sys.path.append('../../util')\n",
    "import numpy as np\n",
    "import matplotlib.pyplot as plt\n",
    "import os\n",
    "from collections import namedtuple\n",
    "\n",
    "from tifffile import imsave, imread\n",
    "from util.Grapher import Grapher\n",
    "from util.ImageGenerator import ImageGenerator\n",
    "from util.ImageDrawer import ImageDrawer\n",
    "from util.helper import (\n",
    "    bound_check,\n",
    "    set_rgb\n",
    ")\n",
    "\n",
    "from scipy import ndimage, signal\n",
    "\n",
    "FARSIGHT_DIR = \"./FARSIGHT/\"\n",
    "IMG_DIR = './img/'\n",
    "CENTERS_DIR = './centers/'\n",
    "THRESHOLD = 15\n",
    "Images = [\n",
    "    'blurred_147_cells.tif'\n",
    "    's3617_cutout.tif'\n",
    "    'solid_45_cells_noise_random_intensity.tif'\n",
    "]"
   ]
  },
  {
   "cell_type": "code",
   "execution_count": 2,
   "metadata": {
    "collapsed": true,
    "deletable": true,
    "editable": true
   },
   "outputs": [],
   "source": [
    "def normalize(img):\n",
    "    img_max = np.amax(img)\n",
    "    img_min = np.amin(img)\n",
    "    img = np.subtract(img, img_min)\n",
    "    img = np.divide(img, img_max - img_min)\n",
    "    return img\n",
    "    "
   ]
  },
  {
   "cell_type": "code",
   "execution_count": 3,
   "metadata": {
    "collapsed": false,
    "deletable": true,
    "editable": true
   },
   "outputs": [
    {
     "name": "stdout",
     "output_type": "stream",
     "text": [
      "Tif img shape: (100, 1000, 1000, 3)\n",
      "Normalized value: 1.0\n",
      "Images: 10 of size (100, 100, 100)\n"
     ]
    }
   ],
   "source": [
    "# Read in the image\n",
    "orig_img = imread(IMG_DIR + 'blurred_147_cells.tif')\n",
    "print(\"Tif img shape: {}\".format(orig_img.shape))\n",
    "grey_orig_img = orig_img[:,:,:,0]\n",
    "normalized_img = normalize(grey_orig_img)\n",
    "print(\"Normalized value: {}\".format(np.amax(normalized_img)))\n",
    "\n",
    "# Since our image stack is so big, we're going to break it up:\n",
    "z_range, y_range, x_range = normalized_img.shape\n",
    "image_stack = []\n",
    "for i in range(10):\n",
    "    image_stack.append(normalized_img[:, (i*100):((i+1)*100), (i*100):((i+1)*100)])\n",
    "print(\"Images: {} of size {}\".format(len(image_stack), image_stack[0].shape))"
   ]
  },
  {
   "cell_type": "code",
   "execution_count": 13,
   "metadata": {
    "collapsed": false,
    "deletable": true,
    "editable": true
   },
   "outputs": [],
   "source": [
    "# DoG approximation\n",
    "def DoG(img, gamma = 2, dark = 1, print_level = 0):\n",
    "    # if the image has white blobs then invert them to being dark blobs\n",
    "    if not dark:\n",
    "        img = 1 - img\n",
    "        \n",
    "    # Differential difference\n",
    "    a = 0.01\n",
    "    DoG_stack = []\n",
    "    for sigma in np.linspace(2, 10, 10):\n",
    "        if print_level:\n",
    "            print(\"Sigma: {}\".format(sigma))\n",
    "        scale_constant = np.power(sigma, gamma - 1)\n",
    "        # TODO: Do we need a inhouse gaussian filter to control filter size?\n",
    "        G_1 = ndimage.filters.gaussian_filter(img, sigma+a) \n",
    "        G_2 = ndimage.filters.gaussian_filter(img, sigma)\n",
    "        DoG = scale_constant * (G_1 - G_2)/a\n",
    "        DoG_stack.append((sigma,DoG))\n",
    "    return DoG_stack\n",
    "\n",
    "\n",
    "def find_negative_curvative_points(img):\n",
    "    img_fx, img_fy, img_fz = gradient_x(img), gradient_y(img), gradient_z(img)\n",
    "    img_fxy, img_fxz, img_fyz = gradient_y(img_fx), gradient_z(img_fx), gradient_z(img_fy)\n",
    "    img_fxx, img_fyy, img_fzz = gradient_x(img_fx), gradient_y(img_fy), gradient_z(img_fz)\n",
    "    D_1, D_2, D_3, H_N = np.zeros(img.shape), np.zeros(img.shape), np.zeros(img.shape), np.zeros(img.shape)\n",
    "    D_1[img_fxx < 0] = 1\n",
    "    D_2[(img_fxx * img_fyy - img_fxy * img_fxy) > 0] = 1\n",
    "    D_3[(\n",
    "            img_fxx * (img_fyy*img_fzz - img_fyz*img_fyz) \\\n",
    "            - img_fxy * (img_fxy*img_fzz - img_fyz*img_fxz) \\\n",
    "            + img_fxz * (img_fxy*img_fyz - img_fyy * img_fxz)\n",
    "        ) < 0\n",
    "    ] = 1\n",
    "    H_N[np.logical_and(D_1 == D_2, D_2 == D_3)] = 1\n",
    "    return H_N\n",
    "\n",
    "def gradient_x(arr):\n",
    "    return np.gradient(arr, axis=0)\n",
    "\n",
    "def gradient_y(arr):\n",
    "    return np.gradient(arr, axis=1)\n",
    "\n",
    "def gradient_z(arr):\n",
    "    return np.gradient(arr, axis=2)\n",
    "\n",
    "def hessian_2d(img):\n",
    "    fx, fy = gradient_x(img), gradient_y(img)\n",
    "    fxx, fyy = gradient_x(fx), gradient_y(fy)\n",
    "    fxy, fyx = gradient_y(fx), gradient_x(fy)\n",
    "    H = np.zeros(img.shape)\n",
    "    \n",
    "    return [fxx, fxy, fyx]\n",
    "\n",
    "def img_hessian_3d(img):\n",
    "    '''\n",
    "    Note that this method computes the image hessians.\n",
    "    The output H will have shape same as img with an additional \n",
    "    dimension that will hold the hessian computations. \n",
    "    the last dimension will be 6 elements long and contain\n",
    "    each of the upper triangular hessians.\n",
    "    '''\n",
    "    img_fx, img_fy, img_fz = gradient_x(img), gradient_y(img), gradient_z(img)\n",
    "    img_fxy, img_fxz, img_fyz = gradient_y(img_fx), gradient_z(img_fx), gradient_z(img_fy)\n",
    "    img_fxx, img_fyy, img_fzz = gradient_x(img_fx), gradient_y(img_fy), gradient_z(img_fz)\n",
    "    H = np.zeros(tuple(list(img.shape)+[6]))\n",
    "    H[:,:,:,0] = img_fxx\n",
    "    H[:,:,:,1] = img_fyy\n",
    "    H[:,:,:,2] = img_fzz\n",
    "    H[:,:,:,3] = img_fxy\n",
    "    H[:,:,:,4] = img_fxz\n",
    "    H[:,:,:,5] = img_fyz\n",
    "    # TODO: Very memory inefficient. Is it better to compute the hessians on the spot?\n",
    "    return H\n",
    "\n",
    "def format_H(H):\n",
    "    fxx = H[0]\n",
    "    fyy = H[1]\n",
    "    fzz = H[2]\n",
    "    fxy = H[3]\n",
    "    fxz = H[4]\n",
    "    fyz = H[5]\n",
    "    return np.array([\n",
    "        [fxx, fxy, fxz],\n",
    "        [fxy, fyy, fyz],\n",
    "        [fxz, fyz, fzz]\n",
    "    ])\n",
    "    \n",
    "def principal_minors_3d(M):\n",
    "    n,m = M.shape\n",
    "    # We're going to assume M is square for now\n",
    "    D_1 = M[0,0]\n",
    "    D_2 = np.linalg.det(M[::2, ::2])\n",
    "    D_3 = np.linalg.det(M)\n",
    "    return D_1, D_2, D_3\n",
    "\n",
    "\n",
    "def curvature(H):\n",
    "    '''\n",
    "    Returns \n",
    "        0 if indefinite\n",
    "        1 if positive definite\n",
    "        2 if positive semi-definite\n",
    "        3 if negative definite\n",
    "        4 if negative semi-definite\n",
    "    '''\n",
    "    D_1, D_2, D_3 = principal_minors_3d(H)\n",
    "    if D_1 < 0 and D_2 > 0 and D_3 < 0:\n",
    "        # Negative definite\n",
    "        return 3\n",
    "    # TODO: Implement other cases\n",
    "    return 0\n",
    "\n",
    "def raster_3d_generator(img_shape):\n",
    "    z_range, y_range, x_range = img_shape\n",
    "    for i in range(z_range):\n",
    "        for j in range(y_range):\n",
    "            for k in range(x_range):\n",
    "                yield (i, j, k)\n",
    "\n",
    "def voxel_region_iter(z, y, x):\n",
    "    for i in range(-1,2,2):\n",
    "        for j in range(-1,2,2):\n",
    "            for k in range(-1,2,2):\n",
    "                yield (i+z,j+y,k+x)\n",
    "\n",
    "def block_principal_minors(H):\n",
    "    D_1 = np.linalg.det(H[:2, :2])\n",
    "    D_2 = np.linalg.det(H[1:3, 1:3])\n",
    "    D_3 = np.linalg.det(H[0:3:2, 0:3:2])\n",
    "    return D_1 + D_2 + D_3\n",
    "                \n",
    "def regional_blobness(H):\n",
    "    det = np.linalg.det(H)\n",
    "    # Note these are the 2x2 principal minors\n",
    "    pm = block_principal_minors(H)\n",
    "    return 3*np.abs(det)**(2.0/3)/pm\n",
    "\n",
    "def regional_flatness(H):\n",
    "    tr = np.trace(H)\n",
    "    pm = block_principal_minors(H)\n",
    "    return np.sqrt(tr**2 - 2*pm)\n",
    "        \n",
    "def grey_img_to_rgb(img):\n",
    "    z_range, y_range, x_range = img.shape\n",
    "    rgb_img = np.zeros((z_range, y_range, x_range, 3))\n",
    "    img_iter = raster_3d_generator(img.shape)\n",
    "    for i, j, k in img_iter:\n",
    "        grey = img[i,j,k]*255\n",
    "        set_rgb(rgb_img, k, j, i, grey, grey, grey)\n",
    "    return rgb_img"
   ]
  },
  {
   "cell_type": "markdown",
   "metadata": {
    "deletable": true,
    "editable": true
   },
   "source": [
    "# Blob detector test space"
   ]
  },
  {
   "cell_type": "code",
   "execution_count": null,
   "metadata": {
    "collapsed": true
   },
   "outputs": [],
   "source": [
    "img = image_stack[4]\n",
    "# img = normalized_img\n",
    "z_range, y_range, x_range = img.shape\n",
    "BlobCandidate = namedtuple('BlobCandidate', ['center', 'sigma', 'blobness', 'flatness', 'avg_int'])\n",
    "DoG_stack = DoG(img, dark = 0)\n",
    "print(\"DoG finding done\")\n",
    "U = set()\n",
    "blobs_T = {}"
   ]
  },
  {
   "cell_type": "code",
   "execution_count": null,
   "metadata": {
    "collapsed": true
   },
   "outputs": [],
   "source": [
    "# First find the concave points\n",
    "for sigma, DoG_img in DoG_stack:\n",
    "    print(\"Concave points for T={}\".format(sigma))\n",
    "    H_N = find_negative_curvative_points(DoG_img)\n",
    "    indices = np.argwhere(H_N == 1)\n",
    "    for i in range(indices.shape[0]):\n",
    "         U.add(tuple(indices[i,:].astype(int)))\n",
    "    blobs_T[sigma] = []\n",
    "    break\n",
    "print(\"Concave points finding done. {} points\".format(len(U)))"
   ]
  },
  {
   "cell_type": "code",
   "execution_count": 15,
   "metadata": {
    "collapsed": false,
    "deletable": true,
    "editable": true
   },
   "outputs": [
    {
     "name": "stdout",
     "output_type": "stream",
     "text": [
      "DoG finding done\n",
      "Concave points for T=2.0\n",
      "Concave points finding done. 665610 points\n",
      "Computing candidates for T=2.0\n"
     ]
    },
    {
     "name": "stderr",
     "output_type": "stream",
     "text": [
      "/usr/local/lib/python3.6/site-packages/ipykernel/__main__.py:137: RuntimeWarning: invalid value encountered in double_scalars\n"
     ]
    },
    {
     "name": "stdout",
     "output_type": "stream",
     "text": [
      "Done\n"
     ]
    }
   ],
   "source": [
    "# Compute the 3d blob descriptors\n",
    "sigma_iteration = 1\n",
    "for sigma, DoG_img in DoG_stack:\n",
    "    sigma_iteration += 1\n",
    "    print(\"Computing candidates for T={}\".format(sigma))\n",
    "    H = img_hessian_3d(DoG_img)\n",
    "    H_filter = np.zeros(DoG_img.shape)\n",
    "    i = 1\n",
    "    for i_c, j_c, k_c in U:\n",
    "        i += 1\n",
    "        # For each blob candidate, calculate the regional hession\n",
    "        region_iter = voxel_region_iter(i_c, j_c, k_c)\n",
    "        regional_H = np.copy(H[i_c,j_c,k_c,:])\n",
    "        # TODO: Check is it average intenity of original or DoG?\n",
    "        intensity = normalized_img[i_c, j_c, k_c]\n",
    "        for i_r, j_r, k_r in region_iter:\n",
    "            if bound_check(i_r, 0, z_range-1) and bound_check(j_r, 0, y_range-1) and bound_check(k_r, 0, x_range-1):   \n",
    "                intensity += normalized_img[i_r, j_r, k_r]\n",
    "                regional_H += H[i_r, j_r, k_r,:]\n",
    "        regional_H = format_H(regional_H)\n",
    "        blobness = regional_blobness(regional_H)\n",
    "        flatness = regional_flatness(regional_H)\n",
    "        avg_int = intensity/7\n",
    "        blobs_T[sigma].append(\n",
    "            BlobCandidate(\n",
    "                (i_c, j_c, k_c ),\n",
    "                sigma,\n",
    "                blobness,\n",
    "                flatness,\n",
    "                avg_int\n",
    "            )\n",
    "        )\n",
    "    if sigma_iteration == 2:\n",
    "        break\n",
    "print(\"Done\")"
   ]
  },
  {
   "cell_type": "code",
   "execution_count": 17,
   "metadata": {
    "collapsed": false,
    "deletable": true,
    "editable": true,
    "scrolled": false
   },
   "outputs": [
    {
     "name": "stdout",
     "output_type": "stream",
     "text": [
      "(100, 100, 100, 3)\n",
      "Saved tif as:  HDoG_test.tif  at  ./img/HDoG_test.tif\n"
     ]
    }
   ],
   "source": [
    "ImageDrawer.x_range = x_range\n",
    "ImageDrawer.y_range = y_range\n",
    "ImageDrawer.z_range = z_range\n",
    "centers = [b.center  for b in blobs_T[2.0]]\n",
    "centers_2 = []\n",
    "for i, j, k in centers:\n",
    "    if bound_check(i, 0, z_range) and bound_check(j, 0, y_range-1) and bound_check(k, 0, x_range-1): \n",
    "        centers_2.append((i,j,k))\n",
    "rgb_img = grey_img_to_rgb(img)\n",
    "rgb_img_centered = ImageDrawer.draw_centers(rgb_img, centers_2[:100], (255, 0, 0), fname='HDoG_test', print_level = 1)"
   ]
  },
  {
   "cell_type": "code",
   "execution_count": 20,
   "metadata": {
    "collapsed": false
   },
   "outputs": [
    {
     "data": {
      "image/png": "[encoded data removed]",
      "text/plain": [
       "<matplotlib.figure.Figure at 0x1843ac1d0>"
      ]
     },
     "metadata": {},
     "output_type": "display_data"
    }
   ],
   "source": [
    "Grapher.show_image(DoG_stack[0][1][20,:,:])\n",
    "Grapher.show_plot()"
   ]
  },
  {
   "cell_type": "code",
   "execution_count": null,
   "metadata": {
    "collapsed": false,
    "deletable": true,
    "editable": true
   },
   "outputs": [],
   "source": [
    "print(ImageDrawer.x_range)"
   ]
  },
  {
   "cell_type": "markdown",
   "metadata": {
    "deletable": true,
    "editable": true
   },
   "source": [
    "# Sandbox"
   ]
  },
  {
   "cell_type": "code",
   "execution_count": null,
   "metadata": {
    "collapsed": false,
    "deletable": true,
    "editable": true
   },
   "outputs": [],
   "source": [
    "\n",
    "x = np.array([1,2,3])\n",
    "y = np.zeros(3)\n",
    "y[x < 2] = 1\n",
    "y"
   ]
  },
  {
   "cell_type": "code",
   "execution_count": null,
   "metadata": {
    "collapsed": false,
    "deletable": true,
    "editable": true
   },
   "outputs": [],
   "source": [
    "z = set(x) | set(y)\n",
    "print(z)\n",
    "print(x)\n",
    "print(y)"
   ]
  },
  {
   "cell_type": "code",
   "execution_count": null,
   "metadata": {
    "collapsed": false,
    "deletable": true,
    "editable": true
   },
   "outputs": [],
   "source": [
    "\n",
    "x = np.array(\n",
    "    [[1, 2, 3],\n",
    "    [4, 5, 6],\n",
    "    [7, 8, 9]]\n",
    ")\n",
    "[x for x in range(-1,2,2)]"
   ]
  },
  {
   "cell_type": "code",
   "execution_count": 12,
   "metadata": {
    "collapsed": false,
    "deletable": true,
    "editable": true
   },
   "outputs": [
    {
     "data": {
      "image/png": "[encoded data removed]",
      "text/plain": [
       "<matplotlib.figure.Figure at 0x184658630>"
      ]
     },
     "metadata": {},
     "output_type": "display_data"
    }
   ],
   "source": [
    "Grapher.show_image(rgb_img_centered[20,:,:])\n",
    "Grapher.show_plot()"
   ]
  },
  {
   "cell_type": "code",
   "execution_count": null,
   "metadata": {
    "collapsed": true
   },
   "outputs": [],
   "source": []
  },
  {
   "cell_type": "code",
   "execution_count": null,
   "metadata": {
    "collapsed": false,
    "deletable": true,
    "editable": true
   },
   "outputs": [],
   "source": [
    "x = np.zeros((3,3))\n",
    "x[0,0] = 1\n",
    "y = np.zeros((3,3))\n",
    "y[0,0] = 1\n",
    "np.logical_and(x, y)"
   ]
  },
  {
   "cell_type": "code",
   "execution_count": null,
   "metadata": {
    "collapsed": false,
    "deletable": true,
    "editable": true
   },
   "outputs": [],
   "source": [
    "indices = np.argwhere(x == 0)\n",
    "n,m = indices.shape\n",
    "for i in range(n):\n",
    "    print(tuple(indices[i,:]))"
   ]
  },
  {
   "cell_type": "code",
   "execution_count": null,
   "metadata": {
    "collapsed": false,
    "deletable": true,
    "editable": true
   },
   "outputs": [],
   "source": [
    "z = set()\n",
    "z.add(1)\n",
    "z.add(1)\n",
    "z"
   ]
  },
  {
   "cell_type": "code",
   "execution_count": null,
   "metadata": {
    "collapsed": false,
    "deletable": true,
    "editable": true
   },
   "outputs": [],
   "source": [
    "x = np.array([1.0,2.0])\n",
    "np.int(x)\n",
    "x"
   ]
  }
 ],
 "metadata": {
  "kernelspec": {
   "display_name": "Python 3",
   "language": "python",
   "name": "python3"
  },
  "language_info": {
   "codemirror_mode": {
    "name": "ipython",
    "version": 3
   },
   "file_extension": ".py",
   "mimetype": "text/x-python",
   "name": "python",
   "nbconvert_exporter": "python",
   "pygments_lexer": "ipython3",
   "version": "3.6.2"
  }
 },
 "nbformat": 4,
 "nbformat_minor": 2
}
