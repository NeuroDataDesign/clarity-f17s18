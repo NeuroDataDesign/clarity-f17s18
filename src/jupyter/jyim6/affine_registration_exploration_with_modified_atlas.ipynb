{
 "cells": [
  {
   "cell_type": "code",
   "execution_count": null,
   "metadata": {},
   "outputs": [],
   "source": [
    "import sys, os, ndreg, skimage\n",
    "import matplotlib.pyplot as plt\n",
    "from matplotlib import cm\n",
    "import SimpleITK as sitk\n",
    "import numpy as np\n",
    "from intern.remote.boss import BossRemote\n",
    "from intern.resource.boss.resource import *\n",
    "import missing_data as mdmask\n",
    "import ingest_tif_stack as ingest"
   ]
  },
  {
   "cell_type": "code",
   "execution_count": null,
   "metadata": {},
   "outputs": [],
   "source": [
    "import registerer_copy as reg\n",
    "import preprocessor_copy as pre\n",
    "import matplotlib\n",
    "matplotlib.rcParams['figure.figsize'] = (10.0, 8.0)"
   ]
  },
  {
   "cell_type": "code",
   "execution_count": null,
   "metadata": {},
   "outputs": [],
   "source": [
    "full_atlas = ndreg.imgRead('./atlas/ara_atlas.img')\n",
    "atlas_width, atlas_height, atlas_depth = full_atlas.GetSize()"
   ]
  },
  {
   "cell_type": "code",
   "execution_count": null,
   "metadata": {},
   "outputs": [],
   "source": [
    "# Create bottom half atlas\n",
    "bot_half_atlas_array = mdmask.gen_frac_mask(atlas_depth, atlas_height, atlas_width, 0.5, 0, side='right')\n",
    "bot_half_atlas_mask = mdmask.convert_to_image(bot_half_atlas_array.astype('uint16'))\n",
    "bot_half_atlas_mask.CopyInformation(full_atlas)\n",
    "bot_half_atlas = mdmask.mask_img(full_atlas, bot_half_atlas_mask)"
   ]
  },
  {
   "cell_type": "code",
   "execution_count": null,
   "metadata": {},
   "outputs": [],
   "source": [
    "# Create top half atlas\n",
    "top_half_atlas_array = mdmask.gen_frac_mask(atlas_depth, atlas_height, atlas_width, 0.5, 0, side='left')\n",
    "top_half_atlas_mask = mdmask.convert_to_image(top_half_atlas_array.astype('uint16'))\n",
    "top_half_atlas_mask.CopyInformation(full_atlas)\n",
    "top_half_atlas = mdmask.mask_img(full_atlas, top_half_atlas_mask)"
   ]
  },
  {
   "cell_type": "code",
   "execution_count": null,
   "metadata": {},
   "outputs": [],
   "source": [
    "full_img = ndreg.imgRead('./missing_insula/whole_insula.img')\n",
    "# Reorient image to be same orientation as atlas\n",
    "orientation_atlas = 'pir'\n",
    "orientation_image = 'lps'\n",
    "full_img = ndreg.imgReorient(full_img, orientation_image, orientation_atlas)\n",
    "# img_width, img_height, img_depth = full_img.GetSize()"
   ]
  },
  {
   "cell_type": "code",
   "execution_count": null,
   "metadata": {},
   "outputs": [],
   "source": [
    "def run_experiment(atlas, img, missing_percentages, missing_dim, transformation_type=reg.register_rigid):\n",
    "    atlas_width, atlas_height, atlas_depth = atlas.GetSize()\n",
    "    img_width, img_height, img_depth = full_img.GetSize()\n",
    "    \n",
    "    percent_results = {}\n",
    "    \n",
    "    for p in missing_percentages:\n",
    "\n",
    "        # Create the missing image\n",
    "        missing_array = mdmask.gen_frac_mask(img_depth, img_height, img_width, p, missing_dim, side='right')\n",
    "        missing_mask = mdmask.convert_to_image(missing_array.astype('uint16'))\n",
    "        missing_mask.CopyInformation(full_img)\n",
    "        missing_img = mdmask.mask_img(full_img, missing_mask)\n",
    "\n",
    "        img = missing_img\n",
    "\n",
    "        # Bias correction\n",
    "#         mask_dilation_radius = 10 # voxels\n",
    "#         mask_bc = sitk.BinaryDilate(pre.create_mask(img, use_triangle=True), mask_dilation_radius)\n",
    "#         img_bc, bias = pre.correct_bias_field(img, scale=0.25, spline_order=4, mask=mask_bc,\n",
    "#                                              num_control_pts=[5,5,5],\n",
    "#                                              niters=[50, 50, 50, 50])\n",
    "        atlas_n = sitk.Normalize(atlas)\n",
    "        img_bc_n = sitk.Normalize(img)\n",
    "#         img_bc_n = sitk.Normalize(img_bc)\n",
    "\n",
    "        # Compute affine transform\n",
    "        final_transform = transformation_type(atlas_n,\n",
    "                                            img_bc_n,\n",
    "                                            fixed_mask=missing_mask,\n",
    "                                            learning_rate=1e-1,\n",
    "                                            grad_tol=4e-6,\n",
    "                                            use_mi=False,\n",
    "                                            iters=50,\n",
    "                                            shrink_factors=[4,2,1],\n",
    "                                            sigmas=[0.4, 0.2, 0.1],\n",
    "                                            verbose=False)\n",
    "\n",
    "        # Perform the rigid transform\n",
    "        atlas_rigid = reg.resample(atlas, final_transform, img_bc, default_value=ndreg.imgPercentile(atlas,0.01))\n",
    "\n",
    "        print(\"Percentage of image mssing: {}\".format(p))\n",
    "        ndreg.imgShow(atlas_rigid)\n",
    "        percent_results[p] = (atlas_rigid, final_transform, img)\n",
    "    return percent_results"
   ]
  },
  {
   "cell_type": "markdown",
   "metadata": {},
   "source": [
    "# Affine experiments (or rigid)"
   ]
  },
  {
   "cell_type": "markdown",
   "metadata": {},
   "source": [
    "1. Try increasing missing data amount until rigid doesn't work\n",
    "2. Try composing translation then rotation transforms\n",
    "3. Look into the versor transform, registration method functions\n",
    " * http://insightsoftwareconsortium.github.io/SimpleITK-Notebooks/Python_html/22_Transforms.html\n",
    "4. Try take out the physical optimizer\n",
    "5. Look at the transformation computed"
   ]
  },
  {
   "cell_type": "code",
   "execution_count": null,
   "metadata": {},
   "outputs": [],
   "source": [
    "from __future__ import print_function\n",
    "from ipywidgets import interact, interactive, fixed, interact_manual,FloatSlider\n",
    "import ipywidgets as widgets\n",
    "\n",
    "def atlas_rigid_slider(x, res):\n",
    "    plt.clf()\n",
    "    atlas_rigid, final_transform, img = res[x]\n",
    "    ndreg.imgShow(atlas_rigid)\n",
    "    return\n",
    "\n",
    "def mse_plot_slider(x, res):\n",
    "    plt.clf()\n",
    "    atlas_rigid, final_transform, img = res[x]\n",
    "    mask_dilation_radius = 10 # voxels\n",
    "    mask_bc = sitk.BinaryDilate(pre.create_mask(img, use_triangle=True), mask_dilation_radius)\n",
    "    atlas_rigid_slice = sitk.GetArrayFromImage(sitk.Normalize(atlas_rigid))[:,50,:]\n",
    "    img_rigid_slice = sitk.GetArrayFromImage(sitk.Normalize(img))[:,50,:]\n",
    "    side_img_slice = sitk.GetArrayFromImage(mask_bc)[:,50,:]\n",
    "    mdmask.plot_mse(atlas_rigid_slice, img_rigid_slice, side_img=side_img_slice, color_blend=True)\n",
    "    return\n",
    "\n",
    "def missing_img_slider(x, res):\n",
    "    plt.clf()\n",
    "    atlas_rigid, final_transform, img = res[x]\n",
    "    ndreg.imgShow(img, vmax=2500)\n",
    "    return"
   ]
  },
  {
   "cell_type": "markdown",
   "metadata": {},
   "source": [
    "## Anterior missing"
   ]
  },
  {
   "cell_type": "code",
   "execution_count": null,
   "metadata": {},
   "outputs": [],
   "source": [
    "# starting_percent = 0.0; ending_percent = 0.50; increments = 25\n",
    "# missing_percentages = np.round(np.linspace(starting_percent, ending_percent, \n",
    "#                                            num=int(increments*(ending_percent-starting_percent))+1), 2)\n",
    "# missing_dim = 2\n",
    "# print(\"Missing percentages: {}\".format(list(missing_percentages)))"
   ]
  },
  {
   "cell_type": "code",
   "execution_count": null,
   "metadata": {
    "scrolled": false
   },
   "outputs": [],
   "source": [
    "# ant_percent_results = run_experiment(atlas, full_img, missing_percentages, missing_dim)"
   ]
  },
  {
   "cell_type": "code",
   "execution_count": null,
   "metadata": {},
   "outputs": [],
   "source": [
    "# interact(mse_plot_slider, \n",
    "#          res=fixed(ant_percent_results),\n",
    "#          x=FloatSlider(min=starting_percent, max=ending_percent+0.0001, step=1/float(increment_factor), continuous_update=True))\n"
   ]
  },
  {
   "cell_type": "code",
   "execution_count": null,
   "metadata": {},
   "outputs": [],
   "source": [
    "# interact(atlas_rigid_slider, \n",
    "#          res=fixed(ant_percent_results),\n",
    "#          x=FloatSlider(min=starting_percent, max=ending_percent+0.0001, step=1/float(increment_factor), continuous_update=True))\n"
   ]
  },
  {
   "cell_type": "code",
   "execution_count": null,
   "metadata": {},
   "outputs": [],
   "source": [
    "# interact(missing_img_slider, \n",
    "#          res=fixed(ant_percent_results),\n",
    "#          x=FloatSlider(min=starting_percent, max=ending_percent+0.0001, step=1/float(increment_factor), continuous_update=True))\n"
   ]
  },
  {
   "cell_type": "markdown",
   "metadata": {},
   "source": [
    "## Hemisphere missing"
   ]
  },
  {
   "cell_type": "code",
   "execution_count": null,
   "metadata": {},
   "outputs": [],
   "source": [
    "starting_percent = 0.25; ending_percent = 0.50; increment_factor = 20\n",
    "missing_percentages = np.round(np.linspace(starting_percent, ending_percent, \n",
    "                                           num=int(increment_factor*(ending_percent-starting_percent))+1), 2)\n",
    "missing_dim = 0\n",
    "print(\"Missing percentages: {}\".format(list(missing_percentages)))"
   ]
  },
  {
   "cell_type": "code",
   "execution_count": null,
   "metadata": {},
   "outputs": [],
   "source": [
    "hemi_percent_results = run_experiment(bot_half_atlas, full_img, missing_percentages, missing_dim)"
   ]
  },
  {
   "cell_type": "code",
   "execution_count": null,
   "metadata": {},
   "outputs": [],
   "source": [
    "interact(mse_plot_slider, \n",
    "         res=fixed(hemi_percent_results),\n",
    "         x=FloatSlider(min=starting_percent, max=ending_percent+0.0001, step=1/float(increment_factor), continuous_update=True))\n"
   ]
  },
  {
   "cell_type": "code",
   "execution_count": null,
   "metadata": {},
   "outputs": [],
   "source": [
    "interact(atlas_rigid_slider, \n",
    "         res=fixed(hemi_percent_results),\n",
    "         x=FloatSlider(min=starting_percent, max=ending_percent+0.0001, step=1/float(increment_factor), continuous_update=True))\n"
   ]
  },
  {
   "cell_type": "code",
   "execution_count": null,
   "metadata": {},
   "outputs": [],
   "source": [
    "interact(missing_img_slider, \n",
    "         res=fixed(hemi_percent_results),\n",
    "         x=FloatSlider(min=starting_percent, max=ending_percent+0.0001, step=1/float(increment_factor), continuous_update=True))\n"
   ]
  },
  {
   "cell_type": "markdown",
   "metadata": {},
   "source": [
    "# Create gifs"
   ]
  },
  {
   "cell_type": "code",
   "execution_count": null,
   "metadata": {},
   "outputs": [],
   "source": [
    "import numpy as np\n",
    "import matplotlib.pyplot as plt\n",
    "import matplotlib.animation as animation"
   ]
  },
  {
   "cell_type": "code",
   "execution_count": null,
   "metadata": {},
   "outputs": [],
   "source": [
    "def atlas_rigid_update(x):\n",
    "    plt.clf()\n",
    "    atlas_rigid, final_transform, img = result_dict[x]\n",
    "    ndreg.imgShow(atlas_rigid)\n",
    "    return\n",
    "\n",
    "def mse_anim_update(x):\n",
    "    atlas_rigid, final_transform, img = result_dict[x]\n",
    "    mask_dilation_radius = 10 # voxels\n",
    "    mask_bc = sitk.BinaryDilate(pre.create_mask(img, use_triangle=True), mask_dilation_radius)\n",
    "    atlas_rigid_slice = sitk.GetArrayFromImage(sitk.Normalize(atlas_rigid))[:,50,:]\n",
    "    img_rigid_slice = sitk.GetArrayFromImage(sitk.Normalize(img))[:,50,:]\n",
    "    side_img_slice = sitk.GetArrayFromImage(mask_bc)[:,50,:]\n",
    "    mdmask.plot_mse(atlas_rigid_slice, img_rigid_slice, side_img=side_img_slice, color_blend=True)\n",
    "    return\n",
    "\n",
    "def missing_img_update(x):\n",
    "    atlas_rigid, final_transform, img = result_dict[x]\n",
    "    ndreg.imgShow(img, vmax=2500)\n",
    "    return"
   ]
  },
  {
   "cell_type": "code",
   "execution_count": null,
   "metadata": {},
   "outputs": [],
   "source": [
    "anim_fargs = np.round(np.linspace(starting_percent, ending_percent, 6),2)\n",
    "result_dict = hemi_percent_results"
   ]
  },
  {
   "cell_type": "code",
   "execution_count": null,
   "metadata": {},
   "outputs": [],
   "source": [
    "print(anim_fargs)"
   ]
  },
  {
   "cell_type": "markdown",
   "metadata": {},
   "source": [
    "## Missing Hemisphere"
   ]
  },
  {
   "cell_type": "code",
   "execution_count": null,
   "metadata": {},
   "outputs": [],
   "source": [
    "mse_plot_anim = animation.FuncAnimation(plt.figure(), mse_anim_update, frames=anim_fargs,interval=200)\n",
    "mse_plot_anim.save('mse_anim_affine_mod_atlas_hemi.mp4')"
   ]
  },
  {
   "cell_type": "code",
   "execution_count": null,
   "metadata": {},
   "outputs": [],
   "source": [
    "# mse_plot_anim = animation.FuncAnimation(plt.figure(), atlas_rigid_update, frames=anim_fargs,interval=200)\n",
    "# mse_plot_anim.save('atlas_rigid_hemi.mp4')"
   ]
  },
  {
   "cell_type": "code",
   "execution_count": null,
   "metadata": {},
   "outputs": [],
   "source": [
    "# mse_plot_anim = animation.FuncAnimation(plt.figure(), missing_img_update, frames=anim_fargs,interval=200)\n",
    "# mse_plot_anim.save('missing_img_hemi.mp4')"
   ]
  },
  {
   "cell_type": "markdown",
   "metadata": {},
   "source": [
    "## Missing Anterior"
   ]
  },
  {
   "cell_type": "code",
   "execution_count": null,
   "metadata": {},
   "outputs": [],
   "source": [
    "anim_fargs = np.round(np.linspace(starting_percent, ending_percent, 9),2)\n",
    "result_dict = ant_percent_results"
   ]
  },
  {
   "cell_type": "code",
   "execution_count": null,
   "metadata": {},
   "outputs": [],
   "source": [
    "mse_plot_anim = animation.FuncAnimation(plt.figure(), mse_anim_update, frames=anim_fargs,interval=200)\n",
    "mse_plot_anim.save('mse_anim_ant.mp4')"
   ]
  },
  {
   "cell_type": "code",
   "execution_count": null,
   "metadata": {},
   "outputs": [],
   "source": [
    "# mse_plot_anim = animation.FuncAnimation(plt.figure(), atlas_rigid_update, frames=anim_fargs,interval=200)\n",
    "# mse_plot_anim.save('atlas_rigid_hemi.mp4')"
   ]
  },
  {
   "cell_type": "code",
   "execution_count": null,
   "metadata": {},
   "outputs": [],
   "source": [
    "# mse_plot_anim = animation.FuncAnimation(plt.figure(), missing_img_update, frames=anim_fargs,interval=200)\n",
    "# mse_plot_anim.save('missing_img_hemi.mp4')"
   ]
  },
  {
   "cell_type": "code",
   "execution_count": null,
   "metadata": {},
   "outputs": [],
   "source": []
  }
 ],
 "metadata": {
  "kernelspec": {
   "display_name": "Python 2",
   "language": "python",
   "name": "python2"
  },
  "language_info": {
   "codemirror_mode": {
    "name": "ipython",
    "version": 2
   },
   "file_extension": ".py",
   "mimetype": "text/x-python",
   "name": "python",
   "nbconvert_exporter": "python",
   "pygments_lexer": "ipython2",
   "version": "2.7.12"
  }
 },
 "nbformat": 4,
 "nbformat_minor": 2
}
