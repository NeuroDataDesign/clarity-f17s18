{
 "cells": [
  {
   "cell_type": "code",
   "execution_count": 1,
   "metadata": {
    "collapsed": false
   },
   "outputs": [],
   "source": [
    "from blob import detect_blobs_log"
   ]
  },
  {
   "cell_type": "code",
   "execution_count": 2,
   "metadata": {
    "collapsed": false
   },
   "outputs": [
    {
     "name": "stdout",
     "output_type": "stream",
     "text": [
      "Sigma: 1.0\n",
      "Sigma: 6.444444444444445\n",
      "Sigma: 11.88888888888889\n",
      "Sigma: 17.333333333333336\n",
      "Sigma: 22.77777777777778\n",
      "Sigma: 28.22222222222222\n",
      "Sigma: 33.66666666666667\n",
      "Sigma: 39.111111111111114\n",
      "Sigma: 44.55555555555556\n",
      "Sigma: 50.0\n",
      "Saved csv as:  output/output_centers_0.csv  at  output/output_centers_0.csv\n"
     ]
    }
   ],
   "source": [
    "detect_blobs_log('../../../sample_data/cell_detection_0.tiff', output_path='output/output_centers_0.csv', print_level=True)"
   ]
  },
  {
   "cell_type": "code",
   "execution_count": 3,
   "metadata": {
    "collapsed": false
   },
   "outputs": [
    {
     "name": "stdout",
     "output_type": "stream",
     "text": [
      "Sigma: 1.0\n",
      "Sigma: 6.444444444444445\n",
      "Sigma: 11.88888888888889\n",
      "Sigma: 17.333333333333336\n",
      "Sigma: 22.77777777777778\n",
      "Sigma: 28.22222222222222\n",
      "Sigma: 33.66666666666667\n",
      "Sigma: 39.111111111111114\n",
      "Sigma: 44.55555555555556\n",
      "Sigma: 50.0\n",
      "Saved csv as:  output/output_centers_1.csv  at  output/output_centers_1.csv\n"
     ]
    }
   ],
   "source": [
    "detect_blobs_log('../../../sample_data/cell_detection_1.tiff', output_path='output/output_centers_1', print_level=True)"
   ]
  },
  {
   "cell_type": "code",
   "execution_count": 4,
   "metadata": {
    "collapsed": false
   },
   "outputs": [
    {
     "name": "stdout",
     "output_type": "stream",
     "text": [
      "Sigma: 1.0\n",
      "Sigma: 6.444444444444445\n",
      "Sigma: 11.88888888888889\n",
      "Sigma: 17.333333333333336\n",
      "Sigma: 22.77777777777778\n",
      "Sigma: 28.22222222222222\n",
      "Sigma: 33.66666666666667\n",
      "Sigma: 39.111111111111114\n",
      "Sigma: 44.55555555555556\n",
      "Sigma: 50.0\n",
      "Saved csv as:  output/cell_detection_2.csv  at  output/cell_detection_2.csv\n"
     ]
    }
   ],
   "source": [
    "detect_blobs_log('../../../sample_data/cell_detection_2.tiff', output_path='output/cell_detection_2.csv', print_level=True)"
   ]
  },
  {
   "cell_type": "code",
   "execution_count": 8,
   "metadata": {
    "collapsed": false,
    "scrolled": true
   },
   "outputs": [
    {
     "name": "stdout",
     "output_type": "stream",
     "text": [
      "Sigma: 1.0\n",
      "Sigma: 6.444444444444445\n",
      "Sigma: 11.88888888888889\n",
      "Sigma: 17.333333333333336\n",
      "Sigma: 22.77777777777778\n",
      "Sigma: 28.22222222222222\n",
      "Sigma: 33.66666666666667\n",
      "Sigma: 39.111111111111114\n",
      "Sigma: 44.55555555555556\n",
      "Sigma: 50.0\n",
      "Saved csv as:  output/output_centers_3.csv  at  output/output_centers_3.csv\n"
     ]
    }
   ],
   "source": [
    "detect_blobs_log('../../../sample_data/cell_detection_3.tiff', output_path='output/output_centers_3.csv', print_level=True)"
   ]
  },
  {
   "cell_type": "code",
   "execution_count": 9,
   "metadata": {
    "collapsed": false
   },
   "outputs": [
    {
     "name": "stdout",
     "output_type": "stream",
     "text": [
      "Sigma: 1.0\n",
      "Sigma: 6.444444444444445\n",
      "Sigma: 11.88888888888889\n",
      "Sigma: 17.333333333333336\n",
      "Sigma: 22.77777777777778\n",
      "Sigma: 28.22222222222222\n",
      "Sigma: 33.66666666666667\n",
      "Sigma: 39.111111111111114\n",
      "Sigma: 44.55555555555556\n",
      "Sigma: 50.0\n",
      "Saved csv as:  output/output_centers_4.csv  at  output/output_centers_4.csv\n"
     ]
    }
   ],
   "source": [
    "detect_blobs_log('../../../sample_data/cell_detection_4.tiff', output_path='output/output_centers_4.csv', print_level=True)"
   ]
  },
  {
   "cell_type": "code",
   "execution_count": 10,
   "metadata": {
    "collapsed": false
   },
   "outputs": [
    {
     "name": "stdout",
     "output_type": "stream",
     "text": [
      "Sigma: 1.0\n",
      "Sigma: 6.444444444444445\n",
      "Sigma: 11.88888888888889\n",
      "Sigma: 17.333333333333336\n",
      "Sigma: 22.77777777777778\n",
      "Sigma: 28.22222222222222\n",
      "Sigma: 33.66666666666667\n",
      "Sigma: 39.111111111111114\n",
      "Sigma: 44.55555555555556\n",
      "Sigma: 50.0\n",
      "Saved csv as:  output/output_centers_5.csv  at  output/output_centers_5.csv\n"
     ]
    }
   ],
   "source": [
    "detect_blobs_log('../../../sample_data/cell_detection_5.tiff', output_path='output/output_centers_5.csv', print_level=True)"
   ]
  },
  {
   "cell_type": "code",
   "execution_count": 11,
   "metadata": {
    "collapsed": false
   },
   "outputs": [
    {
     "name": "stdout",
     "output_type": "stream",
     "text": [
      "Sigma: 1.0\n",
      "Sigma: 6.444444444444445\n",
      "Sigma: 11.88888888888889\n",
      "Sigma: 17.333333333333336\n",
      "Sigma: 22.77777777777778\n",
      "Sigma: 28.22222222222222\n",
      "Sigma: 33.66666666666667\n",
      "Sigma: 39.111111111111114\n",
      "Sigma: 44.55555555555556\n",
      "Sigma: 50.0\n",
      "Saved csv as:  output/output_centers_6.csv  at  output/output_centers_6.csv\n"
     ]
    }
   ],
   "source": [
    "detect_blobs_log('../../../sample_data/cell_detection_6.tiff', output_path='output/output_centers_6.csv', print_level=True)"
   ]
  },
  {
   "cell_type": "code",
   "execution_count": 12,
   "metadata": {
    "collapsed": false
   },
   "outputs": [
    {
     "name": "stdout",
     "output_type": "stream",
     "text": [
      "Sigma: 1.0\n",
      "Sigma: 6.444444444444445\n",
      "Sigma: 11.88888888888889\n",
      "Sigma: 17.333333333333336\n",
      "Sigma: 22.77777777777778\n",
      "Sigma: 28.22222222222222\n",
      "Sigma: 33.66666666666667\n",
      "Sigma: 39.111111111111114\n",
      "Sigma: 44.55555555555556\n",
      "Sigma: 50.0\n",
      "Saved csv as:  output/output_centers_7.csv  at  output/output_centers_7.csv\n"
     ]
    }
   ],
   "source": [
    "detect_blobs_log('../../../sample_data/cell_detection_7.tiff', output_path='output/output_centers_7.csv', print_level=True)"
   ]
  },
  {
   "cell_type": "code",
   "execution_count": 13,
   "metadata": {
    "collapsed": false
   },
   "outputs": [
    {
     "name": "stdout",
     "output_type": "stream",
     "text": [
      "Sigma: 1.0\n",
      "Sigma: 6.444444444444445\n",
      "Sigma: 11.88888888888889\n",
      "Sigma: 17.333333333333336\n",
      "Sigma: 22.77777777777778\n",
      "Sigma: 28.22222222222222\n",
      "Sigma: 33.66666666666667\n",
      "Sigma: 39.111111111111114\n",
      "Sigma: 44.55555555555556\n",
      "Sigma: 50.0\n",
      "Saved csv as:  output/output_centers_8.csv  at  output/output_centers_8.csv\n"
     ]
    }
   ],
   "source": [
    "detect_blobs_log('../../../sample_data/cell_detection_8.tiff', output_path='output/output_centers_8.csv', print_level=True)"
   ]
  },
  {
   "cell_type": "code",
   "execution_count": 14,
   "metadata": {
    "collapsed": false
   },
   "outputs": [
    {
     "name": "stdout",
     "output_type": "stream",
     "text": [
      "Sigma: 1.0\n",
      "Sigma: 6.444444444444445\n",
      "Sigma: 11.88888888888889\n",
      "Sigma: 17.333333333333336\n",
      "Sigma: 22.77777777777778\n",
      "Sigma: 28.22222222222222\n",
      "Sigma: 33.66666666666667\n",
      "Sigma: 39.111111111111114\n",
      "Sigma: 44.55555555555556\n",
      "Sigma: 50.0\n",
      "Saved csv as:  output/output_centers_9.csv  at  output/output_centers_9.csv\n"
     ]
    }
   ],
   "source": [
    "detect_blobs_log('../../../sample_data/cell_detection_9.tiff', output_path='output/output_centers_9.csv', print_level=True)"
   ]
  },
  {
   "cell_type": "code",
   "execution_count": null,
   "metadata": {
    "collapsed": true
   },
   "outputs": [],
   "source": []
  }
 ],
 "metadata": {
  "kernelspec": {
   "display_name": "Python nd36",
   "language": "python",
   "name": "nd36"
  },
  "language_info": {
   "codemirror_mode": {
    "name": "ipython",
    "version": 3
   },
   "file_extension": ".py",
   "mimetype": "text/x-python",
   "name": "python",
   "nbconvert_exporter": "python",
   "pygments_lexer": "ipython3",
   "version": "3.6.2"
  }
 },
 "nbformat": 4,
 "nbformat_minor": 0
}
