{
 "cells": [
  {
   "cell_type": "code",
   "execution_count": 275,
   "metadata": {},
   "outputs": [],
   "source": [
    "import sys\n",
    "sys.path.append('../../../util')\n",
    "from ImageGenerator import ImageGenerator\n",
    "from Grapher import Grapher\n",
    "\n",
    "import numpy as np\n",
    "import matplotlib.pyplot as plt\n",
    "import tifffile as tiff\n",
    "from mpl_toolkits.mplot3d import Axes3D"
   ]
  },
  {
   "cell_type": "code",
   "execution_count": 9,
   "metadata": {},
   "outputs": [
    {
     "name": "stdout",
     "output_type": "stream",
     "text": [
      "4 cells will be drawn on a 500 (x) by 500 (y) by 100 (z) image\n",
      "Saved tif as:  solid_64_cell_25_rad_1.tif  at  solid_64_cell_25_rad_1.tif\n",
      "Saved csv as:  solid_64_cell_25_rad_1_centers.csv  at  solid_64_cell_25_rad_1_centers.csv\n"
     ]
    }
   ],
   "source": [
    "img_gen = ImageGenerator(500, 500, 100)\n",
    "\n",
    "# Most basic, easiest image with 64 solid well separated cells\n",
    "_, centers_1 = img_gen.make_ellipsoidal_image(\n",
    "    25,\n",
    "    25,\n",
    "    10,\n",
    "    200,\n",
    "    200,\n",
    "    10,\n",
    "    fname = \"solid_64_cell_25_rad_1\",\n",
    ")"
   ]
  },
  {
   "cell_type": "code",
   "execution_count": 11,
   "metadata": {},
   "outputs": [
    {
     "name": "stdout",
     "output_type": "stream",
     "text": [
      "1 cells will be drawn on a 500 (x) by 500 (y) by 100 (z) image\n",
      "Saved tif as:  test_2.tif  at  test_2.tif\n",
      "Saved csv as:  test_2_centers.csv  at  test_2_centers.csv\n"
     ]
    }
   ],
   "source": [
    "img_gen = ImageGenerator(500, 500, 100)\n",
    "\n",
    "# Most basic, easiest image with 64 solid well separated cells\n",
    "_, centers_1 = img_gen.make_ellipsoidal_image(\n",
    "    25,\n",
    "    25,\n",
    "    10,\n",
    "    200,\n",
    "    200,\n",
    "    40,\n",
    "    fname = \"test_2\",\n",
    ")"
   ]
  },
  {
   "cell_type": "code",
   "execution_count": 12,
   "metadata": {},
   "outputs": [
    {
     "name": "stdout",
     "output_type": "stream",
     "text": [
      "[[224, 224, 49]]\n"
     ]
    }
   ],
   "source": [
    "print(centers_1)"
   ]
  },
  {
   "cell_type": "markdown",
   "metadata": {},
   "source": [
    "## Testing `np.random`"
   ]
  },
  {
   "cell_type": "markdown",
   "metadata": {},
   "source": [
    "#### uniform"
   ]
  },
  {
   "cell_type": "code",
   "execution_count": 21,
   "metadata": {},
   "outputs": [],
   "source": [
    "s = np.random.uniform(0, 2*np.pi, 1000)\n",
    "# print(s)"
   ]
  },
  {
   "cell_type": "code",
   "execution_count": 22,
   "metadata": {},
   "outputs": [
    {
     "data": {
      "image/png": "[encoded data removed]",
      "text/plain": [
       "<matplotlib.figure.Figure at 0x7f3f209bc358>"
      ]
     },
     "metadata": {},
     "output_type": "display_data"
    }
   ],
   "source": [
    "count, bins, ignored = plt.hist(s, 15, normed=True)\n",
    "plt.plot(bins, np.ones_like(bins), linewidth=2, color='r')\n",
    "plt.show()"
   ]
  },
  {
   "cell_type": "markdown",
   "metadata": {},
   "source": [
    "#### normal"
   ]
  },
  {
   "cell_type": "code",
   "execution_count": 35,
   "metadata": {},
   "outputs": [],
   "source": [
    "mu = 0\n",
    "sigma = np.pi/3\n",
    "s = np.random.normal(mu, sigma, 1000)"
   ]
  },
  {
   "cell_type": "code",
   "execution_count": 36,
   "metadata": {},
   "outputs": [
    {
     "data": {
      "image/png": "[encoded data removed]",
      "text/plain": [
       "<matplotlib.figure.Figure at 0x7f3f207d6390>"
      ]
     },
     "metadata": {},
     "output_type": "display_data"
    }
   ],
   "source": [
    "count, bins, ignored = plt.hist(s, 30, normed=True)\n",
    "plt.plot(bins, 1/(sigma * np.sqrt(2 * np.pi)) *\n",
    "               np.exp( - (bins - mu)**2 / (2 * sigma**2) ),\n",
    "         linewidth=2, color='r')\n",
    "plt.show()"
   ]
  },
  {
   "cell_type": "markdown",
   "metadata": {},
   "source": [
    "## Getting starting point from sphere"
   ]
  },
  {
   "cell_type": "code",
   "execution_count": 223,
   "metadata": {},
   "outputs": [],
   "source": [
    "def sample_spherical(npoints, ndim=3):\n",
    "    vec = np.random.randn(ndim, npoints)\n",
    "    vec /= np.linalg.norm(vec, axis=0)\n",
    "    return vec.reshape((1,3))"
   ]
  },
  {
   "cell_type": "code",
   "execution_count": 224,
   "metadata": {},
   "outputs": [
    {
     "name": "stdout",
     "output_type": "stream",
     "text": [
      "[[ 0.57761641  0.78803479 -0.21297995]]\n"
     ]
    }
   ],
   "source": [
    "start_pt = sample_spherical(1)\n",
    "print(start_pt)"
   ]
  },
  {
   "cell_type": "code",
   "execution_count": 206,
   "metadata": {},
   "outputs": [
    {
     "name": "stdout",
     "output_type": "stream",
     "text": [
      "[[224 224  49]]\n"
     ]
    }
   ],
   "source": [
    "centers_1 = np.array(centers_1)\n",
    "print(centers_1)"
   ]
  },
  {
   "cell_type": "code",
   "execution_count": 226,
   "metadata": {},
   "outputs": [
    {
     "name": "stdout",
     "output_type": "stream",
     "text": [
      "[[49, 224, 224]]\n",
      "[  51.88808204  227.94017393  222.93510024]\n"
     ]
    }
   ],
   "source": [
    "start_pt *= 5\n",
    "pts = [seed]\n",
    "pt = start_pt\n",
    "print(pts)\n",
    "pt = pt[0]\n",
    "pt += pts[0]\n",
    "pts.append(pt)\n",
    "print(pt)"
   ]
  },
  {
   "cell_type": "code",
   "execution_count": 227,
   "metadata": {},
   "outputs": [
    {
     "name": "stdout",
     "output_type": "stream",
     "text": [
      "5.0\n"
     ]
    }
   ],
   "source": [
    "dist = np.linalg.norm(pts[1]-pts[0])\n",
    "print(dist)"
   ]
  },
  {
   "cell_type": "code",
   "execution_count": 209,
   "metadata": {},
   "outputs": [
    {
     "name": "stdout",
     "output_type": "stream",
     "text": [
      "[[49, 224, 224], array([  53.9026254 ,  224.17599859,  223.03393134])]\n"
     ]
    }
   ],
   "source": [
    "print(pts)"
   ]
  },
  {
   "cell_type": "markdown",
   "metadata": {},
   "source": [
    "## whole function for generating segments"
   ]
  },
  {
   "cell_type": "code",
   "execution_count": 277,
   "metadata": {},
   "outputs": [],
   "source": [
    "def gen_points(start, num_segs, seg_len):\n",
    "    start_pt = sample_spherical(1)\n",
    "    start_pt *= seg_len\n",
    "    pts = [start]\n",
    "    pt = start_pt\n",
    "    pt = pt[0]\n",
    "    pt += pts[0]\n",
    "    pts.append(pt)\n",
    "    \n",
    "    for i in range(num_segs-1):\n",
    "        next_pt = get_next_pt(pts[0+i], pts[1+i], seg_len)\n",
    "        pts.append(next_pt)\n",
    "    return np.array(pts)"
   ]
  },
  {
   "cell_type": "markdown",
   "metadata": {},
   "source": [
    "## Generating next coordinate"
   ]
  },
  {
   "cell_type": "code",
   "execution_count": 323,
   "metadata": {},
   "outputs": [],
   "source": [
    "def get_next_pt(prev_pt, curr_pt, seg_length, bound=True):\n",
    "    diff = curr_pt - prev_pt\n",
    "#     next_pt = curr_pt + diff\n",
    "    vec = [np.random.normal(diff[0], seg_length/4),\n",
    "           np.random.normal(diff[1], seg_length/4),\n",
    "           np.random.normal(diff[2], seg_length/4)]\n",
    "    vec = np.array(vec)\n",
    "    vec /= np.linalg.norm(vec)  # normalizing to magnitude of 1\n",
    "    vec *= seg_length\n",
    "    next_pt = curr_pt + vec\n",
    "    while bound and (next_pt[0] < 0 or next_pt[0] >= 100):\n",
    "        vec = [np.random.normal(diff[0], seg_length/3),\n",
    "           np.random.normal(diff[1], seg_length/3),\n",
    "           np.random.normal(diff[2], seg_length/3)]\n",
    "        vec = np.array(vec)\n",
    "        vec /= np.linalg.norm(vec)  # normalizing to magnitude of 1\n",
    "        vec *= seg_length\n",
    "        next_pt = curr_pt + vec\n",
    "    return next_pt"
   ]
  },
  {
   "cell_type": "code",
   "execution_count": 211,
   "metadata": {},
   "outputs": [
    {
     "name": "stdout",
     "output_type": "stream",
     "text": [
      "[[49, 224, 224], array([  53.9026254 ,  224.17599859,  223.03393134])]\n"
     ]
    }
   ],
   "source": [
    "print(pts)"
   ]
  },
  {
   "cell_type": "code",
   "execution_count": 212,
   "metadata": {},
   "outputs": [
    {
     "name": "stdout",
     "output_type": "stream",
     "text": [
      "[  54.74278681  227.67015162  226.51028337]\n"
     ]
    }
   ],
   "source": [
    "next_pt = get_next_pt(pts[0], pts[1], 5)\n",
    "print(next_pt)\n",
    "pts.append(next_pt)"
   ]
  },
  {
   "cell_type": "code",
   "execution_count": 213,
   "metadata": {},
   "outputs": [
    {
     "name": "stdout",
     "output_type": "stream",
     "text": [
      "[[49, 224, 224], array([  53.9026254 ,  224.17599859,  223.03393134]), array([  54.74278681,  227.67015162,  226.51028337])]\n"
     ]
    }
   ],
   "source": [
    "print(pts)"
   ]
  },
  {
   "cell_type": "code",
   "execution_count": 214,
   "metadata": {},
   "outputs": [
    {
     "name": "stdout",
     "output_type": "stream",
     "text": [
      "[[49, 224, 224], array([  53.9026254 ,  224.17599859,  223.03393134]), array([  54.74278681,  227.67015162,  226.51028337]), array([  55.58294821,  231.16430465,  229.98663539]), array([  56.42310962,  234.65845768,  233.46298742]), array([  57.26327102,  238.15261071,  236.93933945]), array([  58.10343243,  241.64676374,  240.41569147]), array([  58.94359383,  245.14091678,  243.8920435 ])]\n"
     ]
    }
   ],
   "source": [
    "for i in range(5):\n",
    "    next_pt = get_next_pt(pts[1+i], pts[2+i], 5)\n",
    "    pts.append(next_pt)\n",
    "print(pts)"
   ]
  },
  {
   "cell_type": "markdown",
   "metadata": {},
   "source": [
    "## Plotting"
   ]
  },
  {
   "cell_type": "code",
   "execution_count": 215,
   "metadata": {},
   "outputs": [
    {
     "name": "stdout",
     "output_type": "stream",
     "text": [
      "(100, 500, 500, 3)\n"
     ]
    }
   ],
   "source": [
    "image = tiff.imread('test_2.tif')\n",
    "print(image.shape)"
   ]
  },
  {
   "cell_type": "code",
   "execution_count": 218,
   "metadata": {},
   "outputs": [],
   "source": [
    "def plot_csv_on_tif(centroids, reference_img_path, tif_output_path):\n",
    "    \"\"\"Given a CSV file, plots the co-ordinates in the CSV on a TIF stack\"\"\"\n",
    "    def _parse_int_array(arr):\n",
    "        return [int(item) for item in arr]\n",
    "\n",
    "    def _draw_square(image, coord, size=2):\n",
    "        coord = _parse_int_array(coord)\n",
    "        shape_z, shape_y, shape_x = image.shape\n",
    "        z_range = range(max(0, coord[0]-size), min(shape_z, coord[0]+size))\n",
    "        y_range = range(max(0, coord[1]-size), min(shape_y, coord[1]+size))\n",
    "        x_range = range(max(0, coord[2]-size), min(shape_x, coord[2]+size))\n",
    "\n",
    "        for z in z_range:\n",
    "            for y in y_range:\n",
    "                for x in x_range:\n",
    "                    image[z, y, x] = 255\n",
    "\n",
    "        return image\n",
    "\n",
    "    ref_image = tiff.imread(reference_img_path)\n",
    "    if len(ref_image.shape) == 4:\n",
    "        ref_image = ref_image[:,:,:,0]\n",
    "    shape_z, shape_y, shape_x = ref_image.shape\n",
    "\n",
    "    annotated_image = np.zeros((shape_z, shape_y, shape_x))\n",
    "\n",
    "    for i, c in enumerate(centroids):\n",
    "        annotated_image = _draw_square(annotated_image, c)\n",
    "        \n",
    "    tiff.imsave(tif_output_path, annotated_image.astype(np.uint8))"
   ]
  },
  {
   "cell_type": "code",
   "execution_count": 314,
   "metadata": {},
   "outputs": [],
   "source": [
    "def plot_lines_on_tif(points, reference_img_path, tif_output_path, overwrite=False):\n",
    "    \"\"\"Given a CSV file, plots the co-ordinates in the CSV on a TIF stack\"\"\"\n",
    "    def _parse_int_array(arr):\n",
    "        return [int(item) for item in arr]\n",
    "\n",
    "    def _draw_square(image, coord, size=2):\n",
    "        coord = _parse_int_array(coord)\n",
    "        shape_z, shape_y, shape_x = image.shape\n",
    "        z_range = range(max(0, coord[0]-size), min(shape_z, coord[0]+size))\n",
    "        y_range = range(max(0, coord[1]-size), min(shape_y, coord[1]+size))\n",
    "        x_range = range(max(0, coord[2]-size), min(shape_x, coord[2]+size))\n",
    "\n",
    "        for z in z_range:\n",
    "            for y in y_range:\n",
    "                for x in x_range:\n",
    "                    image[z, y, x] = 255\n",
    "\n",
    "        return image\n",
    "    \n",
    "    ref_image = tiff.imread(reference_img_path)\n",
    "    if len(ref_image.shape) == 4:\n",
    "        ref_image = ref_image[:,:,:,0]\n",
    "    shape_z, shape_y, shape_x = ref_image.shape\n",
    "\n",
    "    if overwrite:\n",
    "        annotated_image = ref_image\n",
    "    else:\n",
    "        annotated_image = np.zeros((shape_z, shape_y, shape_x))\n",
    "        \n",
    "    for i in range(1, len(points)):\n",
    "        diff = points[i] - points[i-1]\n",
    "        mag = np.linalg.norm(diff)\n",
    "        for j in range(0, int(mag)):\n",
    "            pt = points[i-1] + (float(j) / mag) * diff\n",
    "            annotated_image = _draw_square(annotated_image, pt)\n",
    "        \n",
    "    tiff.imsave(tif_output_path, annotated_image.astype(np.uint8))"
   ]
  },
  {
   "cell_type": "code",
   "execution_count": 221,
   "metadata": {},
   "outputs": [],
   "source": [
    "plot_lines_on_tif(pts, 'test_2.tif', 'test_2_lines.tif')"
   ]
  },
  {
   "cell_type": "code",
   "execution_count": 219,
   "metadata": {},
   "outputs": [],
   "source": [
    "plot_csv_on_tif(pts, 'test_2.tif', 'test_4_csv.tif')"
   ]
  },
  {
   "cell_type": "code",
   "execution_count": 217,
   "metadata": {},
   "outputs": [
    {
     "name": "stdout",
     "output_type": "stream",
     "text": [
      "[[49, 224, 224], array([  53.9026254 ,  224.17599859,  223.03393134]), array([  54.74278681,  227.67015162,  226.51028337]), array([  55.58294821,  231.16430465,  229.98663539]), array([  56.42310962,  234.65845768,  233.46298742]), array([  57.26327102,  238.15261071,  236.93933945]), array([  58.10343243,  241.64676374,  240.41569147]), array([  58.94359383,  245.14091678,  243.8920435 ])]\n"
     ]
    }
   ],
   "source": [
    "print(pts)"
   ]
  },
  {
   "cell_type": "code",
   "execution_count": 222,
   "metadata": {},
   "outputs": [
    {
     "name": "stdout",
     "output_type": "stream",
     "text": [
      "[ 4.9026254   0.17599859 -0.96606866]\n",
      "[ 0.8401614   3.49415303  3.47635203]\n"
     ]
    }
   ],
   "source": [
    "print(pts[1]-pts[0])\n",
    "\n",
    "print(pts[6]-pts[5])"
   ]
  },
  {
   "cell_type": "markdown",
   "metadata": {},
   "source": [
    "## Testing"
   ]
  },
  {
   "cell_type": "code",
   "execution_count": 225,
   "metadata": {},
   "outputs": [],
   "source": [
    "seed = [centers_1[0,2], centers_1[0,1], centers_1[0,0]]"
   ]
  },
  {
   "cell_type": "code",
   "execution_count": 309,
   "metadata": {},
   "outputs": [
    {
     "name": "stdout",
     "output_type": "stream",
     "text": [
      "[[  49.          224.          224.        ]\n",
      " [  44.49186993  215.39275998  241.48119511]\n",
      " [  45.21561775  201.39319     255.74612517]\n",
      " [  40.90303528  185.17222826  266.62187952]\n",
      " [  35.3546685   172.31217485  280.89894688]\n",
      " [  21.94672666  164.82270226  293.71046107]\n",
      " [  10.41732273  154.54444278  306.41598062]\n",
      " [   7.83114926  137.58477746  316.6961294 ]\n",
      " [  11.76971342  119.99027321  325.35182884]\n",
      " [  20.09600603  103.97307526  333.96125514]\n",
      " [  24.21246861   90.82164155  348.45589301]\n",
      " [  34.30135796   88.36559724  365.54922967]\n",
      " [  48.75030232   77.48848355  374.08833996]\n",
      " [  56.23768279   61.51771308  383.51562082]\n",
      " [  56.34268104   41.68528588  386.09705579]\n",
      " [  59.48706592   22.44930988  381.61486088]\n",
      " [  59.3127493     3.17195785  376.29007804]\n",
      " [  56.11881331  -16.5596355   375.60963931]\n",
      " [  48.94543737  -34.84956284  371.86514532]\n",
      " [  38.95958297  -49.55353868  362.69585928]\n",
      " [  32.47939614  -64.27439332  350.80873947]\n",
      " [  33.00029794  -77.571892    335.87872975]\n",
      " [  40.34601576  -92.22970657  324.42495737]\n",
      " [  50.53018116 -109.3103168   326.55463561]\n",
      " [  67.90689688 -117.38732351  320.82648468]\n",
      " [  85.65957328 -126.5528441   319.91231126]\n",
      " [  95.19258037 -144.12909943  320.35618581]\n",
      " [  95.16480326 -162.38698396  328.52006239]\n",
      " [  88.27671578 -172.93239602  344.0554586 ]\n",
      " [  74.75086782 -185.30416559  352.05488074]\n",
      " [  61.93859186 -195.93624362  363.13659999]]\n"
     ]
    }
   ],
   "source": [
    "pts1 = gen_points(seed, num_segs=30, seg_len=20)\n",
    "print(pts1)\n",
    "plot_lines_on_tif(pts1, 'test_2.tif', 'test_1_lines.tif')"
   ]
  },
  {
   "cell_type": "code",
   "execution_count": 310,
   "metadata": {},
   "outputs": [
    {
     "name": "stdout",
     "output_type": "stream",
     "text": [
      "[ 224.          241.48119511  255.74612517  266.62187952  280.89894688\n",
      "  293.71046107  306.41598062  316.6961294   325.35182884  333.96125514\n",
      "  348.45589301  365.54922967  374.08833996  383.51562082  386.09705579\n",
      "  381.61486088  376.29007804  375.60963931  371.86514532  362.69585928\n",
      "  350.80873947  335.87872975  324.42495737  326.55463561  320.82648468\n",
      "  319.91231126  320.35618581  328.52006239  344.0554586   352.05488074\n",
      "  363.13659999]\n"
     ]
    },
    {
     "data": {
      "image/png": "[encoded data removed]",
      "text/plain": [
       "<matplotlib.figure.Figure at 0x7f3f207f2ac8>"
      ]
     },
     "metadata": {},
     "output_type": "display_data"
    }
   ],
   "source": [
    "zs = pts1[:,0]\n",
    "ys = pts1[:,1]\n",
    "xs = pts1[:,2]\n",
    "print(xs)\n",
    "\n",
    "fig = plt.figure()\n",
    "ax = fig.add_subplot(111, projection='3d')\n",
    "\n",
    "ax.scatter(xs, ys, zs, c=c, marker=m)\n",
    "\n",
    "ax.set_xlabel('X Label')\n",
    "ax.set_ylabel('Y Label')\n",
    "ax.set_zlabel('Z Label')\n",
    "\n",
    "plt.show()"
   ]
  },
  {
   "cell_type": "code",
   "execution_count": 264,
   "metadata": {},
   "outputs": [
    {
     "name": "stdout",
     "output_type": "stream",
     "text": [
      "[ 19.3604991   -1.07942204   4.89958391]\n",
      "20.0\n",
      "[  3.21257404  14.11257955  13.8026978 ]\n"
     ]
    }
   ],
   "source": [
    "print(pts[1]-pts[0])\n",
    "print(np.linalg.norm(pts[1]-pts[0]))\n",
    "print(pts[6]-pts[5])\n"
   ]
  },
  {
   "cell_type": "code",
   "execution_count": 241,
   "metadata": {},
   "outputs": [
    {
     "name": "stdout",
     "output_type": "stream",
     "text": [
      "(100, 500, 500)\n"
     ]
    }
   ],
   "source": [
    "test = tiff.imread('test_3_lines.tif')\n",
    "print(test.shape)"
   ]
  },
  {
   "cell_type": "code",
   "execution_count": 257,
   "metadata": {},
   "outputs": [
    {
     "data": {
      "text/plain": [
       "255"
      ]
     },
     "execution_count": 257,
     "metadata": {},
     "output_type": "execute_result"
    }
   ],
   "source": [
    "test[87,  353,  352]"
   ]
  },
  {
   "cell_type": "markdown",
   "metadata": {},
   "source": [
    "## Test 2"
   ]
  },
  {
   "cell_type": "code",
   "execution_count": 311,
   "metadata": {},
   "outputs": [
    {
     "name": "stdout",
     "output_type": "stream",
     "text": [
      "[49, 224, 224]\n"
     ]
    }
   ],
   "source": [
    "print(seed)"
   ]
  },
  {
   "cell_type": "code",
   "execution_count": 322,
   "metadata": {},
   "outputs": [
    {
     "name": "stdout",
     "output_type": "stream",
     "text": [
      "[[  78.          300.          400.        ]\n",
      " [  90.37975444  286.79229949  391.4971577 ]\n",
      " [  98.78815072  277.61310802  375.84336212]\n",
      " [  86.9934855   261.63003478  373.51371793]\n",
      " [  72.27051132  248.0943833   373.37169603]\n",
      " [  55.19843961  238.21971287  376.69363096]\n",
      " [  39.42291804  227.10048443  381.93726308]\n",
      " [  20.83158054  220.34807295  384.89819356]\n",
      " [   2.66919518  212.3934365   387.51573383]\n",
      " [   2.9719176   200.95743063  403.92079796]\n",
      " [   2.70030824  190.47650762  420.95242974]\n",
      " [   8.20122479  174.39986204  431.50142893]\n",
      " [  11.22935143  155.02984447  435.45527118]\n",
      " [  13.16775114  135.82158453  430.23173248]\n",
      " [  12.43210141  115.85954579  429.24389186]\n",
      " [  12.62546618   96.20815776  432.95678273]\n",
      " [   8.86973937   76.7215625   435.44015165]\n",
      " [   3.0580721    57.6841264   437.38965166]\n",
      " [   3.48945352   38.07842854  441.31782191]\n",
      " [  12.88020069   24.24903103  452.29787802]\n",
      " [  18.33375726    9.11161691  464.17716311]]\n",
      "[[  10.          130.          120.        ]\n",
      " [  -3.86507235  119.85500671  130.23908589]\n",
      " [   5.4472696   117.6678215   147.80315456]\n",
      " [  12.9190997   116.37322791  166.30979614]\n",
      " [  15.82521547  111.01924126  185.35945016]\n",
      " [  21.96702302  113.48458438  204.23271917]\n",
      " [  26.76561337  114.789414    223.60463055]\n",
      " [  36.35272039  113.80963609  241.12968159]\n",
      " [  51.83878073  118.23153749  252.9883798 ]\n",
      " [  70.69478075  117.93564105  259.64898854]\n",
      " [  90.27803406  120.25610101  262.98240352]\n",
      " [  98.55710979  112.84576582  279.61201077]\n",
      " [  86.14775319  105.83746092  293.64381504]\n",
      " [  69.25560362   96.53462963  298.94594788]\n",
      " [  50.76422358   90.65399697  303.79228917]\n",
      " [  31.12664189   87.99318625  306.49145048]\n",
      " [  11.15593408   87.22753043  307.25604221]\n",
      " [   1.23855939   90.23004381  324.36249108]\n",
      " [   1.46155386   72.72479441  334.03288491]\n",
      " [  12.30599006   56.3864183   337.96425487]\n",
      " [  22.34469871   39.92394778  343.2756947 ]]\n"
     ]
    }
   ],
   "source": [
    "pts2 = gen_points([78, 300, 400], num_segs=20, seg_len=20)\n",
    "print(pts2)\n",
    "plot_lines_on_tif(pts2, 'test_2.tif', 'test_2_lines.tif')\n",
    "\n",
    "pts3 = gen_points([10, 130, 120], num_segs=20, seg_len=20)\n",
    "print(pts3)\n",
    "plot_lines_on_tif(pts3, 'test_2_lines.tif', 'test_2_lines.tif', overwrite=True)"
   ]
  },
  {
   "cell_type": "code",
   "execution_count": 279,
   "metadata": {},
   "outputs": [
    {
     "name": "stdout",
     "output_type": "stream",
     "text": [
      "(100, 500, 500)\n"
     ]
    }
   ],
   "source": [
    "test = tiff.imread('test_4_lines.tif')\n",
    "print(test.shape)"
   ]
  },
  {
   "cell_type": "code",
   "execution_count": 284,
   "metadata": {},
   "outputs": [
    {
     "data": {
      "text/plain": [
       "255"
      ]
     },
     "execution_count": 284,
     "metadata": {},
     "output_type": "execute_result"
    }
   ],
   "source": [
    "test[98,  440,  450]"
   ]
  },
  {
   "cell_type": "code",
   "execution_count": 290,
   "metadata": {},
   "outputs": [
    {
     "name": "stdout",
     "output_type": "stream",
     "text": [
      "[ 224.          243.34083962  257.14353741  270.94623521  284.74893301\n",
      "  298.5516308   312.3543286   326.1570264   339.9597242   353.76242199\n",
      "  367.56511979  381.36781759  395.17051539  408.97321318  422.77591098\n",
      "  436.57860878  450.38130657  464.18400437  477.98670217  491.78939997\n",
      "  505.59209776]\n"
     ]
    }
   ],
   "source": [
    "zs = pts2[:,0]\n",
    "ys = pts2[:,1]\n",
    "xs = pts2[:,2]\n",
    "print(xs)"
   ]
  },
  {
   "cell_type": "code",
   "execution_count": 288,
   "metadata": {},
   "outputs": [
    {
     "data": {
      "image/png": "[encoded data removed]",
      "text/plain": [
       "<matplotlib.figure.Figure at 0x7f3f1773fdd8>"
      ]
     },
     "metadata": {},
     "output_type": "display_data"
    }
   ],
   "source": [
    "fig = plt.figure()\n",
    "ax = fig.add_subplot(111, projection='3d')\n",
    "\n",
    "ax.scatter(xs, ys, zs, c=c, marker=m)\n",
    "\n",
    "ax.set_xlabel('X Label')\n",
    "ax.set_ylabel('Y Label')\n",
    "ax.set_zlabel('Z Label')\n",
    "\n",
    "plt.show()"
   ]
  },
  {
   "cell_type": "code",
   "execution_count": 289,
   "metadata": {},
   "outputs": [
    {
     "name": "stdout",
     "output_type": "stream",
     "text": [
      "21\n",
      "[  1.24619782   4.93750078  19.34083962]\n",
      "20.0\n",
      "[  3.21257404  14.11257955  13.8026978 ]\n",
      "[  3.21257404  14.11257955  13.8026978 ]\n"
     ]
    }
   ],
   "source": [
    "print(len(pts_2))\n",
    "print(pts_2[1]-pts_2[0])\n",
    "print(np.linalg.norm(pts[1]-pts[0]))\n",
    "print(pts_2[6]-pts_2[5])\n",
    "print(pts_2[11] - pts_2[10])\n"
   ]
  },
  {
   "cell_type": "markdown",
   "metadata": {},
   "source": [
    "## Test 3"
   ]
  },
  {
   "cell_type": "code",
   "execution_count": 321,
   "metadata": {},
   "outputs": [
    {
     "name": "stdout",
     "output_type": "stream",
     "text": [
      "[[  47.          450.          240.        ]\n",
      " [  49.96858678  436.99555385  225.09792388]\n",
      " [  60.32492731  431.75005087  208.8120125 ]\n",
      " [  70.87987811  421.49252537  195.27036621]\n",
      " [  86.72970582  415.84998825  184.45626726]\n",
      " [  95.25011395  398.58081765  179.05456455]\n",
      " [  97.34821154  378.90114192  176.17214374]\n",
      " [  99.22114121  359.02704451  174.94235249]\n",
      " [  97.71089316  340.18872806  168.39735559]\n",
      " [  87.40193498  323.3504259   165.20408746]\n",
      " [  81.84025535  306.10497036  156.73874736]\n",
      " [  76.86548454  291.13442194  144.44507682]\n",
      " [  80.25951847  272.50579594  138.00653452]\n",
      " [  71.15798989  258.78714456  126.65044444]\n",
      " [  66.52507383  251.23016412  108.72202746]\n",
      " [  69.13072264  241.78430499   91.28682343]\n",
      " [  73.08361558  243.25832232   71.73683851]\n",
      " [  81.39018582  243.71023875   53.54902219]\n",
      " [  88.58984408  239.54998555   35.35954133]\n",
      " [  91.90941615  235.74868968   16.00674848]\n",
      " [  92.67259204  228.94004837   -2.78314152]]\n",
      "[[  7.80000000e+01   3.00000000e+02   4.00000000e+02]\n",
      " [  6.91078248e+01   3.16015853e+02   3.91973688e+02]\n",
      " [  5.86589014e+01   3.30923386e+02   3.83692055e+02]\n",
      " [  4.70200057e+01   3.44966937e+02   3.75487496e+02]\n",
      " [  3.39543020e+01   3.60015728e+02   3.73807827e+02]\n",
      " [  2.17209529e+01   3.75613370e+02   3.76464650e+02]\n",
      " [  2.07359479e+01   3.95227506e+02   3.80248225e+02]\n",
      " [  1.96446248e+01   4.15192320e+02   3.80712173e+02]\n",
      " [  8.64224991e+00   4.30724138e+02   3.86853050e+02]\n",
      " [  3.41172831e+00   4.48579920e+02   3.94188762e+02]\n",
      " [  3.20098283e+00   4.66826890e+02   4.02374340e+02]\n",
      " [  1.01818019e-01   4.86472767e+02   4.04480210e+02]\n",
      " [  1.14313818e+00   4.99757326e+02   4.19394503e+02]\n",
      " [  4.22230089e+00   5.18392355e+02   4.25971314e+02]\n",
      " [  1.50932697e+01   5.33071485e+02   4.34116570e+02]\n",
      " [  2.85919350e+01   5.47392534e+02   4.37679376e+02]\n",
      " [  4.40038131e+01   5.59022866e+02   4.42895639e+02]\n",
      " [  5.11441576e+01   5.77402202e+02   4.46244592e+02]\n",
      " [  5.58291033e+01   5.96140906e+02   4.51432294e+02]\n",
      " [  6.40257960e+01   6.13832371e+02   4.46979622e+02]\n",
      " [  7.04611558e+01   6.32064791e+02   4.41864448e+02]]\n",
      "[[  10.          130.          120.        ]\n",
      " [  21.76716297  113.91819667  118.29428105]\n",
      " [  28.13064303   95.04172085  116.50968517]\n",
      " [  29.43389087   75.13226246  117.89352462]\n",
      " [  40.94189785   62.61987401  128.42945888]\n",
      " [  56.32933625   56.26940002  139.51540582]\n",
      " [  64.59675346   40.10456385  147.90277038]\n",
      " [  72.48455347   22.71877272  153.8623742 ]\n",
      " [  76.9076874     6.68483885  164.96862698]\n",
      " [  88.32953611   -9.46241024  167.93640708]\n",
      " [  95.82874748  -26.81917328  174.45596274]\n",
      " [  85.50279056  -42.04424284  182.30273728]\n",
      " [  81.66424354  -57.7560464   194.06729361]\n",
      " [  75.80659843  -67.38226081  210.5907312 ]\n",
      " [  67.81952849  -74.25298003  227.59072917]\n",
      " [  55.44654545  -86.69185588  237.19196131]\n",
      " [  43.01339417 -101.64771525  241.85447348]\n",
      " [  35.80029989 -119.92407712  245.58889014]\n",
      " [  24.19369383 -136.15102525  246.99347187]\n",
      " [  14.67933039 -153.02675945  251.96202133]\n",
      " [   1.29719704 -165.94825955  259.3073152 ]]\n"
     ]
    }
   ],
   "source": [
    "pts1 = gen_points([47, 450, 240], num_segs=20, seg_len=20)\n",
    "print(pts1)\n",
    "plot_lines_on_tif(pts1, 'test_2.tif', 'test_3_lines.tif')\n",
    "\n",
    "pts2 = gen_points([78, 300, 400], num_segs=20, seg_len=20)\n",
    "print(pts2)\n",
    "plot_lines_on_tif(pts2, 'test_3_lines.tif', 'test_3_lines.tif', overwrite=True)\n",
    "\n",
    "pts3 = gen_points([10, 130, 120], num_segs=20, seg_len=20)\n",
    "print(pts3)\n",
    "plot_lines_on_tif(pts3, 'test_3_lines.tif', 'test_3_lines.tif', overwrite=True)"
   ]
  },
  {
   "cell_type": "code",
   "execution_count": 300,
   "metadata": {},
   "outputs": [
    {
     "name": "stdout",
     "output_type": "stream",
     "text": [
      "[ 224.          210.43487948  207.31095979  189.20776443  178.73667705\n",
      "  175.35688465  166.99429053  168.22652781  160.60101124  160.62161637\n",
      "  164.49058315  172.51059466  179.80025009  192.66174916  210.51599879\n",
      "  216.27608153  223.74045229  220.17755628  205.00703021  194.78499156\n",
      "  194.67120862]\n"
     ]
    },
    {
     "data": {
      "image/png": "[encoded data removed]",
      "text/plain": [
       "<matplotlib.figure.Figure at 0x7f3f17744630>"
      ]
     },
     "metadata": {},
     "output_type": "display_data"
    }
   ],
   "source": [
    "zs = pts3[:,0]\n",
    "ys = pts3[:,1]\n",
    "xs = pts3[:,2]\n",
    "print(xs)\n",
    "\n",
    "fig = plt.figure()\n",
    "ax = fig.add_subplot(111, projection='3d')\n",
    "\n",
    "ax.scatter(xs, ys, zs, c=c, marker=m)\n",
    "\n",
    "ax.set_xlabel('X Label')\n",
    "ax.set_ylabel('Y Label')\n",
    "ax.set_zlabel('Z Label')\n",
    "\n",
    "plt.show()"
   ]
  },
  {
   "cell_type": "markdown",
   "metadata": {},
   "source": [
    "## Test 4"
   ]
  },
  {
   "cell_type": "code",
   "execution_count": 324,
   "metadata": {},
   "outputs": [
    {
     "name": "stdout",
     "output_type": "stream",
     "text": [
      "[[  47.          450.          240.        ]\n",
      " [  45.8393582   440.58574107  222.39248344]\n",
      " [  41.04031648  425.63159339  210.00932286]\n",
      " [  44.63500398  408.40454181  200.50632779]\n",
      " [  40.18395306  389.22032748  197.02005954]\n",
      " [  28.41677284  373.4586957   193.4000549 ]\n",
      " [  14.74443615  358.97467986  191.58884144]\n",
      " [   5.34475773  341.66940769  195.07791021]\n",
      " [  11.32910496  323.23571645  200.01619083]\n",
      " [  19.88337054  305.75673975  204.63245706]\n",
      " [  28.07329648  287.95045331  208.61507884]\n",
      " [  35.99183474  272.48601911  218.52204743]\n",
      " [  47.88414772  257.66980194  224.77125545]\n",
      " [  60.68997022  245.11800149  233.62920192]\n",
      " [  69.1333747   235.9826022   249.28977025]\n",
      " [  78.31102221  230.20996375  266.09594267]\n",
      " [  88.45924791  227.79182601  283.1595333 ]\n",
      " [  94.54478862  225.66864101  302.09252777]\n",
      " [  96.50586324  208.27700135  311.77163187]\n",
      " [  94.91944504  189.42505192  318.25910288]\n",
      " [  89.37049862  170.77849226  322.89753004]]\n",
      "[[  78.          300.          400.        ]\n",
      " [  83.02040941  310.12622838  416.50015115]\n",
      " [  84.11354967  315.4245078   435.75458647]\n",
      " [  78.55426334  320.0536691   454.40036887]\n",
      " [  73.58817995  323.28652115  473.50237618]\n",
      " [  66.71166245  325.67279471  492.13082769]\n",
      " [  55.26557692  323.07086283  508.32394588]\n",
      " [  44.82743751  321.17088432  525.27786363]\n",
      " [  45.83187758  309.69764168  541.62888206]\n",
      " [  38.16401126  300.92262431  557.88320137]\n",
      " [  33.46478365  286.22977492  570.61259399]\n",
      " [  25.16184969  271.9135577   581.84234074]\n",
      " [  15.14175124  256.72843188  590.14954129]\n",
      " [   3.609992    242.09986074  597.43126055]\n",
      " [   1.26858245  222.24113692  597.81712252]\n",
      " [   0.94176055  202.5548069   601.33018356]\n",
      " [   4.51881314  184.3456075   608.78871907]\n",
      " [   1.89307952  164.58425287  610.39942881]\n",
      " [   2.22436175  145.81998299  603.48622201]\n",
      " [  11.14157775  127.92043628  603.78536487]\n",
      " [  23.48273076  112.25548244  602.26708841]]\n",
      "[[  10.          130.          120.        ]\n",
      " [   4.1683018   113.64232345  110.07942976]\n",
      " [   2.16565707   95.38552408  102.16244227]\n",
      " [  17.09634646   82.46679999   98.97166144]\n",
      " [  32.34099199   70.12287287  102.87399995]\n",
      " [  48.23929533   58.23954839  105.32971782]\n",
      " [  67.16721873   52.21343901  103.00168829]\n",
      " [  86.95648059   50.58485522  105.39602111]\n",
      " [  99.34560722   43.75755186  119.5345313 ]\n",
      " [  97.7778534    31.14230709  134.97466561]\n",
      " [  94.31429708   21.36009948  152.07180548]\n",
      " [  85.45731106   11.5749264   167.09858779]\n",
      " [  90.48509056   -5.93046298  175.36192707]\n",
      " [  94.40969559  -21.81171114  186.86772701]\n",
      " [  85.1759115   -26.59451157  203.95169761]\n",
      " [  78.31830908  -28.04858801  222.6829269 ]\n",
      " [  64.90889349  -33.55972159  236.46026264]\n",
      " [  54.92203374  -46.38915783  248.10793186]\n",
      " [  44.64871157  -61.62880698  255.9953868 ]\n",
      " [  33.87758549  -78.24688608  258.7922225 ]\n",
      " [  22.23392424  -94.50761824  258.67499479]]\n",
      "[[  3.00000000e+01   4.30000000e+02   1.00000000e+02]\n",
      " [  1.85634023e+01   4.14677984e+02   1.05868564e+02]\n",
      " [  1.22092222e+01   3.98065164e+02   1.15013979e+02]\n",
      " [  3.34150538e+00   3.80450195e+02   1.18342111e+02]\n",
      " [  5.64186726e-01   3.63370524e+02   1.28370638e+02]\n",
      " [  2.04073020e-01   3.44452865e+02   1.34850800e+02]\n",
      " [  4.22273231e+00   3.25736015e+02   1.40641300e+02]\n",
      " [  1.25909353e+01   3.11979186e+02   1.52503965e+02]\n",
      " [  2.04443280e+01   2.95095901e+02   1.59803206e+02]\n",
      " [  2.44978342e+01   2.75561847e+02   1.61213819e+02]\n",
      " [  2.58168292e+01   2.57156515e+02   1.53499935e+02]\n",
      " [  2.62586755e+01   2.37200183e+02   1.52255114e+02]\n",
      " [  2.62829722e+01   2.17633792e+02   1.48113162e+02]\n",
      " [  2.90221740e+01   1.99770864e+02   1.39545048e+02]\n",
      " [  3.00613752e+01   1.82028018e+02   1.30373817e+02]\n",
      " [  2.52569800e+01   1.67419729e+02   1.17586492e+02]\n",
      " [  2.39400953e+01   1.55227630e+02   1.01787172e+02]\n",
      " [  2.17897092e+01   1.42629060e+02   8.64036777e+01]\n",
      " [  1.99368852e+01   1.34104892e+02   6.84063002e+01]\n",
      " [  1.90068384e+01   1.19711643e+02   5.45509977e+01]\n",
      " [  2.01033904e+01   1.00505118e+02   4.90822702e+01]]\n"
     ]
    }
   ],
   "source": [
    "pts1 = gen_points([47, 450, 240], num_segs=20, seg_len=20)\n",
    "print(pts1)\n",
    "plot_lines_on_tif(pts1, 'test_2.tif', 'test_4_lines.tif')\n",
    "\n",
    "pts2 = gen_points([78, 300, 400], num_segs=20, seg_len=20)\n",
    "print(pts2)\n",
    "plot_lines_on_tif(pts2, 'test_4_lines.tif', 'test_4_lines.tif', overwrite=True)\n",
    "\n",
    "pts3 = gen_points([10, 130, 120], num_segs=20, seg_len=20)\n",
    "print(pts3)\n",
    "plot_lines_on_tif(pts3, 'test_4_lines.tif', 'test_4_lines.tif', overwrite=True)\n",
    "\n",
    "pts3 = gen_points([30, 430, 100], num_segs=20, seg_len=20)\n",
    "print(pts3)\n",
    "plot_lines_on_tif(pts3, 'test_4_lines.tif', 'test_4_lines.tif', overwrite=True)"
   ]
  },
  {
   "cell_type": "markdown",
   "metadata": {},
   "source": [
    "## Test 5"
   ]
  },
  {
   "cell_type": "code",
   "execution_count": 326,
   "metadata": {},
   "outputs": [],
   "source": [
    "pts1 = gen_points([47, 450, 240], num_segs=30, seg_len=20)\n",
    "# print(pts1)\n",
    "plot_lines_on_tif(pts1, 'test_2.tif', 'test_5_lines.tif')\n",
    "\n",
    "pts2 = gen_points([78, 300, 400], num_segs=30, seg_len=20)\n",
    "# print(pts2)\n",
    "plot_lines_on_tif(pts2, 'test_5_lines.tif', 'test_5_lines.tif', overwrite=True)\n",
    "\n",
    "pts3 = gen_points([10, 130, 120], num_segs=30, seg_len=20)\n",
    "# print(pts3)\n",
    "plot_lines_on_tif(pts3, 'test_5_lines.tif', 'test_5_lines.tif', overwrite=True)\n",
    "\n",
    "pts3 = gen_points([30, 430, 100], num_segs=30, seg_len=20)\n",
    "# print(pts3)\n",
    "plot_lines_on_tif(pts3, 'test_5_lines.tif', 'test_5_lines.tif', overwrite=True)"
   ]
  },
  {
   "cell_type": "code",
   "execution_count": null,
   "metadata": {},
   "outputs": [],
   "source": []
  },
  {
   "cell_type": "markdown",
   "metadata": {},
   "source": [
    "## Generating two angles (deprecated)"
   ]
  },
  {
   "cell_type": "code",
   "execution_count": 39,
   "metadata": {},
   "outputs": [
    {
     "name": "stdout",
     "output_type": "stream",
     "text": [
      "angle 1 0.32553356379821\n"
     ]
    }
   ],
   "source": [
    "# a1 = np.random.uniform(0, 2*np.pi, 1)\n",
    "a1 = np.random.uniform(0, 2*np.pi)\n",
    "print('angle 1:', a1)"
   ]
  },
  {
   "cell_type": "code",
   "execution_count": 40,
   "metadata": {},
   "outputs": [
    {
     "name": "stdout",
     "output_type": "stream",
     "text": [
      "angle 2: 0.23198539474436242\n"
     ]
    }
   ],
   "source": [
    "a2 = np.random.normal(0, np.pi/3)\n",
    "while (a2 < 0 or a2 > np.pi):\n",
    "    a2 = np.random.normal(0, np.pi/3)\n",
    "print('angle 2:', a2)\n"
   ]
  },
  {
   "cell_type": "code",
   "execution_count": 295,
   "metadata": {},
   "outputs": [
    {
     "data": {
      "text/plain": [
       "1.8780920815298818"
      ]
     },
     "execution_count": 295,
     "metadata": {},
     "output_type": "execute_result"
    }
   ],
   "source": [
    "np.random.normal(0, 1)"
   ]
  }
 ],
 "metadata": {
  "kernelspec": {
   "display_name": "Python 3",
   "language": "python",
   "name": "python3"
  },
  "language_info": {
   "codemirror_mode": {
    "name": "ipython",
    "version": 3
   },
   "file_extension": ".py",
   "mimetype": "text/x-python",
   "name": "python",
   "nbconvert_exporter": "python",
   "pygments_lexer": "ipython3",
   "version": "3.5.2"
  }
 },
 "nbformat": 4,
 "nbformat_minor": 2
}
