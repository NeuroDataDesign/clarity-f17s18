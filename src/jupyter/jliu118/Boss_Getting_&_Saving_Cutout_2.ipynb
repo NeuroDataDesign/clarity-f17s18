{
 "cells": [
  {
   "cell_type": "markdown",
   "metadata": {},
   "source": [
    "### Last updated: Sept 17, 2017\n",
    "\n",
    "### Based on NeuroDataResource.py (by [bdstat](https://github.com/bstadt)) which can be found [here](https://github.com/NeuroDataDesign/nomads-f17s18/blob/master/source/bstadt/NeuroDataResource/NeuroDataResource.py)."
   ]
  },
  {
   "cell_type": "code",
   "execution_count": 1,
   "metadata": {
    "collapsed": false
   },
   "outputs": [
    {
     "data": {
      "text/html": [
       "<script>requirejs.config({paths: { 'plotly': ['https://cdn.plot.ly/plotly-latest.min']},});if(!window.Plotly) {{require(['plotly'],function(plotly) {window.Plotly=plotly;});}}</script>"
      ],
      "text/vnd.plotly.v1+html": [
       "<script>requirejs.config({paths: { 'plotly': ['https://cdn.plot.ly/plotly-latest.min']},});if(!window.Plotly) {{require(['plotly'],function(plotly) {window.Plotly=plotly;});}}</script>"
      ]
     },
     "metadata": {},
     "output_type": "display_data"
    }
   ],
   "source": [
    "import time\n",
    "import pickle\n",
    "import numpy as np\n",
    "import matplotlib.pyplot as plt\n",
    "from NeuroDataResource import NeuroDataResource\n",
    "\n",
    "from plotly.offline import download_plotlyjs, init_notebook_mode, plot, iplot\n",
    "import plotly.graph_objs as go\n",
    "init_notebook_mode(connected=True)\n",
    "\n",
    "from matplotlib import pyplot as plt  # for displaying the image slices\n",
    "import nibabel as nib  # for saving and loading the downloaded volume to nifti (.nii) files\n",
    "import SimpleITK as sitk\n",
    "from tifffile import imsave"
   ]
  },
  {
   "cell_type": "markdown",
   "metadata": {},
   "source": [
    "# Connecting to the Boss Api\n",
    "\n",
    "#### Api keys can be obtained from [here](https://api.boss.neurodata.io/v1/mgmt/token)."
   ]
  },
  {
   "cell_type": "code",
   "execution_count": 3,
   "metadata": {
    "collapsed": false,
    "scrolled": false
   },
   "outputs": [],
   "source": [
    "apiKey = pickle.load(open('.keys/boss_token.pkl', 'rb'))\n",
    "\n",
    "# alternatively you could do:\n",
    "# apiKey = <string of api key>\n",
    "\n",
    "# but if you don't want to publicly display the key in the jupyter notebook, \n",
    "# you should just load the string of the key from a file like a .pkl"
   ]
  },
  {
   "cell_type": "code",
   "execution_count": 23,
   "metadata": {
    "collapsed": false
   },
   "outputs": [],
   "source": [
    "myResource = NeuroDataResource('api.boss.neurodata.io',\n",
    "                               apiKey,\n",
    "                               'ailey-dev',\n",
    "                               '170726_Insula-vCapture-Atenolol2_00-56-01',\n",
    "                               [{'name': 'Ch0', 'dtype':'uint16'}])"
   ]
  },
  {
   "cell_type": "markdown",
   "metadata": {},
   "source": [
    "# Getting the cutout volume"
   ]
  },
  {
   "cell_type": "code",
   "execution_count": 24,
   "metadata": {
    "collapsed": false
   },
   "outputs": [],
   "source": [
    "x_range = [1560, 2160]\n",
    "y_range = [677, 1177]\n",
    "z_range = [622, 1022]"
   ]
  },
  {
   "cell_type": "code",
   "execution_count": 26,
   "metadata": {
    "collapsed": false
   },
   "outputs": [
    {
     "name": "stdout",
     "output_type": "stream",
     "text": [
      "(z, y, x):\n",
      "(400, 500, 600)\n"
     ]
    }
   ],
   "source": [
    "cutout = myResource.get_cutout('Ch0', z_range, y_range, x_range)\n",
    "print('(z, y, x):')\n",
    "print(cutout.shape)"
   ]
  },
  {
   "cell_type": "code",
   "execution_count": 27,
   "metadata": {
    "collapsed": false
   },
   "outputs": [
    {
     "name": "stdout",
     "output_type": "stream",
     "text": [
      "<type 'numpy.ndarray'>\n"
     ]
    }
   ],
   "source": [
    "print(type(cutout))"
   ]
  },
  {
   "cell_type": "markdown",
   "metadata": {},
   "source": [
    "# Displaying a slice of the cutout volume\n",
    "### (somewhat hacky, i.e. not sure this is the best way)"
   ]
  },
  {
   "cell_type": "code",
   "execution_count": 9,
   "metadata": {
    "collapsed": false
   },
   "outputs": [
    {
     "name": "stdout",
     "output_type": "stream",
     "text": [
      "(500, 600)\n",
      "[[ 0.  0.  0. ...,  0.  0.  0.]\n",
      " [ 0.  0.  0. ...,  0.  0.  0.]\n",
      " [ 0.  0.  0. ...,  0.  0.  0.]\n",
      " ..., \n",
      " [ 0.  0.  0. ...,  0.  0.  0.]\n",
      " [ 0.  0.  0. ...,  0.  0.  0.]\n",
      " [ 0.  0.  0. ...,  0.  0.  0.]]\n"
     ]
    }
   ],
   "source": [
    "# Getting a slice of the volume at z = 50 of the volume.\n",
    "cutout_slice = cutout[50,:,:]\n",
    "\n",
    "print(cutout_slice.shape)\n",
    "print(cutout_slice)"
   ]
  },
  {
   "cell_type": "code",
   "execution_count": 10,
   "metadata": {
    "collapsed": false,
    "scrolled": true
   },
   "outputs": [
    {
     "data": {
      "image/png": "[encoded data removed]",
      "text/plain": [
       "<matplotlib.figure.Figure at 0x104432150>"
      ]
     },
     "metadata": {},
     "output_type": "display_data"
    }
   ],
   "source": [
    "plt.imshow(cutout_slice, cmap='gray')\n",
    "plt.show()"
   ]
  },
  {
   "cell_type": "markdown",
   "metadata": {},
   "source": [
    "# Separating the cutout into 4 cutouts"
   ]
  },
  {
   "cell_type": "code",
   "execution_count": 28,
   "metadata": {
    "collapsed": false,
    "scrolled": true
   },
   "outputs": [
    {
     "name": "stdout",
     "output_type": "stream",
     "text": [
      "(100, 500, 600)\n",
      "(100, 500, 600)\n",
      "(100, 500, 600)\n",
      "(100, 500, 600)\n"
     ]
    }
   ],
   "source": [
    "# Separating cutouts\n",
    "cutout_1 = cutout[0:100,:,:]\n",
    "cutout_2 = cutout[100:200,:,:]\n",
    "cutout_3 = cutout[200:300,:,:]\n",
    "cutout_4 = cutout[300:400,:,:]\n",
    "\n",
    "print(cutout_1.shape)\n",
    "print(cutout_2.shape)\n",
    "print(cutout_3.shape)\n",
    "print(cutout_4.shape)"
   ]
  },
  {
   "cell_type": "code",
   "execution_count": 29,
   "metadata": {
    "collapsed": false
   },
   "outputs": [
    {
     "name": "stdout",
     "output_type": "stream",
     "text": [
      "<type 'numpy.float64'>\n"
     ]
    }
   ],
   "source": [
    "print(type(cutout_1[0,0,0]))"
   ]
  },
  {
   "cell_type": "markdown",
   "metadata": {},
   "source": [
    "# Saving to and loading from a TIFF stack"
   ]
  },
  {
   "cell_type": "code",
   "execution_count": 30,
   "metadata": {
    "collapsed": false
   },
   "outputs": [],
   "source": [
    "image_1 = sitk.GetImageFromArray(cutout_1)\n",
    "image_2 = sitk.GetImageFromArray(cutout_2)\n",
    "image_3 = sitk.GetImageFromArray(cutout_3)\n",
    "image_4 = sitk.GetImageFromArray(cutout_4)"
   ]
  },
  {
   "cell_type": "code",
   "execution_count": 31,
   "metadata": {
    "collapsed": false
   },
   "outputs": [
    {
     "name": "stdout",
     "output_type": "stream",
     "text": [
      "(600, 500, 100)\n",
      "(100, 500, 600)\n",
      "<type 'numpy.float64'>\n"
     ]
    }
   ],
   "source": [
    "print(image_1.GetSize())\n",
    "print(cutout_1.shape)\n",
    "print(type(cutout_1[0,0,0]))"
   ]
  },
  {
   "cell_type": "code",
   "execution_count": 32,
   "metadata": {
    "collapsed": false
   },
   "outputs": [],
   "source": [
    "# saving the cutout to a .tif, casting to uint16 first (the dtype it's downloaded as is uint16)\n",
    "sitk.WriteImage(sitk.Cast(image_1, sitk.sitkUInt16), 'cell_detection_1.tif')\n",
    "sitk.WriteImage(sitk.Cast(image_2, sitk.sitkUInt16), 'cell_detection_2.tif')\n",
    "sitk.WriteImage(sitk.Cast(image_3, sitk.sitkUInt16), 'cell_detection_3.tif')\n",
    "sitk.WriteImage(sitk.Cast(image_4, sitk.sitkUInt16), 'cell_detection_4.tif')"
   ]
  },
  {
   "cell_type": "code",
   "execution_count": 12,
   "metadata": {
    "collapsed": true
   },
   "outputs": [],
   "source": [
    "image_2_loaded = sitk.ReadImage('cell_detection_2.tif') #read image"
   ]
  },
  {
   "cell_type": "code",
   "execution_count": 13,
   "metadata": {
    "collapsed": false
   },
   "outputs": [
    {
     "name": "stdout",
     "output_type": "stream",
     "text": [
      "<type 'numpy.ndarray'>\n",
      "(100, 1000, 1000)\n"
     ]
    }
   ],
   "source": [
    "loaded_tiff_cutout = sitk.GetArrayFromImage(image_2)\n",
    "print(type(loaded_tiff_cutout))\n",
    "print(loaded_tiff_cutout.shape)"
   ]
  },
  {
   "cell_type": "code",
   "execution_count": 14,
   "metadata": {
    "collapsed": false
   },
   "outputs": [
    {
     "name": "stdout",
     "output_type": "stream",
     "text": [
      "True\n"
     ]
    }
   ],
   "source": [
    "# Checking if the loaded image array and the downloaded on are the same\n",
    "print(np.array_equal(cutout, loaded_tiff_cutout))"
   ]
  },
  {
   "cell_type": "code",
   "execution_count": 16,
   "metadata": {
    "collapsed": false
   },
   "outputs": [
    {
     "name": "stdout",
     "output_type": "stream",
     "text": [
      "(1000, 1000)\n",
      "[[545 550 544 ..., 741 784 741]\n",
      " [559 564 588 ..., 748 763 782]\n",
      " [542 519 570 ..., 758 772 759]\n",
      " ..., \n",
      " [819 777 804 ..., 766 830 775]\n",
      " [834 855 764 ..., 828 862 795]\n",
      " [769 744 797 ..., 882 827 835]]\n"
     ]
    }
   ],
   "source": [
    "loaded_tiff_slice = loaded_tiff_cutout[50,:,:]\n",
    "\n",
    "print(loaded_tiff_slice.shape)\n",
    "print(loaded_tiff_slice)"
   ]
  },
  {
   "cell_type": "code",
   "execution_count": 17,
   "metadata": {
    "collapsed": false
   },
   "outputs": [
    {
     "data": {
      "image/png": "[encoded data removed]",
      "text/plain": [
       "<matplotlib.figure.Figure at 0x14c680fd0>"
      ]
     },
     "metadata": {},
     "output_type": "display_data"
    }
   ],
   "source": [
    "plt.imshow(loaded_tiff_slice, cmap='gray')\n",
    "plt.show()"
   ]
  },
  {
   "cell_type": "markdown",
   "metadata": {},
   "source": [
    "# Saving and loading using tiffile"
   ]
  },
  {
   "cell_type": "code",
   "execution_count": 10,
   "metadata": {
    "collapsed": true
   },
   "outputs": [],
   "source": [
    "imsave('s3617_tifffile'+'.tif', cutout)"
   ]
  },
  {
   "cell_type": "code",
   "execution_count": 8,
   "metadata": {
    "collapsed": false
   },
   "outputs": [
    {
     "ename": "KeyboardInterrupt",
     "evalue": "",
     "output_type": "error",
     "traceback": [
      "\u001b[0;31m---------------------------------------------------------------------------\u001b[0m",
      "\u001b[0;31mKeyboardInterrupt\u001b[0m                         Traceback (most recent call last)",
      "\u001b[0;32m<ipython-input-8-1bc8a94e954a>\u001b[0m in \u001b[0;36m<module>\u001b[0;34m()\u001b[0m\n\u001b[1;32m      8\u001b[0m             \u001b[0mnormalized_rgb\u001b[0m \u001b[0;34m=\u001b[0m \u001b[0mint\u001b[0m\u001b[0;34m(\u001b[0m \u001b[0;36m255\u001b[0m \u001b[0;34m*\u001b[0m \u001b[0;34m(\u001b[0m\u001b[0mcutout\u001b[0m\u001b[0;34m[\u001b[0m\u001b[0mi\u001b[0m\u001b[0;34m]\u001b[0m\u001b[0;34m[\u001b[0m\u001b[0mj\u001b[0m\u001b[0;34m]\u001b[0m\u001b[0;34m[\u001b[0m\u001b[0mk\u001b[0m\u001b[0;34m]\u001b[0m\u001b[0;34m/\u001b[0m\u001b[0mmax_grey_val\u001b[0m\u001b[0;34m)\u001b[0m \u001b[0;34m)\u001b[0m\u001b[0;34m\u001b[0m\u001b[0m\n\u001b[1;32m      9\u001b[0m             \u001b[0;32mfor\u001b[0m \u001b[0mp\u001b[0m \u001b[0;32min\u001b[0m \u001b[0mrange\u001b[0m\u001b[0;34m(\u001b[0m\u001b[0;36m3\u001b[0m\u001b[0;34m)\u001b[0m\u001b[0;34m:\u001b[0m\u001b[0;34m\u001b[0m\u001b[0m\n\u001b[0;32m---> 10\u001b[0;31m                 \u001b[0mcutout_rgb\u001b[0m\u001b[0;34m[\u001b[0m\u001b[0mi\u001b[0m\u001b[0;34m]\u001b[0m\u001b[0;34m[\u001b[0m\u001b[0mj\u001b[0m\u001b[0;34m]\u001b[0m\u001b[0;34m[\u001b[0m\u001b[0mk\u001b[0m\u001b[0;34m]\u001b[0m\u001b[0;34m[\u001b[0m\u001b[0mp\u001b[0m\u001b[0;34m]\u001b[0m \u001b[0;34m=\u001b[0m \u001b[0mnormalized_rgb\u001b[0m\u001b[0;34m\u001b[0m\u001b[0m\n\u001b[0m\u001b[1;32m     11\u001b[0m \u001b[0mimsave\u001b[0m\u001b[0;34m(\u001b[0m\u001b[0;34m's3617_tifffile'\u001b[0m\u001b[0;34m+\u001b[0m\u001b[0;34m'.tif'\u001b[0m\u001b[0;34m,\u001b[0m \u001b[0mcutout_rgb\u001b[0m\u001b[0;34m.\u001b[0m\u001b[0mastype\u001b[0m\u001b[0;34m(\u001b[0m\u001b[0mnp\u001b[0m\u001b[0;34m.\u001b[0m\u001b[0muint16\u001b[0m\u001b[0;34m)\u001b[0m\u001b[0;34m)\u001b[0m\u001b[0;34m\u001b[0m\u001b[0m\n",
      "\u001b[0;31mKeyboardInterrupt\u001b[0m: "
     ]
    }
   ],
   "source": [
    "# Using code from jyim6\n",
    "max_grey_val = cutout.max(axis=1).max(axis=1).max()\n",
    "dim = cutout.shape\n",
    "cutout_rgb = np.zeros((dim[0], dim[1], dim[2], 3))\n",
    "for i in range(dim[0]):\n",
    "    for j in range(dim[1]):\n",
    "        for k in range(dim[2]):\n",
    "            normalized_rgb = int( 255 * (cutout[i][j][k]/max_grey_val) )\n",
    "            for p in range(3):\n",
    "                cutout_rgb[i][j][k][p] = normalized_rgb\n",
    "imsave('s3617_tifffile'+'.tif', cutout_rgb.astype(np.uint16))"
   ]
  },
  {
   "cell_type": "markdown",
   "metadata": {},
   "source": [
    "# Saving to and loading from a nifti (.nii) file"
   ]
  },
  {
   "cell_type": "code",
   "execution_count": 48,
   "metadata": {
    "collapsed": false
   },
   "outputs": [],
   "source": [
    "# nib.Nifti1Image can take 3 arguments, of which only the first two are manditory.\n",
    "# nib.Nifti1Image(image_data, img_affine, img_header)\n",
    "# TODO: I didn't add header data when saving because I don't know how to obtain that at this moment, \n",
    "# not sure if necessary though.\n",
    "nifti_img = nib.Nifti1Image(cutout, np.eye(4))"
   ]
  },
  {
   "cell_type": "code",
   "execution_count": 50,
   "metadata": {
    "collapsed": false
   },
   "outputs": [],
   "source": [
    "nib.save(nifti_img, 's3617_cutout.nii')"
   ]
  },
  {
   "cell_type": "code",
   "execution_count": 56,
   "metadata": {
    "collapsed": false
   },
   "outputs": [
    {
     "name": "stdout",
     "output_type": "stream",
     "text": [
      "<class 'nibabel.nifti1.Nifti1Image'>\n",
      "<class 'numpy.core.memmap.memmap'>\n",
      "(z, y, x)\n",
      "(100, 1000, 1000)\n"
     ]
    }
   ],
   "source": [
    "loaded_img = nib.load('s3617_cutout.nii')\n",
    "print(type(loaded_img))\n",
    "\n",
    "# Get a plain numpy array, without all the metadata \n",
    "loaded_cutout = loaded_img.get_data()\n",
    "print(type(loaded_cutout))\n",
    "print('(z, y, x)')\n",
    "print(loaded_cutout.shape)"
   ]
  },
  {
   "cell_type": "markdown",
   "metadata": {},
   "source": [
    "## Verify that the saved and loaded cutout is the same as the downloaded cutout\n",
    "\n",
    "#### This just consists of seeing if the numpy arrays are equal and visually comparing slices between the downloaded cutout and the loaded cutout and seeing if they look the same."
   ]
  },
  {
   "cell_type": "code",
   "execution_count": 62,
   "metadata": {
    "collapsed": false
   },
   "outputs": [
    {
     "name": "stdout",
     "output_type": "stream",
     "text": [
      "True\n"
     ]
    }
   ],
   "source": [
    "print(np.array_equal(cutout, loaded_cutout))"
   ]
  },
  {
   "cell_type": "code",
   "execution_count": 57,
   "metadata": {
    "collapsed": false
   },
   "outputs": [
    {
     "name": "stdout",
     "output_type": "stream",
     "text": [
      "(1000, 1000)\n",
      "[[ 545.  550.  544. ...,  741.  784.  741.]\n",
      " [ 559.  564.  588. ...,  748.  763.  782.]\n",
      " [ 542.  519.  570. ...,  758.  772.  759.]\n",
      " ..., \n",
      " [ 819.  777.  804. ...,  766.  830.  775.]\n",
      " [ 834.  855.  764. ...,  828.  862.  795.]\n",
      " [ 769.  744.  797. ...,  882.  827.  835.]]\n"
     ]
    }
   ],
   "source": [
    "loaded_cutout_slice = loaded_cutout[50,:,:]\n",
    "\n",
    "print(cutout_slice.shape)\n",
    "print(cutout_slice)"
   ]
  },
  {
   "cell_type": "code",
   "execution_count": 58,
   "metadata": {
    "collapsed": false
   },
   "outputs": [
    {
     "data": {
      "image/png": "[encoded data removed]",
      "text/plain": [
       "<matplotlib.figure.Figure at 0x14abe6d90>"
      ]
     },
     "metadata": {},
     "output_type": "display_data"
    }
   ],
   "source": [
    "plt.imshow(cutout_slice, cmap='gray')\n",
    "plt.show()"
   ]
  }
 ],
 "metadata": {
  "kernelspec": {
   "display_name": "Python 2",
   "language": "python",
   "name": "python2"
  },
  "language_info": {
   "codemirror_mode": {
    "name": "ipython",
    "version": 2
   },
   "file_extension": ".py",
   "mimetype": "text/x-python",
   "name": "python",
   "nbconvert_exporter": "python",
   "pygments_lexer": "ipython2",
   "version": "2.7.12"
  }
 },
 "nbformat": 4,
 "nbformat_minor": 2
}
