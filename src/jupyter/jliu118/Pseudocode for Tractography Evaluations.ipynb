{
 "cells": [
  {
   "cell_type": "markdown",
   "metadata": {},
   "source": [
    "**Input**:\n",
    "    - subvolume: subvolume to be used to sum the intensities of and give another estimate of tractography.\n",
    "    - annotation points: annotated list of 3d coordinates that are points along the neuron curve\n",
    "        - of the form: (x, y, z, i) where i is the index of that point along the curve, with -1 indicating start of a curve\n",
    "        \n",
    "**Pseudocode**:\n",
    "1. Iterate through the annotated neural tracts and calculate the lengths of each of the tracts.\n",
    "2. Sum the all the lengths of the annotated neural tracts for that subvolume.\n",
    "3. Sum all the intensities after binarization of the original subvolume\n",
    "4. Take the difference between the sums of the lengths of the annotated neural tracts, and the sum of intensities.\n",
    "        "
   ]
  },
  {
   "cell_type": "markdown",
   "metadata": {},
   "source": [
    "# Sum of lengths of annotated neural tracts"
   ]
  },
  {
   "cell_type": "code",
   "execution_count": 110,
   "metadata": {
    "collapsed": true
   },
   "outputs": [],
   "source": [
    "import pandas as pd"
   ]
  },
  {
   "cell_type": "code",
   "execution_count": 111,
   "metadata": {
    "collapsed": true
   },
   "outputs": [],
   "source": [
    "# Steps 1 and 2 of the pseudocode above\n",
    "def get_total_length(ann_df):\n",
    "    ann_total_length = 0\n",
    "    \n",
    "    current_curve_distance = 0\n",
    "    prev_row = None;\n",
    "    for index, row in ann_df.iterrows():\n",
    "        if index == 0:\n",
    "            prev_row = row\n",
    "            continue\n",
    "            \n",
    "        if row['i'] == -1:\n",
    "            # if the next point is part of a different curve\n",
    "            ann_total_length += current_curve_distance\n",
    "            current_curve_distance = 0\n",
    "            prev_row = row\n",
    "            continue\n",
    "            \n",
    "        p1 = np.array([row['x'], row['y'], row['z']])\n",
    "        p2 = np.array([prev_row['x'], prev_row['y'], prev_row['z']])\n",
    "        euclidian_dist = np.linalg.norm(p1 - p2)\n",
    "        current_curve_distance += euclidian_dist\n",
    "        prev_row = row\n",
    "    \n",
    "    ann_total_length += current_curve_distance\n",
    "    \n",
    "    return ann_total_length"
   ]
  },
  {
   "cell_type": "markdown",
   "metadata": {},
   "source": [
    "## Testing the function\n",
    "\n",
    "- the \"i\" column determines the beginning of a new tract, with -1 indication the start of a new tract"
   ]
  },
  {
   "cell_type": "code",
   "execution_count": 112,
   "metadata": {
    "collapsed": false
   },
   "outputs": [
    {
     "name": "stdout",
     "output_type": "stream",
     "text": [
      "   x  y  z  i\n",
      "0  0  0  0 -1\n",
      "1  1  0  0  1\n",
      "2  1  1  0  2\n",
      "3  0  0  0 -1\n",
      "4  0  0  1  4\n",
      "5  0  1  1  5\n",
      "6  1  1  1  6\n"
     ]
    }
   ],
   "source": [
    "test = pd.read_csv('../../annotation_csv/tractography/test.swc', header=None, delim_whitespace=True, skiprows=2)\n",
    "test_points = test[[2,3,4,6]]\n",
    "test_points.columns = ['x', 'y', 'z', 'i']\n",
    "print(test_points)"
   ]
  },
  {
   "cell_type": "code",
   "execution_count": 113,
   "metadata": {
    "collapsed": false
   },
   "outputs": [
    {
     "name": "stdout",
     "output_type": "stream",
     "text": [
      "total length: 5\n"
     ]
    }
   ],
   "source": [
    "test_total_length = get_total_length(test_points)\n",
    "print('total length: %d' % test_total_length)"
   ]
  },
  {
   "cell_type": "markdown",
   "metadata": {},
   "source": [
    "## Calculating total length of annotated tracts"
   ]
  },
  {
   "cell_type": "code",
   "execution_count": 114,
   "metadata": {
    "collapsed": false,
    "scrolled": true
   },
   "outputs": [
    {
     "name": "stdout",
     "output_type": "stream",
     "text": [
      "           x        y       z    i\n",
      "0    164.847  156.714  36.008   -1\n",
      "1    160.028  159.115  35.887    1\n",
      "2    155.373  164.337  35.655    2\n",
      "3    151.526  168.837  36.458    3\n",
      "4    148.125  173.987  36.246    4\n",
      "5    144.447  177.196  35.795    5\n",
      "6    139.054  180.932  35.426    6\n",
      "7    133.591  185.292  35.050    7\n",
      "8    131.250  187.161  34.888    8\n",
      "9    129.065  189.048  34.730    9\n",
      "10   127.972  191.057  34.599   10\n",
      "11   127.973  193.189  34.494   11\n",
      "12   127.817  194.592  34.420   12\n",
      "13   125.476  199.304  34.118   13\n",
      "14   121.575  203.840  33.779   14\n",
      "15   116.779  207.690  34.337   15\n",
      "16   111.400  211.987  34.077   16\n",
      "17   106.110  214.788  33.783   17\n",
      "18   100.959  216.342  33.554   18\n",
      "19    95.201  218.679  33.188   19\n",
      "20    88.668  224.000  32.097   20\n",
      "21    83.782  229.242  31.893   21\n",
      "22    80.389  235.326  31.891   22\n",
      "23    79.748  237.316  31.981   23\n",
      "24    79.186  238.653  33.150   24\n",
      "25    78.373  240.624  33.230   25\n",
      "26    76.434  242.883  32.854   26\n",
      "27    75.142  244.389  32.603   27\n",
      "28    71.154  247.501  31.079   28\n",
      "29    67.822  250.801  30.938   29\n",
      "..       ...      ...     ...  ...\n",
      "558  331.684  141.277  20.220  558\n",
      "559  334.331  143.382  19.902  559\n",
      "560  336.639  145.075  19.758  560\n",
      "561  339.195  145.689  20.098  561\n",
      "562  342.162  145.912  19.710  562\n",
      "563  343.815  146.039  19.768  563\n",
      "564  347.831  148.296  19.996  564\n",
      "565  353.800  148.529  20.091  565\n",
      "566  356.960  148.278  19.923  566\n",
      "567  362.422  148.990  19.012  567\n",
      "568  367.454  149.908  19.033  568\n",
      "569  373.104  149.734  18.558  569\n",
      "570  379.481  151.056  18.094  570\n",
      "571  385.132  153.613  17.724  571\n",
      "572  391.141  156.097  17.009  572\n",
      "573  396.606  159.356  16.769  573\n",
      "574  398.016  160.334  17.497  574\n",
      "575  399.692  162.303  17.104  575\n",
      "576  402.110  163.972  16.489  576\n",
      "577  403.170  164.062  15.965  577\n",
      "578  226.862  103.088  37.006   -1\n",
      "579  227.449   97.630  38.236  579\n",
      "580  230.110   96.640  37.807  580\n",
      "581  232.453   95.499  37.030  581\n",
      "582  234.396   94.193  36.297  582\n",
      "583  235.795   93.345  35.877  583\n",
      "584  241.841   89.844  35.446  584\n",
      "585  248.750   85.797  35.130  585\n",
      "586  253.220   82.348  32.983  586\n",
      "587  254.619   80.955  33.030  587\n",
      "\n",
      "[588 rows x 4 columns]\n"
     ]
    }
   ],
   "source": [
    "ann = pd.read_csv('../../annotation_csv/tractography/tractography_0.swc', header=None, delim_whitespace=True, skiprows=2)\n",
    "# print(ann)\n",
    "# ann_points = ann.ix[:,2:4]\n",
    "ann_points = ann[[2,3,4,6]]\n",
    "ann_points.columns = ['x', 'y', 'z', 'i']\n",
    "print(ann_points)"
   ]
  },
  {
   "cell_type": "code",
   "execution_count": 115,
   "metadata": {
    "collapsed": false
   },
   "outputs": [
    {
     "name": "stdout",
     "output_type": "stream",
     "text": [
      "sum of annotated lengths: 2527\n"
     ]
    }
   ],
   "source": [
    "# Calculating total length\n",
    "ann_total_length = get_total_length(ann_points)\n",
    "print('sum of annotated lengths: %d' % ann_total_length)"
   ]
  },
  {
   "cell_type": "markdown",
   "metadata": {},
   "source": [
    "# Getting sum of intensities"
   ]
  },
  {
   "cell_type": "code",
   "execution_count": 116,
   "metadata": {
    "collapsed": true
   },
   "outputs": [],
   "source": [
    "%matplotlib inline\n",
    "\n",
    "import sys\n",
    "import SimpleITK as sitk\n",
    "import numpy as np\n",
    "import matplotlib.pyplot as plt\n",
    "\n",
    "from math import sqrt, hypot, log, pi\n",
    "\n",
    "import itertools as itt\n",
    "\n",
    "from skimage.filters import threshold_otsu, threshold_local"
   ]
  },
  {
   "cell_type": "code",
   "execution_count": 117,
   "metadata": {
    "collapsed": false
   },
   "outputs": [
    {
     "name": "stdout",
     "output_type": "stream",
     "text": [
      "('shape:', (100, 500, 500))\n",
      "('max:', 255.0)\n",
      "('min:', 0.10505836)\n"
     ]
    }
   ],
   "source": [
    "# Loading the stack\n",
    "stack_0 = sitk.ReadImage('../../sample_data/tractography/tractography_0.tif')\n",
    "stack_0 = sitk.GetArrayFromImage(stack_0)\n",
    "\n",
    "# Normalizing\n",
    "image_0 = stack_0 * np.float32(255.0 / stack_0.max())\n",
    "# img_0 = stack_0 * np.uint16(255 / stack_0.max())\n",
    "print('shape:', image_0.shape)\n",
    "print('max:', image_0.max())\n",
    "print('min:', image_0.min())\n",
    "\n",
    "(z_dim, y_dim, x_dim) = image_0.shape"
   ]
  },
  {
   "cell_type": "code",
   "execution_count": 118,
   "metadata": {
    "collapsed": false
   },
   "outputs": [],
   "source": [
    "# Thresholding\n",
    "otsus = []\n",
    "\n",
    "for k in range(0, z_dim):\n",
    "    s = image_0[k,:,:]\n",
    "    otsus.append(threshold_otsu(s))\n",
    "    \n",
    "stack_otsu_thresh = np.median(otsus)\n",
    "# print(np.median(otsus))\n",
    "image_0_thresh = image_0 > stack_otsu_thresh"
   ]
  },
  {
   "cell_type": "code",
   "execution_count": 119,
   "metadata": {
    "collapsed": false
   },
   "outputs": [
    {
     "name": "stdout",
     "output_type": "stream",
     "text": [
      "Sum of intensities: 683794\n"
     ]
    }
   ],
   "source": [
    "image_0_sum = np.sum(image_0_thresh)\n",
    "print('Sum of intensities: %d' % image_0_sum)"
   ]
  },
  {
   "cell_type": "markdown",
   "metadata": {},
   "source": [
    "# Difference between sum of intensities and total length of annotations"
   ]
  },
  {
   "cell_type": "code",
   "execution_count": 123,
   "metadata": {
    "collapsed": false
   },
   "outputs": [
    {
     "name": "stdout",
     "output_type": "stream",
     "text": [
      "Sum of intensities: 683794\n",
      "sum of annotated lengths: 2527\n",
      "Difference: 681266\n"
     ]
    }
   ],
   "source": [
    "print('Sum of intensities: %d' % image_0_sum)\n",
    "\n",
    "print('sum of annotated lengths: %d' % ann_total_length)\n",
    "\n",
    "diff = image_0_sum - ann_total_length\n",
    "print('Difference: %d' % diff)"
   ]
  },
  {
   "cell_type": "markdown",
   "metadata": {},
   "source": [
    "As can be seen by the difference, our sum of intensities mvp is very far from the true length of tracts in the subvolume"
   ]
  }
 ],
 "metadata": {
  "kernelspec": {
   "display_name": "Python 2",
   "language": "python",
   "name": "python2"
  },
  "language_info": {
   "codemirror_mode": {
    "name": "ipython",
    "version": 2
   },
   "file_extension": ".py",
   "mimetype": "text/x-python",
   "name": "python",
   "nbconvert_exporter": "python",
   "pygments_lexer": "ipython2",
   "version": "2.7.12"
  }
 },
 "nbformat": 4,
 "nbformat_minor": 0
}
