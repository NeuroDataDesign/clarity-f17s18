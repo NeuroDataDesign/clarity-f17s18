{
 "cells": [
  {
   "cell_type": "markdown",
   "metadata": {},
   "source": [
    "**Input**:\n",
    "    - pred_points: predicted list of 3d coordinates that are points along the neuron curve\n",
    "    - ann_points: annotated list of 3d coordinates that are points along the neuron curve\n",
    "        - of the form: (x, y, z, i) where i is the index of that point along the curve, with -1 indicating start of a curve\n",
    "        \n",
    "**Pseudocode**:\n",
    "1. Iterate through the annotated neural tracts and calculate the lengths of each of the tracts.\n",
    "2. Sum the all the lengths of the annotated neural tracts for that subvolume.\n",
    "3. Repeat steps 1 and 2 for predicted neural tracts.\n",
    "4. Take the difference between the sums of the lengths of the predicted and annotated neural tracts.\n",
    "        "
   ]
  },
  {
   "cell_type": "code",
   "execution_count": null,
   "metadata": {
    "collapsed": true
   },
   "outputs": [],
   "source": [
    "get_difference(pred_points, ann_points):\n",
    "    pred_total_dist = 0\n",
    "    ann_total_dist = 0\n",
    "    \n",
    "    current_curve_distance = 0\n",
    "    for i in xrange(1, len(ann_points)):\n",
    "        if ann_points[i, 3] == -1:\n",
    "            # if the next point is part of a different curve\n",
    "            ann_total_dist += current_curve_distance\n",
    "            current_curve_distance = 0\n",
    "        current_curve_distance += euclidian_distance(ann_points[i-1, 0:4], ann_points[i, 0:4])\n",
    "        \n",
    "    current_curve_distance = 0\n",
    "    for i in xrange(1, len(pred_points)):\n",
    "        if pred_points[i, 3] == -1:\n",
    "            # if the next point is part of a different curve\n",
    "            pred_total_dist += current_curve_distance\n",
    "            current_curve_distance = 0\n",
    "        current_curve_distance += euclidian_distance(pred_points[i-1, 0:4], pred_points[i, 0:4])\n",
    "    \n",
    "    return (pred_total_dist - ann_total_dist)"
   ]
  }
 ],
 "metadata": {
  "kernelspec": {
   "display_name": "Python 2",
   "language": "python",
   "name": "python2"
  },
  "language_info": {
   "codemirror_mode": {
    "name": "ipython",
    "version": 2
   },
   "file_extension": ".py",
   "mimetype": "text/x-python",
   "name": "python",
   "nbconvert_exporter": "python",
   "pygments_lexer": "ipython2",
   "version": "2.7.12"
  }
 },
 "nbformat": 4,
 "nbformat_minor": 0
}
