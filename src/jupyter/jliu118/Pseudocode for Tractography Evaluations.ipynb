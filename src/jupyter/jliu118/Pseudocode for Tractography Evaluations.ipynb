{
 "cells": [
  {
   "cell_type": "markdown",
   "metadata": {},
   "source": [
    "**Input**:\n",
    "    - pred_points: predicted list of 3d coordinates that are points along the neuron curve\n",
    "    - ann_points: annotated list of 3d coordinates that are points along the neuron curve\n",
    "        - of the form: (x, y, z, i) where i is the index of that point along the curve, with -1 indicating start of a curve\n",
    "        \n",
    "**Pseudocode**:\n",
    "1. Iterate through the annotated neural tracts and calculate the lengths of each of the tracts.\n",
    "2. Sum the all the lengths of the annotated neural tracts for that subvolume.\n",
    "3. Repeat steps 1 and 2 for predicted neural tracts.\n",
    "4. Take the difference between the sums of the lengths of the predicted and annotated neural tracts.\n",
    "        "
   ]
  },
  {
   "cell_type": "markdown",
   "metadata": {},
   "source": [
    "# Getting sum of intensities"
   ]
  },
  {
   "cell_type": "code",
   "execution_count": 1,
   "metadata": {
    "collapsed": true
   },
   "outputs": [],
   "source": [
    "%matplotlib inline\n",
    "\n",
    "import sys\n",
    "import SimpleITK as sitk\n",
    "import numpy as np\n",
    "import matplotlib.pyplot as plt\n",
    "\n",
    "from math import sqrt, hypot, log, pi\n",
    "\n",
    "import itertools as itt\n",
    "\n",
    "from skimage.filters import threshold_otsu, threshold_local"
   ]
  },
  {
   "cell_type": "code",
   "execution_count": 5,
   "metadata": {
    "collapsed": false
   },
   "outputs": [
    {
     "name": "stdout",
     "output_type": "stream",
     "text": [
      "('shape:', (100, 500, 500))\n",
      "('max:', 255.0)\n",
      "('min:', 0.10505836)\n"
     ]
    }
   ],
   "source": [
    "# Loading the stack\n",
    "stack_0 = sitk.ReadImage('../../sample_data/tractography/tractography_0.tif')\n",
    "stack_0 = sitk.GetArrayFromImage(stack_0)\n",
    "\n",
    "# Normalizing\n",
    "image_0 = stack_0 * np.float32(255.0 / stack_0.max())\n",
    "# img_0 = stack_0 * np.uint16(255 / stack_0.max())\n",
    "print('shape:', image_0.shape)\n",
    "print('max:', image_0.max())\n",
    "print('min:', image_0.min())"
   ]
  },
  {
   "cell_type": "code",
   "execution_count": 14,
   "metadata": {
    "collapsed": false
   },
   "outputs": [],
   "source": [
    "(z_dim, y_dim, x_dim) = image_0.shape"
   ]
  },
  {
   "cell_type": "code",
   "execution_count": 16,
   "metadata": {
    "collapsed": false
   },
   "outputs": [
    {
     "name": "stdout",
     "output_type": "stream",
     "text": [
      "3.27885612116\n"
     ]
    }
   ],
   "source": [
    "# Thresholding: making all voxels with intensity less than half of otsu's 0.\n",
    "otsus = []\n",
    "\n",
    "for k in range(0, z_dim):\n",
    "    s = image_0[k,:,:]\n",
    "    otsus.append(threshold_otsu(s))\n",
    "    \n",
    "stack_otsu_thresh = np.median(otsus)\n",
    "print(np.median(otsus))"
   ]
  },
  {
   "cell_type": "code",
   "execution_count": 17,
   "metadata": {
    "collapsed": true
   },
   "outputs": [],
   "source": [
    "image_0_thresh = image_0 > stack_otsu_thresh"
   ]
  },
  {
   "cell_type": "code",
   "execution_count": 19,
   "metadata": {
    "collapsed": false
   },
   "outputs": [
    {
     "name": "stdout",
     "output_type": "stream",
     "text": [
      "683794\n"
     ]
    }
   ],
   "source": [
    "image_0_sum = np.sum(image_0_thresh)\n",
    "print(image_0_sum)"
   ]
  },
  {
   "cell_type": "markdown",
   "metadata": {},
   "source": [
    "# Getting sums of lengths of annotations"
   ]
  },
  {
   "cell_type": "code",
   "execution_count": 38,
   "metadata": {
    "collapsed": true
   },
   "outputs": [],
   "source": [
    "import pandas as pd"
   ]
  },
  {
   "cell_type": "code",
   "execution_count": 61,
   "metadata": {
    "collapsed": false,
    "scrolled": true
   },
   "outputs": [
    {
     "name": "stdout",
     "output_type": "stream",
     "text": [
      "       0  1        2        3       4    5    6\n",
      "0      1  3  164.847  156.714  36.008  1.0   -1\n",
      "1      2  3  160.028  159.115  35.887  1.0    1\n",
      "2      3  3  155.373  164.337  35.655  1.0    2\n",
      "3      4  3  151.526  168.837  36.458  1.0    3\n",
      "4      5  3  148.125  173.987  36.246  1.0    4\n",
      "5      6  3  144.447  177.196  35.795  1.0    5\n",
      "6      7  3  139.054  180.932  35.426  1.0    6\n",
      "7      8  3  133.591  185.292  35.050  1.0    7\n",
      "8      9  3  131.250  187.161  34.888  1.0    8\n",
      "9     10  3  129.065  189.048  34.730  1.0    9\n",
      "10    11  3  127.972  191.057  34.599  1.0   10\n",
      "11    12  3  127.973  193.189  34.494  1.0   11\n",
      "12    13  3  127.817  194.592  34.420  1.0   12\n",
      "13    14  3  125.476  199.304  34.118  1.0   13\n",
      "14    15  3  121.575  203.840  33.779  1.0   14\n",
      "15    16  3  116.779  207.690  34.337  1.0   15\n",
      "16    17  3  111.400  211.987  34.077  1.0   16\n",
      "17    18  3  106.110  214.788  33.783  1.0   17\n",
      "18    19  3  100.959  216.342  33.554  1.0   18\n",
      "19    20  3   95.201  218.679  33.188  1.0   19\n",
      "20    21  3   88.668  224.000  32.097  1.0   20\n",
      "21    22  3   83.782  229.242  31.893  1.0   21\n",
      "22    23  3   80.389  235.326  31.891  1.0   22\n",
      "23    24  3   79.748  237.316  31.981  1.0   23\n",
      "24    25  3   79.186  238.653  33.150  1.0   24\n",
      "25    26  3   78.373  240.624  33.230  1.0   25\n",
      "26    27  3   76.434  242.883  32.854  1.0   26\n",
      "27    28  3   75.142  244.389  32.603  1.0   27\n",
      "28    29  3   71.154  247.501  31.079  1.0   28\n",
      "29    30  3   67.822  250.801  30.938  1.0   29\n",
      "..   ... ..      ...      ...     ...  ...  ...\n",
      "558  559  3  331.684  141.277  20.220  1.0  558\n",
      "559  560  3  334.331  143.382  19.902  1.0  559\n",
      "560  561  3  336.639  145.075  19.758  1.0  560\n",
      "561  562  3  339.195  145.689  20.098  1.0  561\n",
      "562  563  3  342.162  145.912  19.710  1.0  562\n",
      "563  564  3  343.815  146.039  19.768  1.0  563\n",
      "564  565  3  347.831  148.296  19.996  1.0  564\n",
      "565  566  3  353.800  148.529  20.091  1.0  565\n",
      "566  567  3  356.960  148.278  19.923  1.0  566\n",
      "567  568  3  362.422  148.990  19.012  1.0  567\n",
      "568  569  3  367.454  149.908  19.033  1.0  568\n",
      "569  570  3  373.104  149.734  18.558  1.0  569\n",
      "570  571  3  379.481  151.056  18.094  1.0  570\n",
      "571  572  3  385.132  153.613  17.724  1.0  571\n",
      "572  573  3  391.141  156.097  17.009  1.0  572\n",
      "573  574  3  396.606  159.356  16.769  1.0  573\n",
      "574  575  3  398.016  160.334  17.497  1.0  574\n",
      "575  576  3  399.692  162.303  17.104  1.0  575\n",
      "576  577  3  402.110  163.972  16.489  1.0  576\n",
      "577  578  3  403.170  164.062  15.965  1.0  577\n",
      "578  579  3  226.862  103.088  37.006  1.0   -1\n",
      "579  580  3  227.449   97.630  38.236  1.0  579\n",
      "580  581  3  230.110   96.640  37.807  1.0  580\n",
      "581  582  3  232.453   95.499  37.030  1.0  581\n",
      "582  583  3  234.396   94.193  36.297  1.0  582\n",
      "583  584  3  235.795   93.345  35.877  1.0  583\n",
      "584  585  3  241.841   89.844  35.446  1.0  584\n",
      "585  586  3  248.750   85.797  35.130  1.0  585\n",
      "586  587  3  253.220   82.348  32.983  1.0  586\n",
      "587  588  3  254.619   80.955  33.030  1.0  587\n",
      "\n",
      "[588 rows x 7 columns]\n"
     ]
    }
   ],
   "source": [
    "ann = pd.read_csv('../../annotation_csv/tractography/tractography_0.swc', header=None, delim_whitespace=True, skiprows=2)\n",
    "print(ann)"
   ]
  },
  {
   "cell_type": "code",
   "execution_count": 62,
   "metadata": {
    "collapsed": false,
    "scrolled": true
   },
   "outputs": [
    {
     "name": "stdout",
     "output_type": "stream",
     "text": [
      "           2        3       4    6\n",
      "0    164.847  156.714  36.008   -1\n",
      "1    160.028  159.115  35.887    1\n",
      "2    155.373  164.337  35.655    2\n",
      "3    151.526  168.837  36.458    3\n",
      "4    148.125  173.987  36.246    4\n",
      "5    144.447  177.196  35.795    5\n",
      "6    139.054  180.932  35.426    6\n",
      "7    133.591  185.292  35.050    7\n",
      "8    131.250  187.161  34.888    8\n",
      "9    129.065  189.048  34.730    9\n",
      "10   127.972  191.057  34.599   10\n",
      "11   127.973  193.189  34.494   11\n",
      "12   127.817  194.592  34.420   12\n",
      "13   125.476  199.304  34.118   13\n",
      "14   121.575  203.840  33.779   14\n",
      "15   116.779  207.690  34.337   15\n",
      "16   111.400  211.987  34.077   16\n",
      "17   106.110  214.788  33.783   17\n",
      "18   100.959  216.342  33.554   18\n",
      "19    95.201  218.679  33.188   19\n",
      "20    88.668  224.000  32.097   20\n",
      "21    83.782  229.242  31.893   21\n",
      "22    80.389  235.326  31.891   22\n",
      "23    79.748  237.316  31.981   23\n",
      "24    79.186  238.653  33.150   24\n",
      "25    78.373  240.624  33.230   25\n",
      "26    76.434  242.883  32.854   26\n",
      "27    75.142  244.389  32.603   27\n",
      "28    71.154  247.501  31.079   28\n",
      "29    67.822  250.801  30.938   29\n",
      "..       ...      ...     ...  ...\n",
      "558  331.684  141.277  20.220  558\n",
      "559  334.331  143.382  19.902  559\n",
      "560  336.639  145.075  19.758  560\n",
      "561  339.195  145.689  20.098  561\n",
      "562  342.162  145.912  19.710  562\n",
      "563  343.815  146.039  19.768  563\n",
      "564  347.831  148.296  19.996  564\n",
      "565  353.800  148.529  20.091  565\n",
      "566  356.960  148.278  19.923  566\n",
      "567  362.422  148.990  19.012  567\n",
      "568  367.454  149.908  19.033  568\n",
      "569  373.104  149.734  18.558  569\n",
      "570  379.481  151.056  18.094  570\n",
      "571  385.132  153.613  17.724  571\n",
      "572  391.141  156.097  17.009  572\n",
      "573  396.606  159.356  16.769  573\n",
      "574  398.016  160.334  17.497  574\n",
      "575  399.692  162.303  17.104  575\n",
      "576  402.110  163.972  16.489  576\n",
      "577  403.170  164.062  15.965  577\n",
      "578  226.862  103.088  37.006   -1\n",
      "579  227.449   97.630  38.236  579\n",
      "580  230.110   96.640  37.807  580\n",
      "581  232.453   95.499  37.030  581\n",
      "582  234.396   94.193  36.297  582\n",
      "583  235.795   93.345  35.877  583\n",
      "584  241.841   89.844  35.446  584\n",
      "585  248.750   85.797  35.130  585\n",
      "586  253.220   82.348  32.983  586\n",
      "587  254.619   80.955  33.030  587\n",
      "\n",
      "[588 rows x 4 columns]\n"
     ]
    }
   ],
   "source": [
    "# ann_points = ann.ix[:,2:4]\n",
    "ann_points = ann[[2,3,4,6]]\n",
    "print(ann_points)"
   ]
  },
  {
   "cell_type": "code",
   "execution_count": 63,
   "metadata": {
    "collapsed": false,
    "scrolled": true
   },
   "outputs": [
    {
     "name": "stdout",
     "output_type": "stream",
     "text": [
      "           x        y       z    i\n",
      "0    164.847  156.714  36.008   -1\n",
      "1    160.028  159.115  35.887    1\n",
      "2    155.373  164.337  35.655    2\n",
      "3    151.526  168.837  36.458    3\n",
      "4    148.125  173.987  36.246    4\n",
      "5    144.447  177.196  35.795    5\n",
      "6    139.054  180.932  35.426    6\n",
      "7    133.591  185.292  35.050    7\n",
      "8    131.250  187.161  34.888    8\n",
      "9    129.065  189.048  34.730    9\n",
      "10   127.972  191.057  34.599   10\n",
      "11   127.973  193.189  34.494   11\n",
      "12   127.817  194.592  34.420   12\n",
      "13   125.476  199.304  34.118   13\n",
      "14   121.575  203.840  33.779   14\n",
      "15   116.779  207.690  34.337   15\n",
      "16   111.400  211.987  34.077   16\n",
      "17   106.110  214.788  33.783   17\n",
      "18   100.959  216.342  33.554   18\n",
      "19    95.201  218.679  33.188   19\n",
      "20    88.668  224.000  32.097   20\n",
      "21    83.782  229.242  31.893   21\n",
      "22    80.389  235.326  31.891   22\n",
      "23    79.748  237.316  31.981   23\n",
      "24    79.186  238.653  33.150   24\n",
      "25    78.373  240.624  33.230   25\n",
      "26    76.434  242.883  32.854   26\n",
      "27    75.142  244.389  32.603   27\n",
      "28    71.154  247.501  31.079   28\n",
      "29    67.822  250.801  30.938   29\n",
      "..       ...      ...     ...  ...\n",
      "558  331.684  141.277  20.220  558\n",
      "559  334.331  143.382  19.902  559\n",
      "560  336.639  145.075  19.758  560\n",
      "561  339.195  145.689  20.098  561\n",
      "562  342.162  145.912  19.710  562\n",
      "563  343.815  146.039  19.768  563\n",
      "564  347.831  148.296  19.996  564\n",
      "565  353.800  148.529  20.091  565\n",
      "566  356.960  148.278  19.923  566\n",
      "567  362.422  148.990  19.012  567\n",
      "568  367.454  149.908  19.033  568\n",
      "569  373.104  149.734  18.558  569\n",
      "570  379.481  151.056  18.094  570\n",
      "571  385.132  153.613  17.724  571\n",
      "572  391.141  156.097  17.009  572\n",
      "573  396.606  159.356  16.769  573\n",
      "574  398.016  160.334  17.497  574\n",
      "575  399.692  162.303  17.104  575\n",
      "576  402.110  163.972  16.489  576\n",
      "577  403.170  164.062  15.965  577\n",
      "578  226.862  103.088  37.006   -1\n",
      "579  227.449   97.630  38.236  579\n",
      "580  230.110   96.640  37.807  580\n",
      "581  232.453   95.499  37.030  581\n",
      "582  234.396   94.193  36.297  582\n",
      "583  235.795   93.345  35.877  583\n",
      "584  241.841   89.844  35.446  584\n",
      "585  248.750   85.797  35.130  585\n",
      "586  253.220   82.348  32.983  586\n",
      "587  254.619   80.955  33.030  587\n",
      "\n",
      "[588 rows x 4 columns]\n"
     ]
    }
   ],
   "source": [
    "ann_points.columns = ['x', 'y', 'z', 'i']\n",
    "print(ann_points)"
   ]
  },
  {
   "cell_type": "code",
   "execution_count": 65,
   "metadata": {
    "collapsed": false
   },
   "outputs": [],
   "source": [
    "def euclidian_dist(p1, p2):\n",
    "    return np.linalg.norm(p1 - p2)"
   ]
  },
  {
   "cell_type": "code",
   "execution_count": 90,
   "metadata": {
    "collapsed": true
   },
   "outputs": [],
   "source": [
    "def get_total_length(ann_df):\n",
    "    ann_total_length = 0\n",
    "    \n",
    "    current_curve_distance = 0\n",
    "    prev_row = None;\n",
    "    for index, row in ann_df.iterrows():\n",
    "        if index == 0:\n",
    "            prev_row = row\n",
    "            continue\n",
    "            \n",
    "        if row['i'] == -1:\n",
    "            # if the next point is part of a different curve\n",
    "            ann_total_length += current_curve_distance\n",
    "#             print('ann')\n",
    "#             print(ann_total_length)\n",
    "            current_curve_distance = 0\n",
    "            prev_row = row\n",
    "            continue\n",
    "            \n",
    "        p1 = np.array([row['x'], row['y'], row['z']])\n",
    "        p2 = np.array([prev_row['x'], prev_row['y'], prev_row['z']])\n",
    "#         print(euclidian_dist(p1, p2))\n",
    "        current_curve_distance += euclidian_dist(p1, p2)\n",
    "        prev_row = row\n",
    "    \n",
    "    ann_total_length += current_curve_distance\n",
    "    \n",
    "    return ann_total_length\n",
    "        \n",
    "        \n",
    "#     current_curve_distance = 0\n",
    "#     for i in xrange(1, len(ann_points)):\n",
    "#         if ann_points[i, 3] == -1:\n",
    "#             # if the next point is part of a different curve\n",
    "#             ann_total_dist += current_curve_distance\n",
    "#             current_curve_distance = 0\n",
    "#         current_curve_distance += euclidian_distance(ann_points[i-1, 0:4], ann_points[i, 0:4])\n",
    "        \n",
    "#     current_curve_distance = 0\n",
    "#     for i in xrange(1, len(pred_points)):\n",
    "#         if pred_points[i, 3] == -1:\n",
    "#             # if the next point is part of a different curve\n",
    "#             pred_total_dist += current_curve_distance\n",
    "#             current_curve_distance = 0\n",
    "#         current_curve_distance += euclidian_distance(pred_points[i-1, 0:4], pred_points[i, 0:4])\n",
    "    \n",
    "#     return (pred_total_dist - ann_total_dist)"
   ]
  },
  {
   "cell_type": "code",
   "execution_count": 92,
   "metadata": {
    "collapsed": false
   },
   "outputs": [
    {
     "name": "stdout",
     "output_type": "stream",
     "text": [
      "2527.52506504\n"
     ]
    }
   ],
   "source": [
    "ann_total_length = get_total_length(ann_points)\n",
    "print(ann_total_length)"
   ]
  },
  {
   "cell_type": "code",
   "execution_count": 76,
   "metadata": {
    "collapsed": false
   },
   "outputs": [
    {
     "name": "stdout",
     "output_type": "stream",
     "text": [
      "   0  1  2  3  4    5  6\n",
      "0  1  3  0  0  0  1.0 -1\n",
      "1  2  3  1  0  0  1.0  1\n",
      "2  3  3  1  1  0  1.0  2\n",
      "3  4  3  0  0  0  1.0 -1\n",
      "4  5  3  0  0  1  1.0  4\n",
      "5  6  3  0  1  1  1.0  5\n",
      "6  7  3  1  1  1  1.0  6\n"
     ]
    }
   ],
   "source": [
    "test = pd.read_csv('../../annotation_csv/tractography/test.swc', header=None, delim_whitespace=True, skiprows=2)\n",
    "print(test)\n"
   ]
  },
  {
   "cell_type": "code",
   "execution_count": 78,
   "metadata": {
    "collapsed": false
   },
   "outputs": [
    {
     "name": "stdout",
     "output_type": "stream",
     "text": [
      "   x  y  z  i\n",
      "0  0  0  0 -1\n",
      "1  1  0  0  1\n",
      "2  1  1  0  2\n",
      "3  0  0  0 -1\n",
      "4  0  0  1  4\n",
      "5  0  1  1  5\n",
      "6  1  1  1  6\n"
     ]
    }
   ],
   "source": [
    "test_points = test[[2,3,4,6]]\n",
    "test_points.columns = ['x', 'y', 'z', 'i']\n",
    "print(test_points)"
   ]
  },
  {
   "cell_type": "code",
   "execution_count": 91,
   "metadata": {
    "collapsed": false
   },
   "outputs": [
    {
     "name": "stdout",
     "output_type": "stream",
     "text": [
      "total length\n",
      "5.0\n"
     ]
    }
   ],
   "source": [
    "test_total_length = get_total_length(test_points)\n",
    "\n",
    "print('total length')\n",
    "print(test_total_length)"
   ]
  },
  {
   "cell_type": "code",
   "execution_count": null,
   "metadata": {
    "collapsed": true
   },
   "outputs": [],
   "source": []
  }
 ],
 "metadata": {
  "kernelspec": {
   "display_name": "Python 2",
   "language": "python",
   "name": "python2"
  },
  "language_info": {
   "codemirror_mode": {
    "name": "ipython",
    "version": 2
   },
   "file_extension": ".py",
   "mimetype": "text/x-python",
   "name": "python",
   "nbconvert_exporter": "python",
   "pygments_lexer": "ipython2",
   "version": "2.7.12"
  }
 },
 "nbformat": 4,
 "nbformat_minor": 0
}
