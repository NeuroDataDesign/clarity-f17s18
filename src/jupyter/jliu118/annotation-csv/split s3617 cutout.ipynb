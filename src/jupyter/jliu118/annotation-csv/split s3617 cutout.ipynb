{
 "cells": [
  {
   "cell_type": "code",
   "execution_count": 6,
   "metadata": {
    "collapsed": true
   },
   "outputs": [],
   "source": [
    "import numpy as np\n",
    "import csv\n",
    "import pandas as pd"
   ]
  },
  {
   "cell_type": "code",
   "execution_count": 73,
   "metadata": {
    "collapsed": false,
    "scrolled": true
   },
   "outputs": [],
   "source": [
    "detection = pd.read_csv('cell_detection_s3617_cutout.csv')\n",
    "# print(detection)"
   ]
  },
  {
   "cell_type": "code",
   "execution_count": 79,
   "metadata": {
    "collapsed": false,
    "scrolled": true
   },
   "outputs": [
    {
     "name": "stdout",
     "output_type": "stream",
     "text": [
      "          x       y   z\n",
      "0    14.252  12.677  51\n",
      "1     5.748  25.906  52\n",
      "2    22.441  33.937  55\n",
      "3    12.283  12.283  54\n",
      "4    14.409  12.598  59\n",
      "5    13.071  21.654  61\n",
      "6     7.087  20.787  62\n",
      "7     6.850  25.669  62\n",
      "8    27.244  20.236  62\n",
      "9    29.528  13.622  62\n",
      "10   11.969  21.732  52\n",
      "11   23.701  27.402  54\n",
      "12   21.102  29.764  53\n",
      "13   20.709  26.378  51\n",
      "14   29.606  20.945  52\n",
      "15   31.496  21.969  53\n",
      "16   32.756  23.543  54\n",
      "17   23.937   3.622  52\n",
      "18   23.622  30.394  54\n",
      "19   32.992  28.268  55\n",
      "20    7.139  28.504  55\n",
      "21   13.438  22.625  55\n",
      "22   16.903  25.722  54\n",
      "23   28.714  10.656  53\n",
      "24   21.732  11.969  55\n",
      "25    8.399  19.475  60\n",
      "26    8.241  18.950  57\n",
      "27   11.076  20.472  60\n",
      "28   13.491  18.058  62\n",
      "29   16.378  11.706  63\n",
      "..      ...     ...  ..\n",
      "203   6.929   7.034  26\n",
      "204  16.220   8.399  35\n",
      "205  14.488  10.656  35\n",
      "206  28.451   9.396  36\n",
      "207  28.504  10.761  45\n",
      "208  28.819  14.856  45\n",
      "209  30.551  12.861  42\n",
      "210  18.373  13.858  22\n",
      "211  28.084  16.168  23\n",
      "212  25.722  16.273  29\n",
      "213   5.354  16.640  33\n",
      "214   7.612  12.703  38\n",
      "215  32.598  25.459  48\n",
      "216   8.399  27.402  47\n",
      "217  19.633  30.079  33\n",
      "218   3.045  27.139  34\n",
      "219  22.520  36.010  87\n",
      "220  26.299  35.591  77\n",
      "221  16.640  35.958  72\n",
      "222   3.622  38.845  75\n",
      "223   3.097  39.003  75\n",
      "224   4.147  38.845  75\n",
      "225  15.958  38.845  67\n",
      "226  24.724  35.538  24\n",
      "227  19.423  33.123  12\n",
      "228  23.202  30.709  11\n",
      "229  34.016  30.761  11\n",
      "230  13.543  24.882  36\n",
      "231  21.837  34.803  32\n",
      "232  19.213  20.945  35\n",
      "\n",
      "[233 rows x 3 columns]\n"
     ]
    }
   ],
   "source": [
    "centroids = detection[['X', 'Y', 'Slice']]\n",
    "# centroids.rename(columns = {'Slice':'Z'}, inplace = True)\n",
    "centroids.columns = ['x', 'y', 'z']\n",
    "print(centroids)"
   ]
  },
  {
   "cell_type": "code",
   "execution_count": 80,
   "metadata": {
    "collapsed": false,
    "scrolled": true
   },
   "outputs": [
    {
     "name": "stderr",
     "output_type": "stream",
     "text": [
      "/Users/Kepler/anaconda/envs/ml/lib/python2.7/site-packages/ipykernel/__main__.py:2: SettingWithCopyWarning: \n",
      "A value is trying to be set on a copy of a slice from a DataFrame.\n",
      "Try using .loc[row_indexer,col_indexer] = value instead\n",
      "\n",
      "See the caveats in the documentation: http://pandas.pydata.org/pandas-docs/stable/indexing.html#indexing-view-versus-copy\n",
      "  from ipykernel import kernelapp as app\n",
      "/Users/Kepler/anaconda/envs/ml/lib/python2.7/site-packages/ipykernel/__main__.py:3: SettingWithCopyWarning: \n",
      "A value is trying to be set on a copy of a slice from a DataFrame.\n",
      "Try using .loc[row_indexer,col_indexer] = value instead\n",
      "\n",
      "See the caveats in the documentation: http://pandas.pydata.org/pandas-docs/stable/indexing.html#indexing-view-versus-copy\n",
      "  app.launch_new_instance()\n",
      "/Users/Kepler/anaconda/envs/ml/lib/python2.7/site-packages/ipykernel/__main__.py:4: SettingWithCopyWarning: \n",
      "A value is trying to be set on a copy of a slice from a DataFrame.\n",
      "Try using .loc[row_indexer,col_indexer] = value instead\n",
      "\n",
      "See the caveats in the documentation: http://pandas.pydata.org/pandas-docs/stable/indexing.html#indexing-view-versus-copy\n"
     ]
    }
   ],
   "source": [
    "# z slices were 1 indexed, now make then 0\n",
    "centroids['z'] -= 1\n",
    "centroids['x'] *= (1000/39.37)\n",
    "centroids['y'] *= (1000/39.37)"
   ]
  },
  {
   "cell_type": "code",
   "execution_count": 81,
   "metadata": {
    "collapsed": false,
    "scrolled": true
   },
   "outputs": [
    {
     "name": "stdout",
     "output_type": "stream",
     "text": [
      "              x           y   z\n",
      "0    362.001524  321.996444  50\n",
      "1    145.999492  658.013716  51\n",
      "2    570.002540  862.001524  54\n",
      "3    311.988824  311.988824  53\n",
      "4    365.989332  319.989840  58\n",
      "5    332.004064  550.012700  60\n",
      "6    180.010160  527.990856  61\n",
      "7    173.990348  651.993904  61\n",
      "8    691.998984  513.995428  61\n",
      "9    750.012700  345.999492  61\n",
      "10   304.013208  551.993904  51\n",
      "11   602.006604  696.012192  53\n",
      "12   535.991872  756.007112  52\n",
      "13   526.009652  670.002540  50\n",
      "14   751.993904  532.004064  51\n",
      "15   800.000000  558.013716  52\n",
      "16   832.004064  597.993396  53\n",
      "17   608.001016   91.998984  51\n",
      "18   600.000000  772.009144  53\n",
      "19   837.998476  718.008636  54\n",
      "20   181.330963  724.003048  54\n",
      "21   341.325883  574.676149  54\n",
      "22   429.337059  653.340107  53\n",
      "23   729.337059  270.662941  52\n",
      "24   551.993904  304.013208  54\n",
      "25   213.335027  494.665989  59\n",
      "26   209.321819  481.330963  56\n",
      "27   281.330963  519.989840  59\n",
      "28   342.672085  458.674117  61\n",
      "29   416.002032  297.332995  62\n",
      "..          ...         ...  ..\n",
      "203  175.996952  178.663957  25\n",
      "204  411.988824  213.335027  34\n",
      "205  367.995936  270.662941  34\n",
      "206  722.656845  238.658877  35\n",
      "207  724.003048  273.329947  44\n",
      "208  732.004064  377.343155  44\n",
      "209  775.996952  326.670053  41\n",
      "210  466.675133  351.993904  21\n",
      "211  713.335027  410.668021  22\n",
      "212  653.340107  413.335027  28\n",
      "213  135.991872  422.656845  32\n",
      "214  193.345187  322.656845  37\n",
      "215  827.990856  646.659893  47\n",
      "216  213.335027  696.012192  46\n",
      "217  498.679197  764.008128  32\n",
      "218   77.343155  689.331979  33\n",
      "219  572.009144  914.655829  86\n",
      "220  667.995936  904.013208  76\n",
      "221  422.656845  913.335027  71\n",
      "222   91.998984  986.664973  74\n",
      "223   78.663957  990.678181  74\n",
      "224  105.334011  986.664973  74\n",
      "225  405.334011  986.664973  66\n",
      "226  627.990856  902.667005  23\n",
      "227  493.345187  841.325883  11\n",
      "228  589.331979  780.010160  10\n",
      "229  864.008128  781.330963  10\n",
      "230  343.992888  632.004064  35\n",
      "231  554.660909  883.997968  31\n",
      "232  488.011176  532.004064  34\n",
      "\n",
      "[233 rows x 3 columns]\n"
     ]
    }
   ],
   "source": [
    "print(centroids)"
   ]
  },
  {
   "cell_type": "code",
   "execution_count": 82,
   "metadata": {
    "collapsed": false
   },
   "outputs": [],
   "source": [
    "df0 = centroids[centroids['x'] < 500]\n",
    "df0 = df0[df0['y'] < 500] \n",
    "df0 = df0.reset_index(drop=True)\n",
    "\n",
    "\n",
    "df1 = centroids[centroids['x'] >= 500]\n",
    "df1 = df1[df1['y'] < 500] \n",
    "df1['x'] -= 500\n",
    "df1 = df1.reset_index(drop=True)\n",
    "\n",
    "\n",
    "df2 = centroids[centroids['x'] < 500]\n",
    "df2 = df2[df2['y'] >= 500] \n",
    "df2['y'] -= 500\n",
    "df2 = df2.reset_index(drop=True)\n",
    "\n",
    "\n",
    "df3 = centroids[centroids['x'] >= 500]\n",
    "df3 = df3[df3['y'] >= 500] \n",
    "df3['x'] -= 500\n",
    "df3['y'] -= 500\n",
    "df3 = df3.reset_index(drop=True)\n"
   ]
  },
  {
   "cell_type": "code",
   "execution_count": 83,
   "metadata": {
    "collapsed": false,
    "scrolled": false
   },
   "outputs": [
    {
     "name": "stdout",
     "output_type": "stream",
     "text": [
      "             x           y   z\n",
      "0   250.012700  345.999492  61\n",
      "1   108.001016   91.998984  51\n",
      "2   229.337059  270.662941  52\n",
      "3    51.993904  304.013208  54\n",
      "4    21.336043  157.327915  68\n",
      "5    40.005080  388.011176  80\n",
      "6    40.005080  105.334011  87\n",
      "7    25.323851  353.340107  84\n",
      "8    29.337059  324.003048  85\n",
      "9   127.990856  154.660909  81\n",
      "10   51.993904   51.993904  80\n",
      "11  106.680213  400.000000  58\n",
      "12  404.013208  102.667005  54\n",
      "13  412.014224  105.334011  54\n",
      "14  250.673101  262.661925  57\n",
      "15  282.677165   83.997968  60\n",
      "16  319.989840  440.005080  65\n",
      "17  154.660909  358.674117  70\n",
      "18  294.665989  358.674117  73\n",
      "19  446.659893  472.009144  73\n",
      "20  122.656845  109.321819  73\n",
      "21  108.001016  494.665989  74\n",
      "22  178.663957  322.656845  93\n",
      "23  209.347219  489.331979  98\n",
      "24   64.008128  288.011176   9\n",
      "25   49.326899  397.332995  12\n",
      "26  127.990856  337.338075  10\n",
      "27  178.663957  164.008128  12\n",
      "28  157.327915  129.337059  14\n",
      "29  149.326899  142.672085  11\n",
      "..         ...         ...  ..\n",
      "38  230.657861  493.345187  48\n",
      "39  135.991872  458.674117  48\n",
      "40  201.346203  169.342139  46\n",
      "41  190.678181  122.656845  46\n",
      "42  206.680213  110.668021  47\n",
      "43   38.658877  133.324867  46\n",
      "44   54.660909   64.008128  47\n",
      "45  308.001016  413.335027   6\n",
      "46  440.005080  457.327915   6\n",
      "47  327.990856  457.327915  20\n",
      "48  226.670053  272.009144  19\n",
      "49   96.012192  238.658877  19\n",
      "50   97.332995  234.671069  26\n",
      "51    2.667005  494.665989  32\n",
      "52  226.670053  269.342139  26\n",
      "53    9.321819  314.655829  19\n",
      "54   19.989840  359.994920  17\n",
      "55  126.670053  405.334011  23\n",
      "56  154.660909  430.657861  23\n",
      "57   73.329947  432.004064  23\n",
      "58   57.327915  169.342139  28\n",
      "59   43.992888   49.326899  49\n",
      "60  188.011176   72.009144  18\n",
      "61  173.329947  157.327915  20\n",
      "62  222.656845  238.658877  35\n",
      "63  224.003048  273.329947  44\n",
      "64  232.004064  377.343155  44\n",
      "65  275.996952  326.670053  41\n",
      "66  213.335027  410.668021  22\n",
      "67  153.340107  413.335027  28\n",
      "\n",
      "[68 rows x 3 columns]\n"
     ]
    }
   ],
   "source": [
    "print(df1)"
   ]
  },
  {
   "cell_type": "code",
   "execution_count": 84,
   "metadata": {
    "collapsed": false
   },
   "outputs": [],
   "source": [
    "df0.to_csv('cell_detection_0.csv')\n",
    "\n",
    "df1.to_csv('cell_detection_1.csv')\n",
    "\n",
    "df2.to_csv('cell_detection_2.csv')\n",
    "\n",
    "df3.to_csv('cell_detection_3.csv')"
   ]
  },
  {
   "cell_type": "code",
   "execution_count": null,
   "metadata": {
    "collapsed": true
   },
   "outputs": [],
   "source": []
  },
  {
   "cell_type": "code",
   "execution_count": null,
   "metadata": {
    "collapsed": true
   },
   "outputs": [],
   "source": []
  },
  {
   "cell_type": "code",
   "execution_count": null,
   "metadata": {
    "collapsed": true
   },
   "outputs": [],
   "source": []
  }
 ],
 "metadata": {
  "kernelspec": {
   "display_name": "Python 2",
   "language": "python",
   "name": "python2"
  },
  "language_info": {
   "codemirror_mode": {
    "name": "ipython",
    "version": 2
   },
   "file_extension": ".py",
   "mimetype": "text/x-python",
   "name": "python",
   "nbconvert_exporter": "python",
   "pygments_lexer": "ipython2",
   "version": "2.7.12"
  }
 },
 "nbformat": 4,
 "nbformat_minor": 2
}
