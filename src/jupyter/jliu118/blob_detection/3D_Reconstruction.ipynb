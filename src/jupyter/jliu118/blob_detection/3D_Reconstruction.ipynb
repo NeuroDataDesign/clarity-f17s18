{
 "cells": [
  {
   "cell_type": "markdown",
   "metadata": {},
   "source": [
    "# 3D Reconstruction\n",
    "\n",
    "---\n",
    "\n",
    "## Pseudocode"
   ]
  },
  {
   "cell_type": "markdown",
   "metadata": {},
   "source": [
    "#### input:\n",
    "* z_comps: a collection of components for all the z slice\n",
    "\n",
    "#### pseudocode:\n",
    "\n",
    "for each set of components for each z slice:\n",
    "    for each component in this set:\n",
    "    1. If nearest centroids in z planes above and below the current plane are within a specified x–y radius, \n",
    "        then current centroid is a part of that blob, so put it in that blob's collection\n",
    "    \n",
    "Compute Centroid of all centroids associated with a blob\n",
    "\n",
    "return list of blob centroids"
   ]
  },
  {
   "cell_type": "code",
   "execution_count": 26,
   "metadata": {
    "collapsed": true
   },
   "outputs": [],
   "source": [
    "# ```\n",
    "# for comps in z_comps:\n",
    "#     # comps is a list of components for a single z slice\n",
    "#     for component in comps:\n",
    "#         if (nearest centroids in z planes above and below the current plane are within a specified x–y radius):\n",
    "#             current centroid is a part of that blob, so put it in that blob's collection\n",
    "# return unique_blobs\n",
    "        \n",
    "# ```"
   ]
  },
  {
   "cell_type": "code",
   "execution_count": 1,
   "metadata": {
    "collapsed": true
   },
   "outputs": [],
   "source": [
    "%matplotlib inline\n",
    "# from __future__ import division\n",
    "\n",
    "import matplotlib.pyplot as plt\n",
    "# from skimage import data\n",
    "# from skimage.filters import threshold_otsu, threshold_local\n",
    "# from skimage.morphology import disk, binary_erosion, binary_opening, label\n",
    "from skimage.measure import regionprops\n",
    "\n",
    "import numpy as np\n",
    "\n",
    "from tifffile import imsave, imread\n",
    "\n",
    "import pickle"
   ]
  },
  {
   "cell_type": "code",
   "execution_count": 2,
   "metadata": {},
   "outputs": [
    {
     "name": "stdout",
     "output_type": "stream",
     "text": [
      "100\n"
     ]
    }
   ],
   "source": [
    "z_comps = pickle.load(open(\"z_comps.pkl\", \"rb\"))\n",
    "print(len(z_comps))"
   ]
  },
  {
   "cell_type": "code",
   "execution_count": 27,
   "metadata": {
    "collapsed": true
   },
   "outputs": [],
   "source": [
    "# Helper functions\n",
    "\n",
    "def comp_hash(z, comp):\n",
    "#     hash_key = 17;\n",
    "#     hash_key = hash_key * 31 + int(round(comp.centroid[0]));\n",
    "#     hash_key = hash_key * 31 + int(round(comp.centroid[1]));\n",
    "#     hash_key = hash_key * 31 + z;\n",
    "    hash_key = (z, int(round(comp.centroid[0])), int(round(comp.centroid[1])))\n",
    "    return hash_key\n",
    "\n",
    "def get_min_dist(cc_comp, comps):\n",
    "    min_dist = float(\"inf\")\n",
    "    min_comp = None\n",
    "    for comp in comps:\n",
    "        euc_dist = np.linalg.norm(np.asarray(cc_comp.centroid) - np.asarray(comp.centroid))\n",
    "        if (euc_dist < min_dist):\n",
    "            min_dist = euc_dist\n",
    "            min_comp = comp   \n",
    "            \n",
    "    return min_dist, min_comp\n",
    "\n",
    "def get_3d_centroid(points):\n",
    "    zs = [p[0] for p in points]\n",
    "    ys = [p[1] for p in points]\n",
    "    xs = [p[2] for p in points]\n",
    "    z = int(round(float(sum(zs)) / len(points)))\n",
    "    y = int(round(float(sum(ys)) / len(points)))\n",
    "    x = int(round(float(sum(xs)) / len(points)))\n",
    "    centroid = [z, y, x]\n",
    "    return centroid"
   ]
  },
  {
   "cell_type": "code",
   "execution_count": 4,
   "metadata": {
    "scrolled": true
   },
   "outputs": [
    {
     "name": "stdout",
     "output_type": "stream",
     "text": [
      "z: 2\n",
      "z: 3\n",
      "z: 4\n",
      "z: 5\n",
      "z: 6\n",
      "z: 7\n",
      "z: 8\n",
      "z: 9\n",
      "z: 10\n",
      "z: 11\n",
      "z: 12\n",
      "z: 13\n",
      "z: 14\n",
      "z: 15\n",
      "z: 16\n",
      "z: 17\n",
      "z: 18\n",
      "z: 19\n",
      "z: 20\n",
      "z: 21\n",
      "z: 22\n",
      "z: 23\n",
      "z: 24\n",
      "z: 25\n",
      "z: 26\n",
      "z: 27\n",
      "z: 28\n",
      "z: 29\n",
      "z: 30\n",
      "z: 31\n",
      "z: 32\n",
      "z: 33\n",
      "z: 34\n",
      "z: 35\n",
      "z: 36\n",
      "z: 37\n",
      "z: 38\n",
      "z: 39\n",
      "z: 40\n",
      "z: 41\n",
      "z: 42\n",
      "z: 43\n",
      "z: 44\n",
      "z: 45\n",
      "z: 46\n",
      "z: 47\n",
      "z: 48\n",
      "z: 49\n",
      "z: 50\n",
      "z: 51\n",
      "z: 52\n",
      "z: 53\n",
      "z: 54\n",
      "z: 55\n",
      "z: 56\n",
      "z: 57\n",
      "z: 58\n",
      "z: 59\n",
      "z: 60\n",
      "z: 61\n",
      "z: 62\n",
      "z: 63\n",
      "z: 64\n",
      "z: 65\n",
      "z: 66\n",
      "z: 67\n",
      "z: 68\n",
      "z: 69\n",
      "z: 70\n",
      "z: 71\n",
      "z: 72\n",
      "z: 73\n",
      "z: 74\n",
      "z: 75\n",
      "z: 76\n",
      "z: 77\n",
      "z: 78\n",
      "z: 79\n",
      "z: 80\n",
      "z: 81\n",
      "z: 82\n",
      "z: 83\n",
      "z: 84\n",
      "z: 85\n",
      "z: 86\n",
      "z: 87\n",
      "z: 88\n",
      "z: 89\n",
      "z: 90\n",
      "z: 91\n",
      "z: 92\n",
      "z: 93\n",
      "z: 94\n",
      "z: 95\n",
      "z: 96\n",
      "z: 97\n"
     ]
    }
   ],
   "source": [
    "# {comp_hash_key : blob_number}\n",
    "blobs = {}\n",
    "\n",
    "# {blob_number : blob_num_z_slices}\n",
    "blob_z_size = {}\n",
    "\n",
    "blob_num = 0\n",
    "\n",
    "for k in range(2, len(z_comps) - 2):\n",
    "    print('z: %d' % k)\n",
    "    below_comps = z_comps[k - 1]\n",
    "    above_comps = z_comps[k + 1]\n",
    "    for curr_comp in z_comps[k]:\n",
    "        min_dist_below, min_comp_below = get_min_dist(curr_comp, below_comps)\n",
    "        min_dist_above, min_comp_above = get_min_dist(curr_comp, above_comps)\n",
    "        if (min_dist_below < 5 and min_dist_above < 5):\n",
    "            # if the the blob is in the z slice below and the blob is in the z slice above\n",
    "            hash_key = comp_hash(k, curr_comp)\n",
    "            hash_below = comp_hash(k - 1, min_comp_below)\n",
    "            if hash_below in blobs:\n",
    "                # Blob below is already in the blobs dict.\n",
    "                blob_num_below = blobs[hash_below]\n",
    "                blobs[hash_key] = blob_num_below\n",
    "                blob_z_size[blob_num_below] += 1\n",
    "            else:\n",
    "                # New blob detected\n",
    "                blobs[hash_key] = blob_num\n",
    "                blob_num += 1\n",
    "                blob_z_size[blobs[hash_key]] = 1"
   ]
  },
  {
   "cell_type": "code",
   "execution_count": 5,
   "metadata": {
    "scrolled": true
   },
   "outputs": [
    {
     "name": "stdout",
     "output_type": "stream",
     "text": [
      "num blobs detected: 85\n"
     ]
    }
   ],
   "source": [
    "print('num blobs detected: %d' % blob_num)"
   ]
  },
  {
   "cell_type": "code",
   "execution_count": 6,
   "metadata": {},
   "outputs": [
    {
     "name": "stdout",
     "output_type": "stream",
     "text": [
      "{(6, 588, 103): 4, (92, 232, 401): 74, (31, 688, 74): 35, (16, 185, 170): 24, (97, 746, 705): 83, (81, 390, 540): 69, (7, 906, 113): 19, (92, 808, 585): 72, (6, 455, 935): 16, (69, 551, 815): 66, (48, 329, 367): 48, (47, 546, 387): 51, (75, 984, 92): 67, (10, 338, 624): 21, (59, 531, 184): 61, (12, 332, 919): 22, (77, 985, 95): 67, (90, 810, 589): 72, (26, 234, 594): 28, (53, 658, 147): 52, (5, 751, 351): 14, (33, 394, 671): 40, (33, 407, 374): 41, (2, 858, 727): 6, (37, 618, 619): 45, (52, 323, 360): 54, (4, 588, 100): 4, (29, 407, 399): 30, (5, 766, 78): 8, (2, 444, 140): 2, (33, 765, 495): 36, (52, 659, 147): 52, (34, 688, 76): 35, (31, 765, 495): 36, (42, 839, 15): 47, (85, 403, 23): 71, (4, 807, 576): 9, (58, 803, 484): 58, (33, 688, 77): 35, (32, 768, 493): 36, (5, 387, 235): 13, (68, 552, 814): 66, (28, 552, 218): 32, (54, 861, 570): 55, (11, 332, 919): 22, (94, 505, 561): 76, (41, 424, 140): 46, (60, 655, 168): 57, (47, 328, 367): 48, (49, 660, 148): 52, (2, 77, 818): 0, (2, 457, 49): 3, (33, 335, 477): 39, (6, 857, 727): 6, (3, 929, 322): 7, (16, 255, 226): 25, (51, 659, 148): 52, (60, 532, 183): 61, (91, 748, 696): 73, (48, 528, 877): 50, (34, 334, 478): 39, (61, 552, 332): 62, (94, 807, 589): 72, (93, 504, 561): 76, (59, 402, 601): 60, (16, 63, 188): 23, (61, 531, 182): 61, (61, 806, 659): 64, (93, 231, 405): 74, (5, 332, 915): 12, (31, 422, 133): 34, (91, 812, 586): 72, (26, 404, 404): 30, (37, 386, 680): 44, (5, 883, 201): 11, (6, 751, 347): 14, (34, 394, 670): 40, (3, 586, 99): 4, (32, 504, 355): 37, (63, 653, 166): 57, (6, 906, 112): 19, (62, 653, 168): 57, (32, 688, 75): 35, (33, 502, 357): 37, (48, 492, 729): 49, (61, 512, 692): 63, (28, 336, 473): 29, (97, 682, 675): 82, (53, 598, 833): 56, (62, 512, 690): 63, (58, 656, 163): 57, (94, 686, 455): 77, (53, 861, 569): 55, (97, 518, 987): 81, (59, 656, 164): 57, (33, 311, 616): 38, (34, 700, 496): 43, (27, 405, 404): 30, (94, 321, 674): 75, (4, 834, 964): 10, (6, 770, 77): 8, (27, 234, 595): 28, (47, 528, 875): 50, (76, 984, 90): 67, (6, 813, 860): 18, (97, 250, 305): 79, (3, 860, 724): 6, (3, 458, 49): 3, (6, 73, 816): 15, (97, 199, 82): 78, (34, 408, 376): 41, (90, 747, 696): 73, (27, 336, 474): 29, (48, 547, 388): 51, (59, 556, 327): 62, (59, 319, 368): 59, (61, 653, 169): 57, (35, 699, 493): 43, (77, 317, 62): 68, (89, 745, 694): 73, (33, 698, 497): 43, (66, 557, 813): 66, (97, 987, 393): 84, (67, 555, 813): 66, (28, 406, 402): 30, (80, 389, 539): 69, (2, 587, 96): 4, (33, 423, 135): 34, (16, 612, 970): 27, (51, 323, 361): 54, (89, 810, 588): 72, (32, 423, 135): 34, (93, 321, 674): 75, (62, 531, 180): 61, (17, 188, 173): 24, (50, 659, 149): 52, (76, 318, 63): 68, (60, 555, 330): 62, (4, 884, 197): 11, (26, 338, 475): 29, (16, 264, 13): 26, (47, 658, 150): 52, (6, 838, 958): 10, (6, 389, 237): 13, (6, 615, 435): 17, (47, 669, 675): 53, (17, 263, 14): 26, (2, 240, 62): 1, (4, 859, 724): 6, (26, 554, 217): 32, (13, 332, 919): 22, (82, 774, 491): 70, (92, 321, 677): 75, (33, 500, 468): 42, (27, 553, 217): 32, (29, 602, 777): 33, (26, 414, 647): 31, (88, 810, 586): 72, (4, 767, 80): 8, (5, 835, 962): 10, (97, 356, 202): 80, (6, 336, 914): 12, (94, 229, 406): 74, (47, 493, 728): 49, (48, 659, 150): 52, (93, 808, 589): 72, (5, 857, 723): 6, (5, 589, 99): 4, (10, 156, 664): 20, (2, 839, 320): 5, (34, 501, 357): 37, (52, 861, 572): 55, (63, 442, 21): 65}\n"
     ]
    }
   ],
   "source": [
    "print(blobs)"
   ]
  },
  {
   "cell_type": "code",
   "execution_count": 28,
   "metadata": {},
   "outputs": [],
   "source": [
    "blob_centroids = []\n",
    "for blob_id in range(0, blob_num):\n",
    "    curr_blob_centroids = []\n",
    "    for key, val in blobs.iteritems():\n",
    "        # get all centroids associated with blob_id\n",
    "        if (blob_id == val):\n",
    "            curr_blob_centroids.append([key[0], key[1], key[2]])\n",
    "    blob_centroids.append(get_3d_centroid(curr_blob_centroids))"
   ]
  },
  {
   "cell_type": "code",
   "execution_count": 29,
   "metadata": {},
   "outputs": [
    {
     "name": "stdout",
     "output_type": "stream",
     "text": [
      "85\n"
     ]
    }
   ],
   "source": [
    "print(len(blob_centroids))"
   ]
  },
  {
   "cell_type": "code",
   "execution_count": 30,
   "metadata": {
    "scrolled": true
   },
   "outputs": [
    {
     "name": "stdout",
     "output_type": "stream",
     "text": [
      "[[2, 77, 818], [2, 240, 62], [2, 444, 140], [3, 458, 49], [4, 588, 99], [2, 839, 320], [4, 858, 725], [3, 929, 322], [5, 768, 78], [4, 807, 576], [5, 836, 961], [5, 884, 199], [6, 334, 915], [6, 388, 236], [6, 751, 349], [6, 73, 816], [6, 455, 935], [6, 615, 435], [6, 813, 860], [7, 906, 113], [10, 156, 664], [10, 338, 624], [12, 332, 919], [16, 63, 188], [17, 187, 172], [16, 255, 226], [17, 264, 14], [16, 612, 970], [27, 234, 595], [27, 337, 474], [28, 406, 402], [26, 414, 647], [27, 553, 217], [29, 602, 777], [32, 423, 134], [33, 688, 76], [32, 766, 494], [33, 502, 356], [33, 311, 616], [34, 335, 478], [34, 394, 671], [34, 408, 375], [33, 500, 468], [34, 699, 495], [37, 386, 680], [37, 618, 619], [41, 424, 140], [42, 839, 15], [48, 329, 367], [48, 493, 729], [48, 528, 876], [48, 547, 388], [50, 659, 148], [47, 669, 675], [52, 323, 361], [53, 861, 570], [53, 598, 833], [61, 654, 166], [58, 803, 484], [59, 319, 368], [59, 402, 601], [61, 531, 182], [60, 554, 330], [62, 512, 691], [61, 806, 659], [63, 442, 21], [68, 554, 814], [76, 984, 92], [77, 318, 63], [81, 390, 540], [82, 774, 491], [85, 403, 23], [91, 809, 587], [90, 747, 695], [93, 231, 404], [93, 321, 675], [94, 505, 561], [94, 686, 455], [97, 199, 82], [97, 250, 305], [97, 356, 202], [97, 518, 987], [97, 682, 675], [97, 746, 705], [97, 987, 393]]\n"
     ]
    }
   ],
   "source": [
    "print(blob_centroids)"
   ]
  },
  {
   "cell_type": "code",
   "execution_count": 31,
   "metadata": {},
   "outputs": [],
   "source": [
    "np.savetxt(\"blob_centroids.csv\", blob_centroids, fmt='%d', delimiter=\",\")"
   ]
  },
  {
   "cell_type": "markdown",
   "metadata": {},
   "source": [
    "# Testing function"
   ]
  },
  {
   "cell_type": "code",
   "execution_count": 19,
   "metadata": {
    "collapsed": true
   },
   "outputs": [],
   "source": [
    "from detector import reconstruction_3d"
   ]
  },
  {
   "cell_type": "code",
   "execution_count": 20,
   "metadata": {
    "scrolled": true
   },
   "outputs": [
    {
     "name": "stdout",
     "output_type": "stream",
     "text": [
      "z: 2\n",
      "z: 3\n",
      "z: 4\n",
      "z: 5\n",
      "z: 6\n",
      "z: 7\n",
      "z: 8\n",
      "z: 9\n",
      "z: 10\n",
      "z: 11\n",
      "z: 12\n",
      "z: 13\n",
      "z: 14\n",
      "z: 15\n",
      "z: 16\n",
      "z: 17\n",
      "z: 18\n",
      "z: 19\n",
      "z: 20\n",
      "z: 21\n",
      "z: 22\n",
      "z: 23\n",
      "z: 24\n",
      "z: 25\n",
      "z: 26\n",
      "z: 27\n",
      "z: 28\n",
      "z: 29\n",
      "z: 30\n",
      "z: 31\n",
      "z: 32\n",
      "z: 33\n",
      "z: 34\n",
      "z: 35\n",
      "z: 36\n",
      "z: 37\n",
      "z: 38\n",
      "z: 39\n",
      "z: 40\n",
      "z: 41\n",
      "z: 42\n",
      "z: 43\n",
      "z: 44\n",
      "z: 45\n",
      "z: 46\n",
      "z: 47\n",
      "z: 48\n",
      "z: 49\n",
      "z: 50\n",
      "z: 51\n",
      "z: 52\n",
      "z: 53\n",
      "z: 54\n",
      "z: 55\n",
      "z: 56\n",
      "z: 57\n",
      "z: 58\n",
      "z: 59\n",
      "z: 60\n",
      "z: 61\n",
      "z: 62\n",
      "z: 63\n",
      "z: 64\n",
      "z: 65\n",
      "z: 66\n",
      "z: 67\n",
      "z: 68\n",
      "z: 69\n",
      "z: 70\n",
      "z: 71\n",
      "z: 72\n",
      "z: 73\n",
      "z: 74\n",
      "z: 75\n",
      "z: 76\n",
      "z: 77\n",
      "z: 78\n",
      "z: 79\n",
      "z: 80\n",
      "z: 81\n",
      "z: 82\n",
      "z: 83\n",
      "z: 84\n",
      "z: 85\n",
      "z: 86\n",
      "z: 87\n",
      "z: 88\n",
      "z: 89\n",
      "z: 90\n",
      "z: 91\n",
      "z: 92\n",
      "z: 93\n",
      "z: 94\n",
      "z: 95\n",
      "z: 96\n",
      "z: 97\n"
     ]
    }
   ],
   "source": [
    "b_c = reconstruction_3d(z_comps)"
   ]
  },
  {
   "cell_type": "code",
   "execution_count": 21,
   "metadata": {},
   "outputs": [
    {
     "name": "stdout",
     "output_type": "stream",
     "text": [
      "True\n"
     ]
    }
   ],
   "source": [
    "print(b_c == blob_centroids)"
   ]
  },
  {
   "cell_type": "code",
   "execution_count": null,
   "metadata": {
    "collapsed": true
   },
   "outputs": [],
   "source": []
  }
 ],
 "metadata": {
  "kernelspec": {
   "display_name": "Python 2",
   "language": "python",
   "name": "python2"
  },
  "language_info": {
   "codemirror_mode": {
    "name": "ipython",
    "version": 2
   },
   "file_extension": ".py",
   "mimetype": "text/x-python",
   "name": "python",
   "nbconvert_exporter": "python",
   "pygments_lexer": "ipython2",
   "version": "2.7.12"
  }
 },
 "nbformat": 4,
 "nbformat_minor": 2
}
