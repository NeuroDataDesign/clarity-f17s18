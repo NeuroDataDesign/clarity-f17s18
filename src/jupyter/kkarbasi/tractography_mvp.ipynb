{
 "cells": [
  {
   "cell_type": "markdown",
   "metadata": {},
   "source": [
    "# Tractography pipeline for neuronal fibers\n",
    "This notebook take a 3d volume of images and returns the detected axons"
   ]
  },
  {
   "cell_type": "markdown",
   "metadata": {},
   "source": [
    "## Importing dependencies"
   ]
  },
  {
   "cell_type": "code",
   "execution_count": 1,
   "metadata": {},
   "outputs": [
    {
     "name": "stderr",
     "output_type": "stream",
     "text": [
      "/usr/local/lib/python2.7/dist-packages/tifffile/tifffile.py:306: UserWarning: ImportError: No module named '_tifffile'. Loading of some compressed images will be very slow. Tifffile.c can be obtained at http://www.lfd.uci.edu/~gohlke/\n",
      "  \"ImportError: No module named '_tifffile'. \"\n"
     ]
    }
   ],
   "source": [
    "from bossHandler import bossHandler\n",
    "from tractography import vertices\n",
    "from intern.resource.boss.resource import *\n",
    "from intern.remote.boss import BossRemote\n",
    "from skimage import filters\n",
    "import numpy as np\n",
    "from sklearn.mixture import GaussianMixture\n",
    "from scipy.stats import norm\n",
    "import matplotlib.pyplot as plt\n",
    "from matplotlib import animation\n",
    "import matplotlib.mlab as mlab\n",
    "import glob\n",
    "import skfmm\n",
    "from scipy.ndimage.filters import laplace\n",
    "from skimage.morphology import binary_opening, binary_closing, binary_dilation\n",
    "from skimage.morphology import skeletonize_3d,label\n",
    "from scipy.ndimage.morphology import *\n",
    "from tifffile import imsave\n",
    "from skimage import img_as_ubyte, img_as_uint, color\n",
    "from tractools import run_tractography\n",
    "from sklearn.cluster import KMeans"
   ]
  },
  {
   "cell_type": "markdown",
   "metadata": {},
   "source": [
    "## Download data from Boss\n",
    "The bossHandler class uses Intern to connect to Boss and download volumes. If the tiff files are already downloaded (using ndpull), use the following cell to load from disk"
   ]
  },
  {
   "cell_type": "code",
   "execution_count": 2,
   "metadata": {},
   "outputs": [],
   "source": [
    "# Parameters:\n",
    "coll_name = 'ailey-dev'\n",
    "exp_name = 'DRN-BLA_2378'\n",
    "chan_name = 'Ch0'\n",
    "x_rng = [9250, 9750]\n",
    "y_rng = [18000, 18500]\n",
    "z_rng = [500, 600]\n",
    "test_lbl = '4'\n",
    "\n",
    "# Using bossHandler class to download from Boss:\n",
    "bHandler = bossHandler(coll_name)\n",
    "bHandler.select_experiment(exp_name)\n",
    "exp = bHandler.get_experiment()\n",
    "bHandler.list_channels()\n",
    "bHandler.select_channel(chan_name)\n",
    "coor = bHandler.get_coordinate_frame()\n",
    "data_cutout_raw = bHandler.get_cutout(x_rng, y_rng, z_rng)\n",
    "data_cutout_raw = np.transpose(img_as_uint(data_cutout_raw),(1,2,0))"
   ]
  },
  {
   "cell_type": "markdown",
   "metadata": {},
   "source": [
    "## Or, load input data from disk\n",
    "The data can be loaded from a tiff stack on disk. The saved tiffs are output of the ndpull package saved to tifPath. If data is already loaded using the top cell, this step is not necessary."
   ]
  },
  {
   "cell_type": "code",
   "execution_count": null,
   "metadata": {},
   "outputs": [],
   "source": [
    "# # x_range = [9750, 10250]\n",
    "# # y_range = [18000, 18500]\n",
    "# # z_range = [500, 600]\n",
    "# tifPath = '/run/mount/DRN-BLA_2378_2p_glycerol_Ch0/test_0/*.tif'\n",
    "# tifList = sorted(glob.glob(tifPath))\n",
    "# if tifList: # check if not empty\n",
    "#     im_slice = plt.imread(tifList[0])\n",
    "#     data_cutout_raw = im_slice\n",
    "        \n",
    "#     if len(tifList)>1: # check if more than 1 file\n",
    "#         for tifFile in tifList[1:]:\n",
    "#             im_slice = plt.imread(tifFile)\n",
    "#             data_cutout_raw = np.dstack((data_cutout_raw, im_slice))"
   ]
  },
  {
   "cell_type": "markdown",
   "metadata": {},
   "source": [
    "Visualize:"
   ]
  },
  {
   "cell_type": "code",
   "execution_count": null,
   "metadata": {},
   "outputs": [],
   "source": [
    "plt.imshow(data_cutout_raw[:,:,50])"
   ]
  },
  {
   "cell_type": "markdown",
   "metadata": {},
   "source": [
    "### Binarization using 4-means"
   ]
  },
  {
   "cell_type": "code",
   "execution_count": null,
   "metadata": {},
   "outputs": [],
   "source": [
    "k = 4\n",
    "data_cutout_binarized = np.copy(data_cutout_raw)\n",
    "vol_size = data_cutout_raw.shape\n",
    "for i in np.arange(0 , vol_size[2]):\n",
    "    data_slice = data_cutout_binarized[:,:,i]\n",
    "    kmeans = KMeans(n_clusters=k, random_state=0, n_jobs=-1, precompute_distances= True, algorithm= 'auto').fit(data_slice.reshape(-1,1))\n",
    "    cluster_labels = kmeans.predict(data_slice.reshape(-1,1))\n",
    "    cluster_labels = cluster_labels.reshape(data_slice.shape)\n",
    "#     c_id = np.argmax(kmeans.cluster_centers_)\n",
    "    c_ids = np.argsort(kmeans.cluster_centers_, axis=0)    \n",
    "    data_slice[cluster_labels == c_ids[-2]] = 1\n",
    "    data_slice[cluster_labels != c_ids[-2]] = 0\n",
    "    data_cutout_binarized[:,:,i] = data_slice\n",
    "    \n",
    "    "
   ]
  },
  {
   "cell_type": "code",
   "execution_count": null,
   "metadata": {},
   "outputs": [],
   "source": [
    "c_ids = np.argsort(kmeans.cluster_centers_, axis=0)\n",
    "print(c_ids)\n",
    "print(kmeans.cluster_centers_)\n",
    "print(c_ids[-2])"
   ]
  },
  {
   "cell_type": "code",
   "execution_count": null,
   "metadata": {},
   "outputs": [],
   "source": [
    "cluster_labels.shape"
   ]
  },
  {
   "cell_type": "markdown",
   "metadata": {},
   "source": [
    "## Binarization\n",
    "Binarization is performed slice by slice using 4 component GMM. The cluster with the highest mean is picked as the binarized point set."
   ]
  },
  {
   "cell_type": "markdown",
   "metadata": {},
   "source": [
    "### slice-by-slice without subsampling "
   ]
  },
  {
   "cell_type": "code",
   "execution_count": 82,
   "metadata": {},
   "outputs": [],
   "source": [
    "gmm_nc = 4\n",
    "data_cutout_binarized = np.copy(data_cutout_raw)\n",
    "vol_size = data_cutout_raw.shape\n",
    "for i in np.arange(0 , vol_size[2]):\n",
    "    data_slice = data_cutout_binarized[:,:,i]\n",
    "    uniq = np.unique(data_slice , return_counts=True)\n",
    "    \n",
    "    gmm = GaussianMixture(gmm_nc, covariance_type = 'diag').fit(data_slice.reshape(-1,1))\n",
    "    cluster_labels = gmm.predict(data_slice.reshape(-1,1))\n",
    "    cluster_labels = cluster_labels.reshape(data_slice.shape)\n",
    "    x = np.arange(0,uniq[1].shape[0])\n",
    "    c_id = np.argmax(gmm.means_) # index of the cluster with highest mean\n",
    "    \n",
    "    data_slice[cluster_labels == c_id] = 1\n",
    "    data_slice[cluster_labels != c_id] = 0\n",
    "    data_cutout_binarized[:,:,i] = data_slice"
   ]
  },
  {
   "cell_type": "markdown",
   "metadata": {},
   "source": [
    "### slice-by-slice with subsampling "
   ]
  },
  {
   "cell_type": "code",
   "execution_count": null,
   "metadata": {},
   "outputs": [],
   "source": [
    "gmm_nc = 4\n",
    "sub_sample_to = 10000\n",
    "data_cutout_binarized = np.copy(data_cutout_raw)\n",
    "vol_size = data_cutout_raw.shape\n",
    "for i in np.arange(0 , vol_size[2]):\n",
    "    data_slice = data_cutout_binarized[:,:,i]\n",
    "#     uniq = np.unique(data_slice , return_counts=True)\n",
    "    \n",
    "    data_slice_shuffled = data_slice.flatten()\n",
    "    np.random.shuffle(data_slice_shuffled)\n",
    "    gmm = GaussianMixture(gmm_nc, covariance_type = 'spherical').fit(data_slice_shuffled[0:sub_sample_to].reshape(-1,1))\n",
    "\n",
    "    \n",
    "    \n",
    "#     gmm = GaussianMixture(gmm_nc, covariance_type = 'diag').fit(data_slice.reshape(-1,1))\n",
    "    cluster_labels = gmm.predict(data_slice.reshape(-1,1))\n",
    "    cluster_labels = cluster_labels.reshape(data_slice.shape)\n",
    "#     x = np.arange(0,uniq[1].shape[0])\n",
    "    c_id = np.argmax(gmm.means_) # index of the cluster with highest mean\n",
    "    \n",
    "    data_slice[cluster_labels == c_id] = 1\n",
    "    data_slice[cluster_labels != c_id] = 0\n",
    "    data_cutout_binarized[:,:,i] = data_slice"
   ]
  },
  {
   "cell_type": "code",
   "execution_count": 68,
   "metadata": {},
   "outputs": [],
   "source": [
    "# with percentile\n",
    "gmm_nc = 4\n",
    "sub_sample_to = 1000\n",
    "data_cutout_binarized = np.copy(data_cutout_raw)\n",
    "vol_size = data_cutout_raw.shape\n",
    "for i in np.arange(0 , vol_size[2]):\n",
    "    data_slice = data_cutout_binarized[:,:,i]\n",
    "#     uniq = np.unique(data_slice , return_counts=True)\n",
    "    \n",
    "    data_slice_shuffled = data_slice.flatten()\n",
    "    prcntile = np.percentile(data_slice_shuffled,80)\n",
    "    data_slice_shuffled = data_slice_shuffled[data_slice_shuffled >= prcntile]\n",
    "    \n",
    "    \n",
    "    np.random.shuffle(data_slice_shuffled)\n",
    "    gmm = GaussianMixture(gmm_nc, covariance_type = 'spherical').fit(data_slice_shuffled[0:sub_sample_to].reshape(-1,1))\n",
    "\n",
    "    \n",
    "    \n",
    "#     gmm = GaussianMixture(gmm_nc, covariance_type = 'diag').fit(data_slice.reshape(-1,1))\n",
    "    cluster_labels = gmm.predict(data_slice.reshape(-1,1))\n",
    "    cluster_labels = cluster_labels.reshape(data_slice.shape)\n",
    "#     x = np.arange(0,uniq[1].shape[0])\n",
    "    c_id = np.argmax(gmm.means_) # index of the cluster with highest mean\n",
    "    \n",
    "    data_slice[cluster_labels == c_id] = 1\n",
    "    data_slice[cluster_labels != c_id] = 0\n",
    "    data_cutout_binarized[:,:,i] = data_slice"
   ]
  },
  {
   "cell_type": "code",
   "execution_count": null,
   "metadata": {},
   "outputs": [],
   "source": [
    "print(np.percentile(data_slice_shuffled,80))\n",
    "print(data_slice_shuffled.min())"
   ]
  },
  {
   "cell_type": "markdown",
   "metadata": {},
   "source": [
    "### sub-vol by sub-vol with subsampling "
   ]
  },
  {
   "cell_type": "code",
   "execution_count": null,
   "metadata": {},
   "outputs": [],
   "source": [
    "gmm_nc = 3\n",
    "slices_per_vol = 5\n",
    "data_cutout_binarized = np.copy(data_cutout_raw)\n",
    "vol_size = data_cutout_raw.shape\n",
    "for i in np.arange(0, vol_size[2], slices_per_vol):\n",
    "                \n",
    "    data_slice = data_cutout_binarized[:, :, i : i+slices_per_vol]\n",
    "    \n",
    "    data_slice_shuffled = data_slice.flatten()\n",
    "    np.random.shuffle(data_slice_shuffled)\n",
    "    gmm = GaussianMixture(gmm_nc, covariance_type = 'diag').fit(data_slice_shuffled[0:5000].reshape(-1,1))\n",
    "\n",
    "    \n",
    "    \n",
    "#     gmm = GaussianMixture(gmm_nc, covariance_type = 'diag').fit(data_slice.reshape(-1,1))\n",
    "    cluster_labels = gmm.predict(data_slice.reshape(-1,1))\n",
    "    cluster_labels = cluster_labels.reshape(data_slice.shape)\n",
    "#     x = np.arange(0,uniq[1].shape[0])\n",
    "    c_id = np.argmax(gmm.means_) # index of the cluster with highest mean\n",
    "    \n",
    "    data_slice[cluster_labels == c_id] = 1\n",
    "    data_slice[cluster_labels != c_id] = 0\n",
    "    data_cutout_binarized[:,:,i : i+slices_per_vol] = data_slice"
   ]
  },
  {
   "cell_type": "code",
   "execution_count": null,
   "metadata": {},
   "outputs": [],
   "source": [
    "# #try downsampling\n",
    "# data_cutout_binarized = np.copy(data_cutout_raw)\n",
    "# data_slice = data_cutout_binarized[:,:,i]\n",
    "\n",
    "# data_slice_shuffled = data_slice.flatten()\n",
    "# np.random.shuffle(data_slice_shuffled)\n",
    "\n",
    "# uniq = np.unique(data_slice_shuffled , return_counts=True)\n",
    "\n",
    "# x = np.arange(uniq[0][0],uniq[0][-1])\n",
    "# gauss_mixt = np.array([p * norm.pdf(x, mu, sd) for mu, sd, p in zip(gmm.means_.flatten(), np.sqrt(gmm.covariances_.flatten()), gmm.weights_)])\n",
    "\n",
    "# gmm = GaussianMixture(gmm_nc, covariance_type = 'diag').fit(data_slice_shuffled[0:100].reshape(-1,1))\n",
    "# for i in range(len(gauss_mixt)):\n",
    "#     plt.plot(x, gauss_mixt[i], label = 'Gaussian '+str(i), color = 'blue')"
   ]
  },
  {
   "cell_type": "markdown",
   "metadata": {},
   "source": [
    "Visualize:"
   ]
  },
  {
   "cell_type": "code",
   "execution_count": 43,
   "metadata": {
    "scrolled": true
   },
   "outputs": [
    {
     "data": {
      "text/plain": [
       "<matplotlib.image.AxesImage at 0x7f93c06ef150>"
      ]
     },
     "execution_count": 43,
     "metadata": {},
     "output_type": "execute_result"
    },
    {
     "data": {
      "image/png": "[encoded data removed]",
      "text/plain": [
       "<matplotlib.figure.Figure at 0x7f93c047bd10>"
      ]
     },
     "metadata": {},
     "output_type": "display_data"
    }
   ],
   "source": [
    "plt.imshow(data_cutout_binarized[:,:,50])"
   ]
  },
  {
   "cell_type": "code",
   "execution_count": null,
   "metadata": {},
   "outputs": [],
   "source": [
    "data_cutout_binarized.dtype"
   ]
  },
  {
   "cell_type": "markdown",
   "metadata": {},
   "source": [
    "## Binary opening (erosion followed by dilation)\n",
    "To further denoise the volume"
   ]
  },
  {
   "cell_type": "code",
   "execution_count": 83,
   "metadata": {},
   "outputs": [],
   "source": [
    "data_cutout_binarized = binary_opening(data_cutout_binarized, np.ones((3,3,3), dtype='uint16'))"
   ]
  },
  {
   "cell_type": "markdown",
   "metadata": {},
   "source": [
    "## Assign voxel weights\n",
    "Extracted weights are an average of normalized intensity, normalized distance from boundary, and normalized laplacian"
   ]
  },
  {
   "cell_type": "code",
   "execution_count": 84,
   "metadata": {},
   "outputs": [],
   "source": [
    "ttt = vertices(data_cutout_binarized , data_cutout_raw)\n",
    "vw = ttt.compute_vertex_wight()"
   ]
  },
  {
   "cell_type": "code",
   "execution_count": 46,
   "metadata": {},
   "outputs": [
    {
     "data": {
      "text/plain": [
       "<matplotlib.image.AxesImage at 0x7f93c069d150>"
      ]
     },
     "execution_count": 46,
     "metadata": {},
     "output_type": "execute_result"
    },
    {
     "data": {
      "image/png": "[encoded data removed]",
      "text/plain": [
       "<matplotlib.figure.Figure at 0x7f93873d6ad0>"
      ]
     },
     "metadata": {},
     "output_type": "display_data"
    }
   ],
   "source": [
    "plt.imshow(vw[:,:,50])"
   ]
  },
  {
   "cell_type": "markdown",
   "metadata": {},
   "source": [
    "## Visualize (animated)\n",
    "Visualize as an animation iterating through z slices"
   ]
  },
  {
   "cell_type": "code",
   "execution_count": null,
   "metadata": {},
   "outputs": [],
   "source": [
    "# Visualize the output (animation)\n",
    "\n",
    "from matplotlib import animation\n",
    "from IPython.display import HTML\n",
    "\n",
    "z_rng = [0 , data_cutout_raw.shape[2]]\n",
    "# z_rng = [70,80]\n",
    "fig, (im1, im2) = plt.subplots(1, 2)\n",
    "\n",
    "# fig.set_facecolor('black')\n",
    "ax1 = im1.imshow(data_cutout_raw[:,:,0], animated=True)\n",
    "ax2 = im2.imshow(vw[:,:,0], animated=True)\n",
    "\n",
    "im1.get_xaxis().set_visible(False)\n",
    "im2.get_xaxis().set_visible(False)\n",
    "\n",
    "im1.get_yaxis().set_visible(False)\n",
    "im2.get_yaxis().set_visible(False)\n",
    "\n",
    "im1.set_title('Raw data')\n",
    "im2.set_title('Weights')\n",
    "\n",
    "def animate(i):\n",
    "    ax1.set_data(data_cutout_raw[:,:,i])\n",
    "    im1.set_title('Raw data; Z= ' + str(i))\n",
    "#     ax1.set_cmap('gray')\n",
    "    ax1.autoscale()\n",
    "    \n",
    "    ax2.set_data(vw[:,:,i])\n",
    "    im2.set_title('Weights; Z=' + str(i))\n",
    "#     ax2.set_cmap('gray')\n",
    "    ax2.autoscale()\n",
    "    return ax1\n",
    "\n",
    "anim = animation.FuncAnimation(fig, animate, frames = np.arange(z_rng[0],z_rng[1]), interval = 50)\n",
    "HTML(anim.to_jshtml())\n"
   ]
  },
  {
   "cell_type": "markdown",
   "metadata": {},
   "source": [
    "## Skeletonize and extract connected components\n",
    "Each connencted component is labeled with a unique colormap.\n",
    "Outout - concomp_col: Color labeled volume (4d matrix, 4th dimesion is voxels' RGB color code)"
   ]
  },
  {
   "cell_type": "code",
   "execution_count": 85,
   "metadata": {},
   "outputs": [],
   "source": [
    "skeleton = skeletonize_3d(data_cutout_binarized)\n",
    "\n",
    "concomp = label(np.copy(skeleton) , connectivity=3)\n",
    "# skeleton = binary_closing(skeleton, np.ones((5,5,5), dtype='uint8'))\n",
    "# skeleton = binary_opening(skeleton, np.ones((3,3,3), dtype='uint8'))\n",
    "cmap = plt.cm.get_cmap('nipy_spectral' , np.unique(concomp).size)\n",
    "\n",
    "concomp_col = np.empty(concomp.shape + (3,), dtype = 'uint8')\n",
    "for col in np.arange(np.unique(concomp).size):\n",
    "    tmp = cmap(col)[0:-1]\n",
    "    tmp = tuple(i*255 for i in tmp)\n",
    "    concomp_col[concomp == col] = tmp"
   ]
  },
  {
   "cell_type": "code",
   "execution_count": 71,
   "metadata": {
    "scrolled": false
   },
   "outputs": [
    {
     "data": {
      "text/plain": [
       "<matplotlib.image.AxesImage at 0x7f93c080eb10>"
      ]
     },
     "execution_count": 71,
     "metadata": {},
     "output_type": "execute_result"
    },
    {
     "data": {
      "image/png": "[encoded data removed]",
      "text/plain": [
       "<matplotlib.figure.Figure at 0x7f93c09ce310>"
      ]
     },
     "metadata": {},
     "output_type": "display_data"
    }
   ],
   "source": [
    "plt.imshow(skeleton[:,:,50])"
   ]
  },
  {
   "cell_type": "code",
   "execution_count": null,
   "metadata": {},
   "outputs": [],
   "source": [
    "skeleton.shape"
   ]
  },
  {
   "cell_type": "markdown",
   "metadata": {},
   "source": [
    "## Ingest to Boss\n",
    "Upload the results back to Boss"
   ]
  },
  {
   "cell_type": "code",
   "execution_count": null,
   "metadata": {},
   "outputs": [],
   "source": [
    "# Helper functions for ingestation (C: vikram)\n",
    "def get_channel_resource(rmt, chan_name, coll_name, exp_name, type='image', base_resolution=0, sources=[], datatype='uint16', new_channel=True):\n",
    "    channel_resource = ChannelResource(chan_name, coll_name, exp_name, type=type, \n",
    "                                    base_resolution=base_resolution, sources=sources, datatype=datatype)\n",
    "    if new_channel: \n",
    "\n",
    "        new_rsc = rmt.create_project(channel_resource)\n",
    "        return new_rsc\n",
    "\n",
    "    return channel_resource\n",
    "\n",
    "\n",
    "\n",
    "def upload_to_boss(rmt, data, channel_resource, resolution=0):\n",
    "    Z_LOC = 0\n",
    "    size = data.shape\n",
    "    for i in range(0, data.shape[Z_LOC], 16):\n",
    "        last_z = i+16\n",
    "        if last_z > data.shape[Z_LOC]:\n",
    "            last_z = data.shape[Z_LOC]\n",
    "        print(resolution, [0, size[2]], [0, size[1]], [i, last_z])\n",
    "        rmt.create_cutout(channel_resource, resolution, [0, size[2]], [0, size[1]], [i, last_z], np.asarray(data[i:last_z,:,:], order='C'))\n",
    "        \n",
    "        \n",
    "# Ingest the results back to Boss\n",
    "rmt = BossRemote()\n",
    "new_coll_name = 'tractography'\n",
    "new_exp_name = 'mvpsprint3'\n",
    "new_chan_name = 'annot_4'\n",
    "create_new_channel = False\n",
    "\n",
    "if create_new_channel:\n",
    "    # new channel\n",
    "    new_chan_resource = get_channel_resource(rmt, new_chan_name, new_coll_name, new_exp_name , new_channel=True)\n",
    "    upload_to_boss(rmt, concomp, new_chan_resource)\n",
    "    \n",
    "else:\n",
    "    # get existing channel\n",
    "    chan_resource = rmt.get_channel(chan_name= new_chan_name, coll_name=new_coll_name, exp_name=new_exp_name)\n",
    "    upload_to_boss(rmt, concomp, chan_resource)\n"
   ]
  },
  {
   "cell_type": "markdown",
   "metadata": {},
   "source": [
    "## Or, save to disk as tiff files"
   ]
  },
  {
   "cell_type": "code",
   "execution_count": null,
   "metadata": {},
   "outputs": [],
   "source": [
    "imsave('./test.tiff' , img_as_ubyte(skeleton))\n"
   ]
  },
  {
   "cell_type": "code",
   "execution_count": null,
   "metadata": {},
   "outputs": [],
   "source": [
    "# imsave('./output_data/test_tractography/test_'+test_lbl+'_binarized.tiff' , img_as_ubyte(data_cutout_binarized)*255)\n",
    "imsave('/output_data/test_tractography/test_'+test_lbl+'_skeleton.tiff' , skeleton)\n",
    "# imsave('./output_data/test_tractography/test_'+test_lbl+'_con_comp.tiff' , concomp_col)\n",
    "# imsave('./output_data/test_tractography/test_'+test_lbl+'_raw_2.tiff' , img_as_ubyte(data_cutout_raw))"
   ]
  },
  {
   "cell_type": "markdown",
   "metadata": {},
   "source": [
    "## Quantification\n",
    "For each machine labeled voxel find the closest manually labeled voxel (in physical units)"
   ]
  },
  {
   "cell_type": "code",
   "execution_count": 86,
   "metadata": {
    "scrolled": true
   },
   "outputs": [],
   "source": [
    "labeled_0_nz_voxel_ids = np.genfromtxt('../../annotation_csv/tractography/tractography_'+test_lbl+'.swc' , delimiter=' ')\n",
    "labeled_0_nz_voxel_ids = np.around(np.uint16(labeled_0_nz_voxel_ids[:,2:5]))\n",
    "labeled_0_nz_voxel_ids = labeled_0_nz_voxel_ids[:, [1,0,2]]\n",
    "nz_skeleton = np.asarray(np.nonzero(skeleton)).T"
   ]
  },
  {
   "cell_type": "code",
   "execution_count": 87,
   "metadata": {},
   "outputs": [],
   "source": [
    "labeled_tiff = np.zeros(skeleton.shape , dtype='uint8')\n"
   ]
  },
  {
   "cell_type": "code",
   "execution_count": 88,
   "metadata": {},
   "outputs": [],
   "source": [
    "labeled_tiff = np.zeros(skeleton.shape , dtype='uint8')\n",
    "for row in labeled_0_nz_voxel_ids:\n",
    "    labeled_tiff[row[0] , row[1] , row[2]] = 255"
   ]
  },
  {
   "cell_type": "code",
   "execution_count": 89,
   "metadata": {},
   "outputs": [],
   "source": [
    "# imsave('./output_data/test_tractography/test_'+test_lbl+'_labeled.tiff' , img_as_ubyte(labeled_tiff))"
   ]
  },
  {
   "cell_type": "code",
   "execution_count": 90,
   "metadata": {},
   "outputs": [],
   "source": [
    "def find_closest_voxel(voxel, vol_idx):\n",
    "    '''\n",
    "    vol_idx: indices of nonzero elements; shape: (nx3)\n",
    "    Finds the closest non-zero voxel in vol_idx to point x,y,z\n",
    "    '''\n",
    "    subtrc = vol_idx - [voxel[0], voxel[1], voxel[2]]\n",
    "    minIdx = np.argmin(np.linalg.norm(subtrc, axis = 1))\n",
    "       \n",
    "    return vol_idx[minIdx,:]\n",
    "\n",
    "def quantify1(nz_data_1, nz_data_2):\n",
    "    '''\n",
    "    Method 1 of quantification: for each voxel in nz_data_1, find the closest voxel in the nz_data_2\n",
    "    '''\n",
    "    # find indices of non-zero elements in test data:\n",
    "    closest_voxels = np.empty(nz_data_1.shape)\n",
    "    for idx, voxel in enumerate(nz_data_1):\n",
    "        closest_voxel = find_closest_voxel(voxel , nz_data_2)\n",
    "        closest_voxels[idx,:] = closest_voxel\n",
    "        \n",
    "    return closest_voxels\n",
    "        \n",
    "        "
   ]
  },
  {
   "cell_type": "markdown",
   "metadata": {},
   "source": [
    "Convert to physical units:"
   ]
  },
  {
   "cell_type": "code",
   "execution_count": 91,
   "metadata": {},
   "outputs": [
    {
     "name": "stdout",
     "output_type": "stream",
     "text": [
      "(2580, 3)\n"
     ]
    },
    {
     "data": {
      "image/png": "[encoded data removed]",
      "text/plain": [
       "<matplotlib.figure.Figure at 0x7f93c0a06710>"
      ]
     },
     "metadata": {},
     "output_type": "display_data"
    }
   ],
   "source": [
    "# physical sizes:\n",
    "x_size = 0.585 #um\n",
    "y_size = 0.585 #um\n",
    "z_size = 5.0 #um\n",
    "method = 'm2l' #m2l (for each machine labled find the closest manual labels) or \n",
    "               #l2m (for each manual labeled find the closest machine labeled)\n",
    "\n",
    "nz_test_data = np.asarray(np.nonzero(skeleton)).T\n",
    "if method == 'm2l':\n",
    "    closest_voxels = quantify1(nz_skeleton, labeled_0_nz_voxel_ids)\n",
    "    subtrct = closest_voxels - nz_skeleton\n",
    "elif method == 'l2m':\n",
    "    closest_voxels = quantify1(labeled_0_nz_voxel_ids, nz_skeleton)\n",
    "    subtrct = closest_voxels - labeled_0_nz_voxel_ids\n",
    "    \n",
    "distances = np.linalg.norm(subtrct.dot(np.diag([x_size, y_size, z_size])), axis = 1)\n",
    "binSize = 12.5 #um\n",
    "nbins = np.uint32(np.around((np.max(distances) - np.min(distances))/12.5))\n",
    "\n",
    "histret=plt.hist(distances, bins=nbins, weights=np.zeros_like(distances) + 1. / distances.size )\n",
    "plt.xlabel((\n",
    "    'Machine labeled' if method == 'm2l' else 'Manual labled' ) + ' voxels\\' distance from closest point in ' + (\n",
    "    'manual labeled data (um)' if method == 'm2l' else 'machine labeled data (um)'))\n",
    "plt.ylabel('Relative count')\n",
    "plt.title('Histogram of physical distances; Bin size = ' + str(binSize) + ' um')\n",
    "print(closest_voxels.shape)\n"
   ]
  },
  {
   "cell_type": "markdown",
   "metadata": {},
   "source": [
    "## Overlay volumes for visualization"
   ]
  },
  {
   "cell_type": "code",
   "execution_count": 79,
   "metadata": {},
   "outputs": [
    {
     "name": "stderr",
     "output_type": "stream",
     "text": [
      "/usr/local/lib/python2.7/dist-packages/skimage/util/dtype.py:122: UserWarning: Possible precision loss when converting from uint16 to uint8\n",
      "  .format(dtypeobj_in, dtypeobj_out))\n"
     ]
    }
   ],
   "source": [
    "\n",
    "cmap = plt.cm.get_cmap('nipy_spectral' , np.unique(concomp).size)\n",
    "overlaid = color.gray2rgb(img_as_ubyte(data_cutout_raw))\n",
    "overlaid[skeleton != 0] = np.asarray([255,0,0], dtype='uint8')"
   ]
  },
  {
   "cell_type": "code",
   "execution_count": 80,
   "metadata": {},
   "outputs": [],
   "source": [
    "for row in labeled_0_nz_voxel_ids:\n",
    "    if np.array_equal(overlaid[row[0] , row[1] , row[2],:] , np.asarray([255,0,0], dtype='uint8')):\n",
    "        overlaid[row[0] , row[1] , row[2],:] = np.asarray([255,255,0], dtype='uint8')\n",
    "    else:\n",
    "        overlaid[row[0] , row[1] , row[2],:] = np.asarray([0,255,0], dtype='uint8')\n",
    "                                                          "
   ]
  },
  {
   "cell_type": "markdown",
   "metadata": {},
   "source": [
    "Save the overlaind volume as tiff:"
   ]
  },
  {
   "cell_type": "code",
   "execution_count": 81,
   "metadata": {},
   "outputs": [],
   "source": [
    "imsave('./output_data/test_tractography/test_'+test_lbl+'_overlaid_80th_sub-to-10k.tiff' , overlaid)"
   ]
  },
  {
   "cell_type": "code",
   "execution_count": null,
   "metadata": {},
   "outputs": [],
   "source": [
    "# from scipy.spatial import Delaunay\n",
    "# T0 = Delaunay()"
   ]
  },
  {
   "cell_type": "code",
   "execution_count": 92,
   "metadata": {},
   "outputs": [],
   "source": [
    "# for saving in swc format:\n",
    "\n",
    "unique_vals = np.unique(concomp)\n",
    "\n",
    "clust_ids = np.empty((unique_vals.shape[0]-1))\n",
    "outputmat = np.empty(((0,3)))\n",
    "for i,cluster in enumerate(unique_vals[1:]):\n",
    "        curr_clust = np.asarray(np.where( concomp == cluster )).T\n",
    "        clust_ids[i] = curr_clust.shape[0]\n",
    "        outputmat = np.append(outputmat , curr_clust, axis=0)\n",
    "\n",
    "\n",
    "clust_ids = np.append([0] , np.cumsum(clust_ids)[:-1])\n",
    "\n",
    "first_col = np.arange(1, outputmat.shape[0]+1).reshape(outputmat.shape[0],1)\n",
    "second_col = 3*np.ones((outputmat.shape[0],1))\n",
    "outputmat = np.append(second_col,outputmat, axis=1)\n",
    "outputmat = np.append(first_col,outputmat, axis=1)\n",
    "\n",
    "second_to_last_col = np.ones((outputmat.shape[0],1))\n",
    "outputmat = np.append(outputmat, second_to_last_col, axis=1)\n",
    "last_col = np.arange(outputmat.shape[0]).reshape(outputmat.shape[0],1)\n",
    "last_col[np.uint16(clust_ids)] = -1\n",
    "outputmat = np.append(outputmat, last_col ,axis=1)\n",
    "\n",
    "np.savetxt('./output_data/test_tractography/CSV_outputs/test_4_output_nosubs.swc' , outputmat, fmt='%i')"
   ]
  },
  {
   "cell_type": "code",
   "execution_count": 94,
   "metadata": {},
   "outputs": [
    {
     "data": {
      "text/plain": [
       "(500, 500, 100)"
      ]
     },
     "execution_count": 94,
     "metadata": {},
     "output_type": "execute_result"
    }
   ],
   "source": [
    "skeleton.shape"
   ]
  }
 ],
 "metadata": {
  "kernelspec": {
   "display_name": "Python 2",
   "language": "python",
   "name": "python2"
  },
  "language_info": {
   "codemirror_mode": {
    "name": "ipython",
    "version": 2
   },
   "file_extension": ".py",
   "mimetype": "text/x-python",
   "name": "python",
   "nbconvert_exporter": "python",
   "pygments_lexer": "ipython2",
   "version": "2.7.12"
  }
 },
 "nbformat": 4,
 "nbformat_minor": 2
}
