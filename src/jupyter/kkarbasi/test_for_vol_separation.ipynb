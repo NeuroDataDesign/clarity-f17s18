{
 "cells": [
  {
   "cell_type": "code",
   "execution_count": null,
   "metadata": {},
   "outputs": [],
   "source": [
    "from tractools import run_tractography\n",
    "from bossHandler import bossHandler\n",
    "from tractography import vertices\n",
    "from intern.resource.boss.resource import *\n",
    "from intern.remote.boss import BossRemote\n",
    "from skimage import filters\n",
    "import numpy as np\n",
    "from sklearn.mixture import GaussianMixture\n",
    "from scipy.stats import norm\n",
    "import matplotlib.pyplot as plt\n",
    "from matplotlib import animation\n",
    "import matplotlib.mlab as mlab\n",
    "import glob\n",
    "import skfmm\n",
    "from scipy.ndimage.filters import laplace\n",
    "from skimage.morphology import binary_opening, binary_closing, binary_dilation\n",
    "from skimage.morphology import skeletonize_3d,label\n",
    "from scipy.ndimage.morphology import *\n",
    "from tifffile import imsave\n",
    "from skimage import img_as_ubyte, img_as_uint, color\n",
    "\n",
    "# Parameters:\n",
    "coll_name = 'ailey-dev'\n",
    "exp_name = 'DRN-BLA_2378'\n",
    "chan_name = 'Ch0'"
   ]
  },
  {
   "cell_type": "code",
   "execution_count": 5,
   "metadata": {},
   "outputs": [],
   "source": [
    "bHandler = bossHandler(coll_name)\n",
    "bHandler.select_experiment(exp_name)\n",
    "coor = bHandler.get_coordinate_frame()\n",
    "\n",
    "coor.x_stop"
   ]
  },
  {
   "cell_type": "code",
   "execution_count": 2,
   "metadata": {},
   "outputs": [],
   "source": [
    "x_rng = [9250, 9750]\n",
    "y_rng = [18000, 18500]\n",
    "z_rng = [500, 600]\n",
    "test_lbl = '4'\n",
    "\n",
    "# Using bossHandler class to download from Boss:\n",
    "bHandler = bossHandler(coll_name)\n",
    "bHandler.select_experiment(exp_name)\n",
    "exp = bHandler.get_experiment()\n",
    "bHandler.list_channels()\n",
    "bHandler.select_channel(chan_name)\n",
    "coor = bHandler.get_coordinate_frame()\n",
    "data_cutout_raw = bHandler.get_cutout(x_rng, y_rng, z_rng)\n",
    "data_cutout_raw = np.transpose(img_as_uint(data_cutout_raw),(1,2,0))"
   ]
  },
  {
   "cell_type": "code",
   "execution_count": 3,
   "metadata": {
    "scrolled": false
   },
   "outputs": [
    {
     "name": "stderr",
     "output_type": "stream",
     "text": [
      "/usr/local/lib/python2.7/dist-packages/skimage/util/dtype.py:122: UserWarning: Possible precision loss when converting from float64 to uint8\n",
      "  .format(dtypeobj_in, dtypeobj_out))\n"
     ]
    }
   ],
   "source": [
    "skeleton = run_tractography(data_cutout_raw)"
   ]
  }
 ],
 "metadata": {
  "kernelspec": {
   "display_name": "Python 2",
   "language": "python",
   "name": "python2"
  },
  "language_info": {
   "codemirror_mode": {
    "name": "ipython",
    "version": 2
   },
   "file_extension": ".py",
   "mimetype": "text/x-python",
   "name": "python",
   "nbconvert_exporter": "python",
   "pygments_lexer": "ipython2",
   "version": "2.7.12"
  }
 },
 "nbformat": 4,
 "nbformat_minor": 2
}
