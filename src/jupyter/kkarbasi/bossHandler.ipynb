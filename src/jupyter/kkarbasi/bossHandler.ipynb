{
 "cells": [
  {
   "cell_type": "code",
   "execution_count": 77,
   "metadata": {},
   "outputs": [],
   "source": [
    "from intern.remote.boss import BossRemote\n",
    "from intern.resource.boss.resource import *\n",
    "import numpy as np\n",
    "\n",
    "class bossHandler:\n",
    "    def __init__(self, collection_name):\n",
    "        \"\"\"\n",
    "        Constructor\n",
    "        \"\"\"\n",
    "        self.collection_name = collection_name\n",
    "        try:\n",
    "            self.rmt = BossRemote()\n",
    "        except:\n",
    "            print('Unexpected Error:', sys.exc_info()[0])\n",
    "    \n",
    "#     def get_collection_list(self):\n",
    "#         return self.rmt.list_collections()\n",
    "\n",
    "    def list_experiments(self):\n",
    "        \"\"\"\n",
    "        List all the experiments available in current collection\n",
    "        \"\"\"\n",
    "        exp_list = self.rmt.list_experiments(self.collection_name)\n",
    "        return exp_list\n",
    "    \n",
    "    def select_experiment(self, experiment_name):\n",
    "        \"\"\"\n",
    "        Select an experiment to be added to this handler\n",
    "        \"\"\"\n",
    "        tmp = ExperimentResource(collection_name = self.collection_name, name = experiment_name)\n",
    "        exp = self.rmt.get_project(tmp)\n",
    "        self.experiment = exp\n",
    "#         return exp\n",
    "    \n",
    "    def get_experiment(self):\n",
    "        \"\"\"\n",
    "        Return the currently selected experiment for this handler\n",
    "        \"\"\"\n",
    "        if hasattr(self,'experiment'):\n",
    "            \n",
    "            return self.experiment\n",
    "        else:\n",
    "            raise AttributeError('No experiment exists. First, select an experiment using select_experiment')\n",
    "            \n",
    "            \n",
    "    def list_channels(self):\n",
    "        \"\"\"\n",
    "        List all channel in currently selected experiment\n",
    "        \"\"\"\n",
    "        return self.rmt.list_channels(self.collection_name, self.experiment.name)\n",
    "        \n",
    "    def select_channel(self, channel_name):\n",
    "        \n",
    "        \"\"\"\n",
    "        Select a channel to be added to this handler\n",
    "        \"\"\"\n",
    "        self.channel = self.rmt.get_channel(chan_name= channel_name, coll_name=self.collection_name, exp_name=self.experiment.name)\n",
    "    \n",
    "    def get_coordinate_frame(self):\n",
    "        \"\"\"\n",
    "        Get current experiment's coordinate frame\n",
    "        \"\"\"\n",
    "        tmp = CoordinateFrameResource(name=self.experiment.coord_frame)\n",
    "        coor = self.rmt.get_project(tmp)\n",
    "        self.coordinate_frame = coor\n",
    "        return coor\n",
    "    \n",
    "    def get_all(self):\n",
    "        \"\"\"\n",
    "        Get a the entire channel image data at its native resolution\n",
    "        \"\"\"\n",
    "        x_rng = [self.coordinate_frame.x_start , self.coordinate_frame.x_stop]\n",
    "        y_rng = [self.coordinate_frame.y_start , self.coordinate_frame.y_stop]\n",
    "        z_rng = [self.coordinate_frame.z_start , self.coordinate_frame.z_stop]\n",
    "        \n",
    "        return rmt.get_cutout(self.channel , 0 , x_rng , y_rng , z_rng)\n",
    "        \n",
    "    def get_cutout(self, x_range, y_range, z_range, resolution=0):\n",
    "        \"\"\"\n",
    "        Return a cutout of the image data\n",
    "        \"\"\"\n",
    "        return self.rmt.get_cutout(self.channel , resolution , x_range , y_range , z_range)\n",
    "        \n",
    "        \n",
    "        \n",
    "        \n",
    "    "
   ]
  },
  {
   "cell_type": "code",
   "execution_count": 48,
   "metadata": {},
   "outputs": [],
   "source": [
    "bHandler = bossHandler('ailey-dev')\n",
    "# bHandler.list_experiments()\n",
    "bHandler.select_experiment('Insula_Atenolol-1_171204_new')\n",
    "exp = bHandler.get_experiment()\n",
    "bHandler.list_channels()\n",
    "bHandler.select_channel('Ch0')\n",
    "coor = bHandler.get_coordinate_frame()"
   ]
  },
  {
   "cell_type": "code",
   "execution_count": null,
   "metadata": {},
   "outputs": [],
   "source": [
    "from skimage import filters\n",
    "\n",
    "\n",
    "\n",
    "x_rng = [300 , 500]\n",
    "y_rng = [700 , 900]\n",
    "z_rng = [450 , 600]\n",
    "\n",
    "data_cutout = bHandler.get_cutout(x_rng , y_rng , z_rng)"
   ]
  },
  {
   "cell_type": "code",
   "execution_count": 73,
   "metadata": {},
   "outputs": [
    {
     "name": "stdout",
     "output_type": "stream",
     "text": [
      "6345\n"
     ]
    }
   ],
   "source": [
    "val = filters.threshold_otsu(data_cutout)\n",
    "print(val)"
   ]
  },
  {
   "cell_type": "code",
   "execution_count": null,
   "metadata": {},
   "outputs": [],
   "source": [
    "import matplotlib.pyplot as plt\n",
    "from matplotlib import animation\n",
    "from IPython.display import HTML\n",
    "\n",
    "x_rng = [300 , 500]\n",
    "y_rng = [700 , 900]\n",
    "z_rng = [450 , 600]\n",
    "\n",
    "data_cutout = bHandler.get_cutout(x_rng , y_rng , z_rng)\n",
    "\n",
    "fig = plt.figure()\n",
    "im = plt.imshow(data_cutout[0,:,:],animated=True)\n",
    "\n",
    "def animate(i):\n",
    "    im.set_data(data_cutout[i,:,:])\n",
    "    return im\n",
    "\n",
    "anim = animation.FuncAnimation(fig, animate, frames = np.arange(0,data_cutout.shape[0]), interval = 100)\n",
    "HTML(anim.to_jshtml())\n"
   ]
  },
  {
   "cell_type": "code",
   "execution_count": null,
   "metadata": {},
   "outputs": [],
   "source": [
    "# print(np.min(data_cutout))\n",
    "threshold = (np.max(data_cutout) - np.min(data_cutout))/3\n",
    "\n",
    "data_cutout[data_cutout < threshold] = 0\n",
    "data_cutout[data_cutout >= threshold] = 1"
   ]
  },
  {
   "cell_type": "code",
   "execution_count": null,
   "metadata": {},
   "outputs": [],
   "source": [
    "print(threshold)"
   ]
  },
  {
   "cell_type": "code",
   "execution_count": null,
   "metadata": {},
   "outputs": [],
   "source": [
    "fig = plt.figure()\n",
    "im = plt.imshow(data_cutout[0,:,:],animated=True)\n",
    "\n",
    "def animate(i):\n",
    "    im.set_data(data_cutout[i,:,:])\n",
    "    return im\n",
    "\n",
    "anim = animation.FuncAnimation(fig, animate, frames = np.arange(0,data_cutout.shape[0]), interval = 100)\n",
    "HTML(anim.to_jshtml())"
   ]
  },
  {
   "cell_type": "code",
   "execution_count": null,
   "metadata": {},
   "outputs": [],
   "source": [
    "print(np.max(data_cutout))"
   ]
  },
  {
   "cell_type": "code",
   "execution_count": null,
   "metadata": {},
   "outputs": [],
   "source": [
    "from skimage import exposure as imex\n",
    "data_cutout_normalized = np.zeros(data_cutout.shape)\n",
    "\n",
    "for idx in np.arange(0,data_cutout.shape[0]):\n",
    "    data_cutout_normalized[idx] = imex.equalize_hist(data_cutout[idx])\n"
   ]
  },
  {
   "cell_type": "code",
   "execution_count": null,
   "metadata": {},
   "outputs": [],
   "source": [
    "fig = plt.figure()\n",
    "im = plt.imshow(data_cutout_normalized[0,:,:],animated=True)\n",
    "\n",
    "def animate(i):\n",
    "    im.set_data(data_cutout_normalized[i,:,:])\n",
    "    return im\n",
    "\n",
    "anim = animation.FuncAnimation(fig, animate, frames = np.arange(0,data_cutout_normalized.shape[0]), interval = 100)\n",
    "HTML(anim.to_jshtml())\n",
    "\n"
   ]
  },
  {
   "cell_type": "code",
   "execution_count": null,
   "metadata": {},
   "outputs": [],
   "source": [
    "# Thresholding for binarization\n",
    "\n",
    "threshold = 0.85\n",
    "from skimage import exposure as imex\n",
    "data_cutout_normalized = np.zeros(data_cutout.shape)\n",
    "\n",
    "for idx in np.arange(0,data_cutout.shape[0]):\n",
    "    data_cutout_normalized[idx] = imex.equalize_hist(data_cutout[idx])\n",
    "\n",
    "\n",
    "data_cutout_normalized[data_cutout_normalized < threshold] = 0\n",
    "data_cutout_normalized[data_cutout_normalized >= threshold] = 1\n",
    "\n",
    "fig = plt.figure()\n",
    "im = plt.imshow(data_cutout_normalized[0,:,:],animated=True)\n",
    "\n",
    "def animate(i):\n",
    "    im.set_data(data_cutout_normalized[i,:,:])\n",
    "    return im\n",
    "\n",
    "anim = animation.FuncAnimation(fig, animate, frames = np.arange(0,data_cutout_normalized.shape[0]), interval = 100)\n",
    "HTML(anim.to_jshtml())"
   ]
  },
  {
   "cell_type": "code",
   "execution_count": null,
   "metadata": {},
   "outputs": [],
   "source": []
  }
 ],
 "metadata": {
  "kernelspec": {
   "display_name": "Python 2",
   "language": "python",
   "name": "python2"
  },
  "language_info": {
   "codemirror_mode": {
    "name": "ipython",
    "version": 2
   },
   "file_extension": ".py",
   "mimetype": "text/x-python",
   "name": "python",
   "nbconvert_exporter": "python",
   "pygments_lexer": "ipython2",
   "version": "2.7.12"
  }
 },
 "nbformat": 4,
 "nbformat_minor": 2
}
