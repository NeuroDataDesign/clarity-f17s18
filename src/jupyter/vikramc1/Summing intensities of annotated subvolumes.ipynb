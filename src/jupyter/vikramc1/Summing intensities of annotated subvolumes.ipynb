{
 "cells": [
  {
   "cell_type": "code",
   "execution_count": 17,
   "metadata": {},
   "outputs": [],
   "source": [
    "%matplotlib notebook\n",
    "import tifffile as tf\n",
    "import numpy as np"
   ]
  },
  {
   "cell_type": "code",
   "execution_count": 39,
   "metadata": {},
   "outputs": [],
   "source": [
    "def sum_intensity(path_to_file):\n",
    "    v0 = tf.imread(path_to_file)\n",
    "    v0_normalized = (v0 - v0.min())/(v0.max() - v0.min())\n",
    "    v0_total = np.sum(v0_normalized)\n",
    "    v0_total_normalized = v0_total / float(v0.size)\n",
    "    return v0_total_normalized\n",
    "    "
   ]
  },
  {
   "cell_type": "code",
   "execution_count": 40,
   "metadata": {},
   "outputs": [],
   "source": [
    "v0_total = sum_intensity('sample_data/cell_detection_0.tiff')\n",
    "v1_total = sum_intensity('sample_data/cell_detection_1.tiff')\n",
    "v2_total = sum_intensity('sample_data/cell_detection_2.tiff')\n",
    "v3_total = sum_intensity('sample_data/cell_detection_3.tiff')\n",
    "v4_total = sum_intensity('sample_data/cell_detection_4.tiff')\n",
    "v5_total = sum_intensity('sample_data/cell_detection_5.tiff')\n",
    "v6_total = sum_intensity('sample_data/cell_detection_6.tiff')"
   ]
  },
  {
   "cell_type": "code",
   "execution_count": 41,
   "metadata": {},
   "outputs": [
    {
     "name": "stdout",
     "output_type": "stream",
     "text": [
      "total intensity in sample_data/cell_detection_0.tiff: 0.0211110895197226\n",
      "total intensity in sample_data/cell_detection_1.tiff: 0.016645272208961646\n",
      "total intensity in sample_data/cell_detection_2.tiff: 0.0162195813911522\n",
      "total intensity in sample_data/cell_detection_3.tiff: 0.021501391704812023\n",
      "total intensity in sample_data/cell_detection_4.tiff: 0.026030725131714966\n",
      "total intensity in sample_data/cell_detection_5.tiff: 0.03670582011191696\n",
      "total intensity in sample_data/cell_detection_6.tiff: 0.03902403613450089\n"
     ]
    }
   ],
   "source": [
    "print(\"total intensity in {}: {}\".format('sample_data/cell_detection_0.tiff', v0_total))\n",
    "print(\"total intensity in {}: {}\".format('sample_data/cell_detection_1.tiff', v1_total))\n",
    "print(\"total intensity in {}: {}\".format('sample_data/cell_detection_2.tiff', v2_total))\n",
    "print(\"total intensity in {}: {}\".format('sample_data/cell_detection_3.tiff', v3_total))\n",
    "print(\"total intensity in {}: {}\".format('sample_data/cell_detection_4.tiff', v4_total))\n",
    "print(\"total intensity in {}: {}\".format('sample_data/cell_detection_5.tiff', v5_total))\n",
    "print(\"total intensity in {}: {}\".format('sample_data/cell_detection_6.tiff', v6_total))"
   ]
  }
 ],
 "metadata": {
  "kernelspec": {
   "display_name": "neurodata",
   "language": "python",
   "name": "neurodata"
  },
  "language_info": {
   "codemirror_mode": {
    "name": "ipython",
    "version": 3
   },
   "file_extension": ".py",
   "mimetype": "text/x-python",
   "name": "python",
   "nbconvert_exporter": "python",
   "pygments_lexer": "ipython3",
   "version": "3.6.3"
  }
 },
 "nbformat": 4,
 "nbformat_minor": 2
}
