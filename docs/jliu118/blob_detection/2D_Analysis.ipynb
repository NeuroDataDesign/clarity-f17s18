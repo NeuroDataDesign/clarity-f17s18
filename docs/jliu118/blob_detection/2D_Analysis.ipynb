{
 "cells": [
  {
   "cell_type": "markdown",
   "metadata": {},
   "source": [
    "# Algorithm\n",
    "\n",
    "---------\n",
    "\n",
    "## Pseudocode:"
   ]
  },
  {
   "cell_type": "markdown",
   "metadata": {
    "collapsed": true
   },
   "source": [
    "#### Inputs:\n",
    "* img_stack\n",
    "* z_dim, y_dim, x_dim\n",
    "\n",
    "#### Psuedocode:\n",
    "\n",
    "```\n",
    "for z_slice in img_stack:\n",
    "    thresh_value = threshold_otsu(z_slice) / 2\n",
    "    z_slice = z_slice > thresh_value\n",
    "    z_slice = adaptive_threshold(z_slice)\n",
    "    # using a disk shaped kernal of radius 2 pixels\n",
    "    z_slice = erosion(z_slice)  \n",
    "    z_slice = opening(z_slice)\n",
    "    \n",
    "    components = get_connected_components(z_slice)\n",
    "    centroids = get_component_centroids(z_slice)\n",
    "    \n",
    "    # get median of cc's with area above 100 pixels\n",
    "    median_area = find_component_median(components)\n",
    "    suspect_components = get_components_above_median_area(components)\n",
    "    for compenent in suspect_compenents:\n",
    "        n = round(component.area / median_area) # number of suspected components\n",
    "        k_possibilities = [1, n, n + 1, n-1]\n",
    "        potential_components = dictionary\n",
    "        for k in k_possibilities:\n",
    "            potential_components[k] = k_means(component, k)\n",
    "        best_segmentation_components\n",
    "        component = best_segmentation_components # updating the component list\n",
    "```\n",
    "    \n",
    "    "
   ]
  },
  {
   "cell_type": "markdown",
   "metadata": {},
   "source": [
    "### Relevant Links:\n",
    "\n",
    "[otsu](http://scikit-image.org/docs/dev/auto_examples/segmentation/plot_thresholding.html)\n",
    "\n",
    "[otsu explanation](https://en.wikipedia.org/wiki/Otsu's_method)\n",
    "\n",
    "---\n",
    "\n",
    "[adaptive_threshold](http://scikit-image.org/docs/0.12.x/auto_examples/segmentation/plot_threshold_adaptive.html)\n",
    "\n",
    "[local_threshold](https://github.com/scikit-image/scikit-image/blob/master/skimage/filters/thresholding.py)\n",
    "\n",
    "---\n",
    "\n",
    "[morphological transformations skimage](http://scikit-image.org/docs/dev/api/skimage.morphology.html)\n",
    "\n",
    "[morphological transformations explaination](http://opencv-python-tutroals.readthedocs.io/en/latest/py_tutorials/py_imgproc/py_morphological_ops/py_morphological_ops.html)\n",
    "\n",
    "---\n",
    "\n",
    "[labelling connected components](http://www.scipy-lectures.org/packages/scikit-image/auto_examples/plot_labels.html)\n",
    "\n",
    "[labeling](http://scikit-image.org/docs/dev/api/skimage.morphology.html#skimage.morphology.label)\n",
    "\n",
    "---"
   ]
  },
  {
   "cell_type": "code",
   "execution_count": 120,
   "metadata": {},
   "outputs": [],
   "source": [
    "%matplotlib inline\n",
    "\n",
    "import matplotlib.pyplot as plt\n",
    "from skimage import data\n",
    "from skimage.filters import threshold_otsu, threshold_local\n",
    "from skimage.morphology import disk, binary_erosion, binary_opening, label\n",
    "from skimage.measure import regionprops\n",
    "\n",
    "import SimpleITK as sitk\n",
    "import numpy as np\n",
    "\n",
    "from tifffile import imsave, imread\n",
    "\n",
    "import pickle"
   ]
  },
  {
   "cell_type": "markdown",
   "metadata": {},
   "source": [
    "# Preprocessing"
   ]
  },
  {
   "cell_type": "code",
   "execution_count": 9,
   "metadata": {
    "scrolled": true
   },
   "outputs": [
    {
     "name": "stdout",
     "output_type": "stream",
     "text": [
      "(z, y, x):\n",
      "(100, 1000, 1000)\n"
     ]
    }
   ],
   "source": [
    "img_stack = imread('s3617_tifffile.tif')\n",
    "print('(z, y, x):')\n",
    "print(image.shape)"
   ]
  },
  {
   "cell_type": "code",
   "execution_count": 53,
   "metadata": {},
   "outputs": [
    {
     "data": {
      "text/plain": [
       "<matplotlib.image.AxesImage at 0x7fb86d8f7610>"
      ]
     },
     "execution_count": 53,
     "metadata": {},
     "output_type": "execute_result"
    },
    {
     "data": {
      "image/png": "[encoded data removed]",
      "text/plain": [
       "<matplotlib.figure.Figure at 0x7fb86d970f90>"
      ]
     },
     "metadata": {},
     "output_type": "display_data"
    }
   ],
   "source": [
    "(z_dim, y_dim, x_dim) = img_stack.shape\n",
    "z_slice = img_stack[60,:,:]\n",
    "\n",
    "# plt.imshow(z_slice, cmap='gray')\n",
    "plt.imshow(z_slice, cmap=plt.cm.gray)"
   ]
  },
  {
   "cell_type": "code",
   "execution_count": 54,
   "metadata": {
    "collapsed": true
   },
   "outputs": [],
   "source": [
    "# Thresholding: making all voxels with intensity less than half of otsu's 0.\n",
    "thresh_value = threshold_otsu(z_slice) / 2\n",
    "# z_slice = z_slice > thresh_value\n",
    "\n",
    "initial_thresholding = np.zeros(z_slice.shape)\n",
    "\n",
    "for i in range(0, x_dim):\n",
    "    for j in range(0, y_dim):\n",
    "        initial_thresholding[j, i] = 0 if z_slice[j, i] < thresh_value else z_slice[j, i]"
   ]
  },
  {
   "cell_type": "code",
   "execution_count": 55,
   "metadata": {},
   "outputs": [
    {
     "data": {
      "text/plain": [
       "<matplotlib.image.AxesImage at 0x7fb86d821a10>"
      ]
     },
     "execution_count": 55,
     "metadata": {},
     "output_type": "execute_result"
    },
    {
     "data": {
      "image/png": "[encoded data removed]",
      "text/plain": [
       "<matplotlib.figure.Figure at 0x7fb86d8a84d0>"
      ]
     },
     "metadata": {},
     "output_type": "display_data"
    }
   ],
   "source": [
    "plt.imshow(initial_thresholding, cmap=plt.cm.gray)"
   ]
  },
  {
   "cell_type": "code",
   "execution_count": 56,
   "metadata": {},
   "outputs": [
    {
     "data": {
      "text/plain": [
       "<matplotlib.image.AxesImage at 0x7fb86d7d3410>"
      ]
     },
     "execution_count": 56,
     "metadata": {},
     "output_type": "execute_result"
    },
    {
     "data": {
      "image/png": "[encoded data removed]",
      "text/plain": [
       "<matplotlib.figure.Figure at 0x7fb86da45850>"
      ]
     },
     "metadata": {},
     "output_type": "display_data"
    }
   ],
   "source": [
    "# Adaptive thresholding. After this step, images should be binary.\n",
    "block_size = 35\n",
    "local_thresh = threshold_local(initial_thresholding, block_size)\n",
    "\n",
    "plt.imshow(local_thresh, cmap=plt.cm.gray)"
   ]
  },
  {
   "cell_type": "code",
   "execution_count": 57,
   "metadata": {},
   "outputs": [
    {
     "data": {
      "text/plain": [
       "<matplotlib.image.AxesImage at 0x7fb86d6fad10>"
      ]
     },
     "execution_count": 57,
     "metadata": {},
     "output_type": "execute_result"
    },
    {
     "data": {
      "image/png": "[encoded data removed]",
      "text/plain": [
       "<matplotlib.figure.Figure at 0x7fb86dbd7c10>"
      ]
     },
     "metadata": {},
     "output_type": "display_data"
    }
   ],
   "source": [
    "otsu_thresh_value = threshold_otsu(local_thresh)\n",
    "otsu_thresh = local_thresh > otsu_thresh_value\n",
    "\n",
    "plt.imshow(otsu_thresh, cmap=plt.cm.gray)"
   ]
  },
  {
   "cell_type": "code",
   "execution_count": 77,
   "metadata": {},
   "outputs": [
    {
     "data": {
      "text/plain": [
       "<matplotlib.image.AxesImage at 0x7fb86c98f450>"
      ]
     },
     "execution_count": 77,
     "metadata": {},
     "output_type": "execute_result"
    },
    {
     "data": {
      "image/png": "[encoded data removed]",
      "text/plain": [
       "<matplotlib.figure.Figure at 0x7fb86ca141d0>"
      ]
     },
     "metadata": {},
     "output_type": "display_data"
    }
   ],
   "source": [
    "# Morphological tranformations using a disk shaped kernal of radius 2 pixels\n",
    "erosion = binary_erosion(otsu_thresh, disk(5))\n",
    "plt.imshow(erosion, cmap=plt.cm.gray)"
   ]
  },
  {
   "cell_type": "code",
   "execution_count": 82,
   "metadata": {},
   "outputs": [
    {
     "data": {
      "text/plain": [
       "<matplotlib.image.AxesImage at 0x7fb86c792d90>"
      ]
     },
     "execution_count": 82,
     "metadata": {},
     "output_type": "execute_result"
    },
    {
     "data": {
      "image/png": "[encoded data removed]",
      "text/plain": [
       "<matplotlib.figure.Figure at 0x7fb86c86c990>"
      ]
     },
     "metadata": {},
     "output_type": "display_data"
    }
   ],
   "source": [
    "opening = binary_opening(erosion, disk(5))\n",
    "plt.imshow(opening, cmap=plt.cm.gray)"
   ]
  },
  {
   "cell_type": "markdown",
   "metadata": {},
   "source": [
    "# Getting Connected Components"
   ]
  },
  {
   "cell_type": "code",
   "execution_count": 106,
   "metadata": {},
   "outputs": [
    {
     "name": "stdout",
     "output_type": "stream",
     "text": [
      "[[0 0 0 ..., 0 0 0]\n",
      " [0 0 0 ..., 0 0 0]\n",
      " [0 0 0 ..., 0 0 0]\n",
      " ..., \n",
      " [0 0 0 ..., 0 0 0]\n",
      " [0 0 0 ..., 0 0 0]\n",
      " [0 0 0 ..., 0 0 0]]\n",
      "num_components: 10\n"
     ]
    }
   ],
   "source": [
    "components, num_components = label(opening, return_num=True, connectivity=2)\n",
    "print(components)\n",
    "print('num_components: ' + str(num_components))"
   ]
  },
  {
   "cell_type": "code",
   "execution_count": 159,
   "metadata": {},
   "outputs": [
    {
     "data": {
      "image/png": "[encoded data removed]",
      "text/plain": [
       "<matplotlib.figure.Figure at 0x7fb86bc46e50>"
      ]
     },
     "metadata": {},
     "output_type": "display_data"
    }
   ],
   "source": [
    "plt.figure(figsize=(10, 5))\n",
    "\n",
    "plt.subplot(121)\n",
    "plt.imshow(opening, cmap='gray')\n",
    "# plt.axis('off')\n",
    "plt.subplot(122)\n",
    "plt.imshow(components, cmap='spectral')\n",
    "# plt.axis('off')\n",
    "\n",
    "plt.tight_layout()\n",
    "plt.show()"
   ]
  },
  {
   "cell_type": "markdown",
   "metadata": {},
   "source": [
    "# Getting centroids of connected components"
   ]
  },
  {
   "cell_type": "code",
   "execution_count": 109,
   "metadata": {},
   "outputs": [
    {
     "name": "stdout",
     "output_type": "stream",
     "text": [
      "10\n"
     ]
    }
   ],
   "source": [
    "# Getting centroids of connected components\n",
    "props = regionprops(components)\n",
    "print(len(props))"
   ]
  },
  {
   "cell_type": "code",
   "execution_count": 143,
   "metadata": {},
   "outputs": [
    {
     "name": "stdout",
     "output_type": "stream",
     "text": [
      "(83.761194029850742, 781.5)\n",
      "(296.68823529411765, 416.02941176470586)\n",
      "(318.7454268292683, 369.3734756097561)\n",
      "(400.64160401002505, 602.69172932330832)\n",
      "(512.05405405405406, 692.85749385749386)\n",
      "(532.34349827387803, 182.84407364787111)\n",
      "(555.00535395597853, 330.1921475312314)\n",
      "(654.73400503778339, 168.40755667506298)\n",
      "(644.86956521739125, 649.8478260869565)\n",
      "(805.38051044083522, 659.18793503480276)\n"
     ]
    }
   ],
   "source": [
    "centroids = []\n",
    "for prop in props:\n",
    "    centroids.append(prop.centroid)\n",
    "    print(prop.centroid)\n",
    "    \n",
    "centroids = np.array(centroids)"
   ]
  },
  {
   "cell_type": "code",
   "execution_count": 147,
   "metadata": {},
   "outputs": [
    {
     "name": "stdout",
     "output_type": "stream",
     "text": [
      "[  83.76119403  296.68823529  318.74542683  400.64160401  512.05405405\n",
      "  532.34349827  555.00535396  654.73400504  644.86956522  805.38051044]\n"
     ]
    }
   ],
   "source": [
    "print(centroids[:,0])"
   ]
  },
  {
   "cell_type": "code",
   "execution_count": 157,
   "metadata": {},
   "outputs": [
    {
     "data": {
      "image/png": "[encoded data removed]",
      "text/plain": [
       "<matplotlib.figure.Figure at 0x7fb86bdfb790>"
      ]
     },
     "metadata": {},
     "output_type": "display_data"
    }
   ],
   "source": [
    "plt.figure(figsize=(12, 12))\n",
    "\n",
    "plt.imshow(opening, cmap='gray')\n",
    "plt.scatter(centroids[:,1], centroids[:,0], s=10)\n",
    "\n",
    "plt.show()"
   ]
  },
  {
   "cell_type": "code",
   "execution_count": 119,
   "metadata": {},
   "outputs": [
    {
     "data": {
      "text/plain": [
       "array([[ 78, 780],\n",
       "       [ 78, 781],\n",
       "       [ 78, 782],\n",
       "       [ 78, 783],\n",
       "       [ 79, 777],\n",
       "       [ 79, 778],\n",
       "       [ 79, 779],\n",
       "       [ 79, 780],\n",
       "       [ 79, 781],\n",
       "       [ 79, 782],\n",
       "       [ 79, 783],\n",
       "       [ 79, 784],\n",
       "       [ 79, 785],\n",
       "       [ 79, 786],\n",
       "       [ 80, 776],\n",
       "       [ 80, 777],\n",
       "       [ 80, 778],\n",
       "       [ 80, 779],\n",
       "       [ 80, 780],\n",
       "       [ 80, 781],\n",
       "       [ 80, 782],\n",
       "       [ 80, 783],\n",
       "       [ 80, 784],\n",
       "       [ 80, 785],\n",
       "       [ 80, 786],\n",
       "       [ 80, 787],\n",
       "       [ 81, 776],\n",
       "       [ 81, 777],\n",
       "       [ 81, 778],\n",
       "       [ 81, 779],\n",
       "       [ 81, 780],\n",
       "       [ 81, 781],\n",
       "       [ 81, 782],\n",
       "       [ 81, 783],\n",
       "       [ 81, 784],\n",
       "       [ 81, 785],\n",
       "       [ 81, 786],\n",
       "       [ 81, 787],\n",
       "       [ 82, 776],\n",
       "       [ 82, 777],\n",
       "       [ 82, 778],\n",
       "       [ 82, 779],\n",
       "       [ 82, 780],\n",
       "       [ 82, 781],\n",
       "       [ 82, 782],\n",
       "       [ 82, 783],\n",
       "       [ 82, 784],\n",
       "       [ 82, 785],\n",
       "       [ 82, 786],\n",
       "       [ 82, 787],\n",
       "       [ 83, 775],\n",
       "       [ 83, 776],\n",
       "       [ 83, 777],\n",
       "       [ 83, 778],\n",
       "       [ 83, 779],\n",
       "       [ 83, 780],\n",
       "       [ 83, 781],\n",
       "       [ 83, 782],\n",
       "       [ 83, 783],\n",
       "       [ 83, 784],\n",
       "       [ 83, 785],\n",
       "       [ 83, 786],\n",
       "       [ 83, 787],\n",
       "       [ 83, 788],\n",
       "       [ 84, 775],\n",
       "       [ 84, 776],\n",
       "       [ 84, 777],\n",
       "       [ 84, 778],\n",
       "       [ 84, 779],\n",
       "       [ 84, 780],\n",
       "       [ 84, 781],\n",
       "       [ 84, 782],\n",
       "       [ 84, 783],\n",
       "       [ 84, 784],\n",
       "       [ 84, 785],\n",
       "       [ 84, 786],\n",
       "       [ 84, 787],\n",
       "       [ 84, 788],\n",
       "       [ 85, 776],\n",
       "       [ 85, 777],\n",
       "       [ 85, 778],\n",
       "       [ 85, 779],\n",
       "       [ 85, 780],\n",
       "       [ 85, 781],\n",
       "       [ 85, 782],\n",
       "       [ 85, 783],\n",
       "       [ 85, 784],\n",
       "       [ 85, 785],\n",
       "       [ 85, 786],\n",
       "       [ 85, 787],\n",
       "       [ 86, 776],\n",
       "       [ 86, 777],\n",
       "       [ 86, 778],\n",
       "       [ 86, 779],\n",
       "       [ 86, 780],\n",
       "       [ 86, 781],\n",
       "       [ 86, 782],\n",
       "       [ 86, 783],\n",
       "       [ 86, 784],\n",
       "       [ 86, 785],\n",
       "       [ 86, 786],\n",
       "       [ 86, 787],\n",
       "       [ 87, 776],\n",
       "       [ 87, 777],\n",
       "       [ 87, 778],\n",
       "       [ 87, 779],\n",
       "       [ 87, 780],\n",
       "       [ 87, 781],\n",
       "       [ 87, 782],\n",
       "       [ 87, 783],\n",
       "       [ 87, 784],\n",
       "       [ 87, 785],\n",
       "       [ 87, 786],\n",
       "       [ 87, 787],\n",
       "       [ 88, 777],\n",
       "       [ 88, 778],\n",
       "       [ 88, 779],\n",
       "       [ 88, 780],\n",
       "       [ 88, 781],\n",
       "       [ 88, 782],\n",
       "       [ 88, 783],\n",
       "       [ 88, 784],\n",
       "       [ 88, 785],\n",
       "       [ 88, 786],\n",
       "       [ 89, 778],\n",
       "       [ 89, 779],\n",
       "       [ 89, 780],\n",
       "       [ 89, 781],\n",
       "       [ 89, 782],\n",
       "       [ 89, 783],\n",
       "       [ 89, 784],\n",
       "       [ 89, 785],\n",
       "       [ 90, 781],\n",
       "       [ 90, 782]])"
      ]
     },
     "execution_count": 119,
     "metadata": {},
     "output_type": "execute_result"
    }
   ],
   "source": [
    "props[0].coords"
   ]
  },
  {
   "cell_type": "markdown",
   "metadata": {},
   "source": [
    "# Pickling the region properties."
   ]
  },
  {
   "cell_type": "code",
   "execution_count": 128,
   "metadata": {
    "collapsed": true
   },
   "outputs": [],
   "source": [
    "with open('props_60.pkl', 'wb') as f:\n",
    "    pickle.dump(props, f)"
   ]
  },
  {
   "cell_type": "code",
   "execution_count": 129,
   "metadata": {
    "collapsed": true
   },
   "outputs": [],
   "source": [
    "ps = pickle.load(open(\"props_60.pkl\", \"rb\"))"
   ]
  },
  {
   "cell_type": "code",
   "execution_count": 130,
   "metadata": {},
   "outputs": [
    {
     "name": "stdout",
     "output_type": "stream",
     "text": [
      "[<skimage.measure._regionprops._RegionProperties object at 0x7fb86c1ae350>, <skimage.measure._regionprops._RegionProperties object at 0x7fb86c2cc690>, <skimage.measure._regionprops._RegionProperties object at 0x7fb86c2cc550>, <skimage.measure._regionprops._RegionProperties object at 0x7fb86c2cc810>, <skimage.measure._regionprops._RegionProperties object at 0x7fb86c2cc390>, <skimage.measure._regionprops._RegionProperties object at 0x7fb86c2cc4d0>, <skimage.measure._regionprops._RegionProperties object at 0x7fb86c2cc410>, <skimage.measure._regionprops._RegionProperties object at 0x7fb86c2cc650>, <skimage.measure._regionprops._RegionProperties object at 0x7fb86c2cc3d0>, <skimage.measure._regionprops._RegionProperties object at 0x7fb86c2cc5d0>]\n"
     ]
    }
   ],
   "source": [
    "print(ps)"
   ]
  },
  {
   "cell_type": "code",
   "execution_count": 131,
   "metadata": {},
   "outputs": [
    {
     "name": "stdout",
     "output_type": "stream",
     "text": [
      "(83.761194029850742, 781.5)\n",
      "(296.68823529411765, 416.02941176470586)\n",
      "(318.7454268292683, 369.3734756097561)\n",
      "(400.64160401002505, 602.69172932330832)\n",
      "(512.05405405405406, 692.85749385749386)\n",
      "(532.34349827387803, 182.84407364787111)\n",
      "(555.00535395597853, 330.1921475312314)\n",
      "(654.73400503778339, 168.40755667506298)\n",
      "(644.86956521739125, 649.8478260869565)\n",
      "(805.38051044083522, 659.18793503480276)\n"
     ]
    }
   ],
   "source": [
    "for p in ps:\n",
    "    print(p.centroid)"
   ]
  },
  {
   "cell_type": "markdown",
   "metadata": {},
   "source": [
    "# Testing out function"
   ]
  },
  {
   "cell_type": "code",
   "execution_count": 136,
   "metadata": {
    "collapsed": true
   },
   "outputs": [],
   "source": [
    "from detector import detect_blobs"
   ]
  },
  {
   "cell_type": "code",
   "execution_count": 133,
   "metadata": {
    "scrolled": true
   },
   "outputs": [
    {
     "name": "stdout",
     "output_type": "stream",
     "text": [
      "num_components: 11\n",
      "num_components: 20\n",
      "num_components: 28\n",
      "num_components: 24\n",
      "num_components: 22\n",
      "num_components: 26\n",
      "num_components: 27\n",
      "num_components: 28\n",
      "num_components: 16\n",
      "num_components: 4\n",
      "num_components: 8\n",
      "num_components: 7\n",
      "num_components: 5\n",
      "num_components: 11\n",
      "num_components: 12\n",
      "num_components: 10\n",
      "num_components: 10\n",
      "num_components: 11\n",
      "num_components: 9\n",
      "num_components: 2\n",
      "num_components: 12\n",
      "num_components: 7\n",
      "num_components: 7\n",
      "num_components: 23\n",
      "num_components: 15\n",
      "num_components: 8\n",
      "num_components: 6\n",
      "num_components: 5\n",
      "num_components: 11\n",
      "num_components: 16\n",
      "num_components: 16\n",
      "num_components: 12\n",
      "num_components: 15\n",
      "num_components: 13\n",
      "num_components: 14\n",
      "num_components: 13\n",
      "num_components: 5\n",
      "num_components: 2\n",
      "num_components: 3\n",
      "num_components: 16\n",
      "num_components: 6\n",
      "num_components: 8\n",
      "num_components: 7\n",
      "num_components: 4\n",
      "num_components: 10\n",
      "num_components: 18\n",
      "num_components: 10\n",
      "num_components: 7\n",
      "num_components: 7\n",
      "num_components: 7\n",
      "num_components: 2\n",
      "num_components: 3\n",
      "num_components: 4\n",
      "num_components: 5\n",
      "num_components: 3\n",
      "num_components: 15\n",
      "num_components: 7\n",
      "num_components: 14\n",
      "num_components: 7\n",
      "num_components: 7\n",
      "num_components: 10\n",
      "num_components: 5\n",
      "num_components: 7\n",
      "num_components: 14\n",
      "num_components: 27\n",
      "num_components: 7\n",
      "num_components: 1\n",
      "num_components: 1\n",
      "num_components: 1\n",
      "num_components: 4\n",
      "num_components: 5\n",
      "num_components: 1\n",
      "num_components: 1\n",
      "num_components: 1\n",
      "num_components: 18\n",
      "num_components: 14\n",
      "num_components: 8\n",
      "num_components: 8\n",
      "num_components: 23\n",
      "num_components: 1\n",
      "num_components: 1\n",
      "num_components: 3\n",
      "num_components: 4\n",
      "num_components: 3\n",
      "num_components: 11\n",
      "num_components: 25\n",
      "num_components: 19\n",
      "num_components: 1\n",
      "num_components: 2\n",
      "num_components: 2\n",
      "num_components: 2\n",
      "num_components: 8\n",
      "num_components: 14\n",
      "num_components: 9\n",
      "num_components: 10\n",
      "num_components: 8\n",
      "num_components: 13\n",
      "num_components: 16\n",
      "num_components: 17\n",
      "num_components: 16\n"
     ]
    }
   ],
   "source": [
    "# detect_blobs('s3617_tifffile.tif', 'z_comps', True)\n",
    "detect_blobs('s3617_tifffile.tif')"
   ]
  },
  {
   "cell_type": "code",
   "execution_count": 139,
   "metadata": {
    "collapsed": true
   },
   "outputs": [],
   "source": [
    "z_props = pickle.load(open(\"z_props.pkl\", \"rb\"))"
   ]
  },
  {
   "cell_type": "code",
   "execution_count": 140,
   "metadata": {
    "collapsed": true
   },
   "outputs": [],
   "source": [
    "p_60 = z_props[60]"
   ]
  },
  {
   "cell_type": "code",
   "execution_count": 141,
   "metadata": {},
   "outputs": [
    {
     "name": "stdout",
     "output_type": "stream",
     "text": [
      "(83.761194029850742, 781.5)\n",
      "(296.68823529411765, 416.02941176470586)\n",
      "(318.7454268292683, 369.3734756097561)\n",
      "(400.64160401002505, 602.69172932330832)\n",
      "(512.05405405405406, 692.85749385749386)\n",
      "(532.34349827387803, 182.84407364787111)\n",
      "(555.00535395597853, 330.1921475312314)\n",
      "(654.73400503778339, 168.40755667506298)\n",
      "(644.86956521739125, 649.8478260869565)\n",
      "(805.38051044083522, 659.18793503480276)\n"
     ]
    }
   ],
   "source": [
    "for p in p_60:\n",
    "    print(p.centroid)"
   ]
  },
  {
   "cell_type": "code",
   "execution_count": null,
   "metadata": {
    "collapsed": true
   },
   "outputs": [],
   "source": []
  }
 ],
 "metadata": {
  "kernelspec": {
   "display_name": "Python 2",
   "language": "python",
   "name": "python2"
  },
  "language_info": {
   "codemirror_mode": {
    "name": "ipython",
    "version": 2
   },
   "file_extension": ".py",
   "mimetype": "text/x-python",
   "name": "python",
   "nbconvert_exporter": "python",
   "pygments_lexer": "ipython2",
   "version": "2.7.12"
  }
 },
 "nbformat": 4,
 "nbformat_minor": 2
}
