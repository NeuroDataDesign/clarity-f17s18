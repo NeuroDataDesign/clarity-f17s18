{
 "cells": [
  {
   "cell_type": "markdown",
   "metadata": {},
   "source": [
    "## Overall Thoughts"
   ]
  },
  {
   "cell_type": "markdown",
   "metadata": {},
   "source": [
    "- The ndreg_demo notebook looks like it hasn't been updated in a while, updating that to include some of the more recent functionality might fix a bunch of the notes below.\n",
    "\n",
    "- Might be helpful to include some documentation on obtaining volumes using Boss with ndreg documentation\n",
    "    - because there isn't really that much information from the Boss documentation required, so it might be more convienient for the use to just see it along with the ndreg docs\n",
    "    - like in addition to the ndreg_demo notebook, have another demo notebook more catered to registration of brains\n",
    "    \n",
    "- Might also be helpful to have some overall pipeline explanation in the docs (flowchart maybe?) so the user gets a sense of what functionality is available from the ndreg package overall\n"
   ]
  },
  {
   "cell_type": "markdown",
   "metadata": {},
   "source": [
    "## Preprocessing Step"
   ]
  },
  {
   "cell_type": "markdown",
   "metadata": {},
   "source": [
    "- No documentation on the preprocessing functions and steps.  Also t looks like the demo notebook wasn't updated to include the preprocessing step and its functions."
   ]
  },
  {
   "cell_type": "markdown",
   "metadata": {},
   "source": [
    "## Affine Registration"
   ]
  },
  {
   "cell_type": "markdown",
   "metadata": {},
   "source": [
    "- Just missing documentation\n",
    "- I like how a bunch of the functions were consolidated into one method: `register_affine`, a few months ago I remember there were a bunch and it was clunky using them"
   ]
  },
  {
   "cell_type": "markdown",
   "metadata": {},
   "source": [
    "## LDDMM"
   ]
  },
  {
   "cell_type": "markdown",
   "metadata": {},
   "source": [
    "- Explanation of different hyperparameters `[WHITEN_RADIUS, ALPHA, BETA]` and how to choose them is missing\n",
    "- A lot of steps included the use of the `preprocessor.whiten` function and the `sitk.Normalize`, might be helpful to include explanation of when to use such functions.\n",
    "- there seem to be a lot of hyper parameters for the `registerer.register_lddmm` function, but no explanation of what they do\n",
    "    - `[alpha_list, scale_list, epsilon_list, min_epsilon_list0, sigma]`\n",
    "- because some of the steps take a decent amount of time to finish, it might also be useful to have a blurb for each registration step, breifly describing the transformation that the user should be seeing, so the user can see if something went awry before the very last steps."
   ]
  },
  {
   "cell_type": "code",
   "execution_count": null,
   "metadata": {},
   "outputs": [],
   "source": []
  }
 ],
 "metadata": {
  "kernelspec": {
   "display_name": "Python 2",
   "language": "python",
   "name": "python2"
  },
  "language_info": {
   "codemirror_mode": {
    "name": "ipython",
    "version": 2
   },
   "file_extension": ".py",
   "mimetype": "text/x-python",
   "name": "python",
   "nbconvert_exporter": "python",
   "pygments_lexer": "ipython2",
   "version": "2.7.12"
  }
 },
 "nbformat": 4,
 "nbformat_minor": 2
}
