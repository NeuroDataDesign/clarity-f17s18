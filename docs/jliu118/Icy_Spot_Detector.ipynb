{
 "cells": [
  {
   "cell_type": "markdown",
   "metadata": {},
   "source": [
    "# Icy - [Spot Detector Plugin](UnDecimated Wavelet Transfrom detector is designed to detect spots, even if the amount of noise in the image is high.)\n",
    "-------"
   ]
  },
  {
   "cell_type": "markdown",
   "metadata": {},
   "source": [
    "## Step 1: Open file and Convert to Stack\n",
    "\n",
    "## Step 2: Open the Spot Detector plugin\n",
    "\n",
    "## Step 3: Input desired settings and run\n",
    "* Also make sure to check \"Automatic XLS file naming\" and \"Export original image with ROIs and detection\" in the Output tab\n",
    "\n",
    "---------"
   ]
  },
  {
   "cell_type": "markdown",
   "metadata": {},
   "source": [
    "## [Reference Paper: Extraction of spots in biological images using multiscale products](http://www.sciencedirect.com/science/article/pii/S0031320301001273)\n",
    "\n",
    "### Abstract\n",
    "\n",
    "\"We present a new method to detect and count bright spots in fluorescence images coming from biological immunomicroscopy experiments. It is based on the multiscale product of subband images resulting from the à trous wavelet transform decomposition of the original image, after thresholding of non-significant coefficients. The multiscale correlation of the filtered wavelet coefficients, which allows to enhance multiscale peaks due to spots while reducing noise, combines information coming from different levels of resolution and gives a clear and distinctive chacterization of the spots. Results are presented for the analysis of typical immunofluorescence images.\"\n",
    "\n",
    "-----------"
   ]
  },
  {
   "cell_type": "markdown",
   "metadata": {},
   "source": [
    "## Tiff stack outputs\n",
    "\n",
    "* The \"scale\" represents the size of the spot you wish to detect.\n",
    "    * Scale 1 ~ 1 pixel in diameter\n",
    "    * Scale 3 ~ 7 pixels in diameter\n",
    "    * Scale 5 ~ 25 pixels in diameter"
   ]
  },
  {
   "cell_type": "markdown",
   "metadata": {},
   "source": [
    "### Scale 5\n",
    "![](images/icy/scale_5.png)"
   ]
  },
  {
   "cell_type": "markdown",
   "metadata": {},
   "source": [
    "### Scale 4\n",
    "![](images/icy/scale_4.png)"
   ]
  },
  {
   "cell_type": "markdown",
   "metadata": {},
   "source": [
    "### Scale 3\n",
    "![](images/icy/scale_3.png)"
   ]
  },
  {
   "cell_type": "markdown",
   "metadata": {},
   "source": [
    "___________"
   ]
  },
  {
   "cell_type": "markdown",
   "metadata": {},
   "source": [
    "## XLS outputs"
   ]
  },
  {
   "cell_type": "markdown",
   "metadata": {},
   "source": [
    "### Scale 5\n",
    "![](images/icy/xls_5.png)"
   ]
  },
  {
   "cell_type": "markdown",
   "metadata": {
    "collapsed": true
   },
   "source": [
    "* The **ROI nb detection** number of 115 is the number of detected cells in the volume\n",
    "* The list below lists all the detected cells information, the (x, y, z) coordinate being the centroid"
   ]
  },
  {
   "cell_type": "markdown",
   "metadata": {},
   "source": [
    "--------"
   ]
  },
  {
   "cell_type": "markdown",
   "metadata": {},
   "source": [
    "## Disadvantages\n",
    "\n",
    "* Icy can't natively display only the detected cells for a single slice, must display all of them regardless of z\n",
    "    * Alternative could be to take the generated xls file and programatically go through the detected cells and add them to the tiff stack\n",
    "* Need to furthur investigate scripting options with icy\n",
    "    * plugin dependent availability"
   ]
  },
  {
   "cell_type": "code",
   "execution_count": null,
   "metadata": {
    "collapsed": true
   },
   "outputs": [],
   "source": []
  }
 ],
 "metadata": {
  "kernelspec": {
   "display_name": "Python 2",
   "language": "python",
   "name": "python2"
  },
  "language_info": {
   "codemirror_mode": {
    "name": "ipython",
    "version": 2
   },
   "file_extension": ".py",
   "mimetype": "text/x-python",
   "name": "python",
   "nbconvert_exporter": "python",
   "pygments_lexer": "ipython2",
   "version": "2.7.12"
  }
 },
 "nbformat": 4,
 "nbformat_minor": 2
}
